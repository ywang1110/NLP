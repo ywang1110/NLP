{
  "nbformat": 4,
  "nbformat_minor": 0,
  "metadata": {
    "accelerator": "GPU",
    "colab": {
      "name": "QuoraQuestionPairs_BERT_1.ipynb",
      "provenance": [],
      "collapsed_sections": [],
      "machine_shape": "hm",
      "include_colab_link": true
    },
    "kernelspec": {
      "display_name": "Python 3",
      "name": "python3"
    }
  },
  "cells": [
    {
      "cell_type": "markdown",
      "metadata": {
        "id": "view-in-github",
        "colab_type": "text"
      },
      "source": [
        "<a href=\"https://colab.research.google.com/github/ywang1110/NLP/blob/main/QuoraQuestionPairs_BERT_1.ipynb\" target=\"_parent\"><img src=\"https://colab.research.google.com/assets/colab-badge.svg\" alt=\"Open In Colab\"/></a>"
      ]
    },
    {
      "cell_type": "markdown",
      "metadata": {
        "id": "12-FLNP4EtlW"
      },
      "source": [
        "# BERT Setup"
      ]
    },
    {
      "cell_type": "code",
      "metadata": {
        "id": "MfWD7rGWErzn"
      },
      "source": [
        "!pip install -q tf-models-official==2.5.0  # Tensorflow offical models"
      ],
      "execution_count": 2,
      "outputs": []
    },
    {
      "cell_type": "markdown",
      "metadata": {
        "id": "VTK2W6H-Mzvz"
      },
      "source": [
        "[BERT in Keras with Tensorflow hub](https://towardsdatascience.com/bert-in-keras-with-tensorflow-hub-76bcbc9417b)"
      ]
    },
    {
      "cell_type": "code",
      "metadata": {
        "id": "OSuGl73zE9G9"
      },
      "source": [
        "import numpy as np\n",
        "import pandas as pd\n",
        "import matplotlib.pyplot as plt\n",
        "import os\n",
        "\n",
        "import tensorflow as tf\n",
        "\n",
        "# TensorFlow Hub is a repository of trained machine learning models ready for fine-tuning and deployable anywhere. \n",
        "# tensorflow_hub library lets you download and reuse them in your tensorflow program with a minimum amount of code\n",
        "import tensorflow_hub as hub \n",
        "\n",
        "import tensorflow_datasets as tfds\n",
        "tfds.disable_progress_bar()\n",
        "\n",
        "from official.modeling import tf_utils\n",
        "from official import nlp\n",
        "from official.nlp import bert\n",
        "\n",
        "# official models are a collection of models that use Tensorflow's high-level APIs\n",
        "# Load the required submodules\n",
        "import official.nlp.optimization\n",
        "import official.nlp.bert.bert_models\n",
        "import official.nlp.bert.configs\n",
        "import official.nlp.bert.run_classifier\n",
        "import official.nlp.bert.tokenization\n",
        "import official.nlp.data.classifier_data_lib\n",
        "import official.nlp.modeling.losses\n",
        "import official.nlp.modeling.models\n",
        "import official.nlp.modeling.networks"
      ],
      "execution_count": 3,
      "outputs": []
    },
    {
      "cell_type": "code",
      "metadata": {
        "colab": {
          "base_uri": "https://localhost:8080/"
        },
        "id": "nSK73vG4CNVO",
        "outputId": "3adb567e-89f7-46cb-c30b-300d9a3518e2"
      },
      "source": [
        "print(tf.__version__)"
      ],
      "execution_count": 4,
      "outputs": [
        {
          "output_type": "stream",
          "text": [
            "2.5.0\n"
          ],
          "name": "stdout"
        }
      ]
    },
    {
      "cell_type": "code",
      "metadata": {
        "colab": {
          "base_uri": "https://localhost:8080/"
        },
        "id": "xZkX6UdkFCW0",
        "outputId": "351ae42d-f540-454f-edbb-792a3be5e4b6"
      },
      "source": [
        "gs_folder_bert = \"gs://cloud-tpu-checkpoints/bert/keras_bert/uncased_L-12_H-768_A-12\"\n",
        "tf.io.gfile.listdir(gs_folder_bert)"
      ],
      "execution_count": 5,
      "outputs": [
        {
          "output_type": "execute_result",
          "data": {
            "text/plain": [
              "['bert_config.json',\n",
              " 'bert_model.ckpt.data-00000-of-00001',\n",
              " 'bert_model.ckpt.index',\n",
              " 'vocab.txt']"
            ]
          },
          "metadata": {
            "tags": []
          },
          "execution_count": 5
        }
      ]
    },
    {
      "cell_type": "code",
      "metadata": {
        "id": "hViLevL-FGrm"
      },
      "source": [
        "hub_url_bert = \"https://tfhub.dev/tensorflow/bert_en_uncased_L-12_H-768_A-12/2\""
      ],
      "execution_count": 6,
      "outputs": []
    },
    {
      "cell_type": "markdown",
      "metadata": {
        "id": "ak7bWN5VFW1V"
      },
      "source": [
        "## Data Preprocessing"
      ]
    },
    {
      "cell_type": "markdown",
      "metadata": {
        "id": "rHLY76POFlqe"
      },
      "source": [
        "## BERT Tokenizer"
      ]
    },
    {
      "cell_type": "code",
      "metadata": {
        "colab": {
          "base_uri": "https://localhost:8080/"
        },
        "id": "FyNBlQ_PFwwF",
        "outputId": "ceb26ebd-d929-4f2c-fbe7-f110ec30b6e3"
      },
      "source": [
        "# Set up tokenizer to generate Tensorflow dataset\n",
        "tokenizer = bert.tokenization.FullTokenizer(\n",
        "    vocab_file=os.path.join(gs_folder_bert, \"vocab.txt\"),\n",
        "     do_lower_case=True)\n",
        "\n",
        "print(\"Vocab size:\", len(tokenizer.vocab))"
      ],
      "execution_count": 7,
      "outputs": [
        {
          "output_type": "stream",
          "text": [
            "Vocab size: 30522\n"
          ],
          "name": "stdout"
        }
      ]
    },
    {
      "cell_type": "markdown",
      "metadata": {
        "id": "O81Rze0xGE1F"
      },
      "source": [
        "tokenize a question"
      ]
    },
    {
      "cell_type": "code",
      "metadata": {
        "colab": {
          "base_uri": "https://localhost:8080/"
        },
        "id": "wxo-H3WMGEBG",
        "outputId": "ec9e9fc4-2e75-404a-b73e-b1ebcb288631"
      },
      "source": [
        "tokens = tokenizer.tokenize(\"Hello TensorFlow!\")\n",
        "print(tokens)\n",
        "ids = tokenizer.convert_tokens_to_ids(tokens)\n",
        "print(ids)"
      ],
      "execution_count": 8,
      "outputs": [
        {
          "output_type": "stream",
          "text": [
            "['hello', 'tensor', '##flow', '!']\n",
            "[7592, 23435, 12314, 999]\n"
          ],
          "name": "stdout"
        }
      ]
    },
    {
      "cell_type": "markdown",
      "metadata": {
        "id": "0e8etZT-GNK8"
      },
      "source": [
        "### Encode the questions\n",
        "\n",
        "The model expects its two inputs questions to be concatenated together. This input is expected to start with a [CLS] \"This is a classification problem\" token, and each question should end with a [SEP] \"Separator\" token:"
      ]
    },
    {
      "cell_type": "code",
      "metadata": {
        "colab": {
          "base_uri": "https://localhost:8080/"
        },
        "id": "0Mb1F_NEGP_g",
        "outputId": "d2033f6e-6801-43ec-fd9d-1dae3d85e47f"
      },
      "source": [
        "tokenizer.convert_tokens_to_ids(['[CLS]', '[SEP]'])"
      ],
      "execution_count": 9,
      "outputs": [
        {
          "output_type": "execute_result",
          "data": {
            "text/plain": [
              "[101, 102]"
            ]
          },
          "metadata": {
            "tags": []
          },
          "execution_count": 9
        }
      ]
    },
    {
      "cell_type": "markdown",
      "metadata": {
        "id": "4mABJHUyJI6G"
      },
      "source": [
        "**DataFrame.replace()**\n",
        "* Parameters:\n",
        "  1. to_replace:\n",
        "  2. list og str, regex, numeric\n",
        "  3. regex: Whether to interpret to_replace and/or value as regular expressions.If this is True then to_replace must be a string.\n",
        "  4. inplace: If True, performs operation inplace and returns None. \n"
      ]
    },
    {
      "cell_type": "code",
      "metadata": {
        "colab": {
          "base_uri": "https://localhost:8080/"
        },
        "id": "0ZeTFU5zBqin",
        "outputId": "4cee65aa-dc0f-475e-c4b0-c41c6ae1f4e0"
      },
      "source": [
        "from google.colab import drive\n",
        "drive.mount(\"/content/gdrive\")"
      ],
      "execution_count": 10,
      "outputs": [
        {
          "output_type": "stream",
          "text": [
            "Mounted at /content/gdrive\n"
          ],
          "name": "stdout"
        }
      ]
    },
    {
      "cell_type": "code",
      "metadata": {
        "colab": {
          "base_uri": "https://localhost:8080/",
          "height": 206
        },
        "id": "JF9HD9B9FZDN",
        "outputId": "64e72e3d-3cbb-413b-a2f1-431cd21233bd"
      },
      "source": [
        "train_df = pd.read_csv('/content/gdrive/My Drive/NLP/Questions_pair_similiarity/train.csv')\n",
        "train_df.head()"
      ],
      "execution_count": 11,
      "outputs": [
        {
          "output_type": "execute_result",
          "data": {
            "text/html": [
              "<div>\n",
              "<style scoped>\n",
              "    .dataframe tbody tr th:only-of-type {\n",
              "        vertical-align: middle;\n",
              "    }\n",
              "\n",
              "    .dataframe tbody tr th {\n",
              "        vertical-align: top;\n",
              "    }\n",
              "\n",
              "    .dataframe thead th {\n",
              "        text-align: right;\n",
              "    }\n",
              "</style>\n",
              "<table border=\"1\" class=\"dataframe\">\n",
              "  <thead>\n",
              "    <tr style=\"text-align: right;\">\n",
              "      <th></th>\n",
              "      <th>id</th>\n",
              "      <th>qid1</th>\n",
              "      <th>qid2</th>\n",
              "      <th>question1</th>\n",
              "      <th>question2</th>\n",
              "      <th>is_duplicate</th>\n",
              "    </tr>\n",
              "  </thead>\n",
              "  <tbody>\n",
              "    <tr>\n",
              "      <th>0</th>\n",
              "      <td>0</td>\n",
              "      <td>1</td>\n",
              "      <td>2</td>\n",
              "      <td>What is the step by step guide to invest in sh...</td>\n",
              "      <td>What is the step by step guide to invest in sh...</td>\n",
              "      <td>0</td>\n",
              "    </tr>\n",
              "    <tr>\n",
              "      <th>1</th>\n",
              "      <td>1</td>\n",
              "      <td>3</td>\n",
              "      <td>4</td>\n",
              "      <td>What is the story of Kohinoor (Koh-i-Noor) Dia...</td>\n",
              "      <td>What would happen if the Indian government sto...</td>\n",
              "      <td>0</td>\n",
              "    </tr>\n",
              "    <tr>\n",
              "      <th>2</th>\n",
              "      <td>2</td>\n",
              "      <td>5</td>\n",
              "      <td>6</td>\n",
              "      <td>How can I increase the speed of my internet co...</td>\n",
              "      <td>How can Internet speed be increased by hacking...</td>\n",
              "      <td>0</td>\n",
              "    </tr>\n",
              "    <tr>\n",
              "      <th>3</th>\n",
              "      <td>3</td>\n",
              "      <td>7</td>\n",
              "      <td>8</td>\n",
              "      <td>Why am I mentally very lonely? How can I solve...</td>\n",
              "      <td>Find the remainder when [math]23^{24}[/math] i...</td>\n",
              "      <td>0</td>\n",
              "    </tr>\n",
              "    <tr>\n",
              "      <th>4</th>\n",
              "      <td>4</td>\n",
              "      <td>9</td>\n",
              "      <td>10</td>\n",
              "      <td>Which one dissolve in water quikly sugar, salt...</td>\n",
              "      <td>Which fish would survive in salt water?</td>\n",
              "      <td>0</td>\n",
              "    </tr>\n",
              "  </tbody>\n",
              "</table>\n",
              "</div>"
            ],
            "text/plain": [
              "   id  qid1  ...                                          question2 is_duplicate\n",
              "0   0     1  ...  What is the step by step guide to invest in sh...            0\n",
              "1   1     3  ...  What would happen if the Indian government sto...            0\n",
              "2   2     5  ...  How can Internet speed be increased by hacking...            0\n",
              "3   3     7  ...  Find the remainder when [math]23^{24}[/math] i...            0\n",
              "4   4     9  ...            Which fish would survive in salt water?            0\n",
              "\n",
              "[5 rows x 6 columns]"
            ]
          },
          "metadata": {
            "tags": []
          },
          "execution_count": 11
        }
      ]
    },
    {
      "cell_type": "markdown",
      "metadata": {
        "id": "D0m2Qv1gm7JQ"
      },
      "source": [
        "## Missing values"
      ]
    },
    {
      "cell_type": "code",
      "metadata": {
        "colab": {
          "base_uri": "https://localhost:8080/",
          "height": 143
        },
        "id": "g7K2EL2Am9DH",
        "outputId": "cee71ea5-18eb-4eee-9c48-f43a2c841032"
      },
      "source": [
        "#Checking whether there are any rows with null values\n",
        "df_miss = train_df[train_df.isnull().any(1)]\n",
        "df_miss"
      ],
      "execution_count": 12,
      "outputs": [
        {
          "output_type": "execute_result",
          "data": {
            "text/html": [
              "<div>\n",
              "<style scoped>\n",
              "    .dataframe tbody tr th:only-of-type {\n",
              "        vertical-align: middle;\n",
              "    }\n",
              "\n",
              "    .dataframe tbody tr th {\n",
              "        vertical-align: top;\n",
              "    }\n",
              "\n",
              "    .dataframe thead th {\n",
              "        text-align: right;\n",
              "    }\n",
              "</style>\n",
              "<table border=\"1\" class=\"dataframe\">\n",
              "  <thead>\n",
              "    <tr style=\"text-align: right;\">\n",
              "      <th></th>\n",
              "      <th>id</th>\n",
              "      <th>qid1</th>\n",
              "      <th>qid2</th>\n",
              "      <th>question1</th>\n",
              "      <th>question2</th>\n",
              "      <th>is_duplicate</th>\n",
              "    </tr>\n",
              "  </thead>\n",
              "  <tbody>\n",
              "    <tr>\n",
              "      <th>105780</th>\n",
              "      <td>105780</td>\n",
              "      <td>174363</td>\n",
              "      <td>174364</td>\n",
              "      <td>How can I develop android app?</td>\n",
              "      <td>NaN</td>\n",
              "      <td>0</td>\n",
              "    </tr>\n",
              "    <tr>\n",
              "      <th>201841</th>\n",
              "      <td>201841</td>\n",
              "      <td>303951</td>\n",
              "      <td>174364</td>\n",
              "      <td>How can I create an Android app?</td>\n",
              "      <td>NaN</td>\n",
              "      <td>0</td>\n",
              "    </tr>\n",
              "    <tr>\n",
              "      <th>363362</th>\n",
              "      <td>363362</td>\n",
              "      <td>493340</td>\n",
              "      <td>493341</td>\n",
              "      <td>NaN</td>\n",
              "      <td>My Chinese name is Haichao Yu. What English na...</td>\n",
              "      <td>0</td>\n",
              "    </tr>\n",
              "  </tbody>\n",
              "</table>\n",
              "</div>"
            ],
            "text/plain": [
              "            id  ...  is_duplicate\n",
              "105780  105780  ...             0\n",
              "201841  201841  ...             0\n",
              "363362  363362  ...             0\n",
              "\n",
              "[3 rows x 6 columns]"
            ]
          },
          "metadata": {
            "tags": []
          },
          "execution_count": 12
        }
      ]
    },
    {
      "cell_type": "markdown",
      "metadata": {
        "id": "IHZqT-Ponh3W"
      },
      "source": [
        "question1 has 1 null object or missing value and question2 has 2 null objects or missing values."
      ]
    },
    {
      "cell_type": "markdown",
      "metadata": {
        "id": "xSWEteGer1gj"
      },
      "source": [
        "#### Drop rows with null values"
      ]
    },
    {
      "cell_type": "code",
      "metadata": {
        "id": "sSBycGSRr7AJ"
      },
      "source": [
        "train_df.drop(df_miss.index, inplace=True)"
      ],
      "execution_count": 13,
      "outputs": []
    },
    {
      "cell_type": "code",
      "metadata": {
        "colab": {
          "base_uri": "https://localhost:8080/"
        },
        "id": "uA-ttyvksExh",
        "outputId": "dc21777e-5392-4626-89fa-ad098ff69246"
      },
      "source": [
        "train_df.shape"
      ],
      "execution_count": 14,
      "outputs": [
        {
          "output_type": "execute_result",
          "data": {
            "text/plain": [
              "(404287, 6)"
            ]
          },
          "metadata": {
            "tags": []
          },
          "execution_count": 14
        }
      ]
    },
    {
      "cell_type": "code",
      "metadata": {
        "colab": {
          "base_uri": "https://localhost:8080/",
          "height": 36
        },
        "id": "pFtJXaaqMa6r",
        "outputId": "7310c270-77d4-4214-d69e-b0c663f39b67"
      },
      "source": [
        "\n",
        "train_df[\"question1\"][0]"
      ],
      "execution_count": 15,
      "outputs": [
        {
          "output_type": "execute_result",
          "data": {
            "application/vnd.google.colaboratory.intrinsic+json": {
              "type": "string"
            },
            "text/plain": [
              "'What is the step by step guide to invest in share market in india?'"
            ]
          },
          "metadata": {
            "tags": []
          },
          "execution_count": 15
        }
      ]
    },
    {
      "cell_type": "code",
      "metadata": {
        "colab": {
          "base_uri": "https://localhost:8080/"
        },
        "id": "TtHSOznnMgmu",
        "outputId": "94005461-75b4-409c-b38d-652d2d90f3c0"
      },
      "source": [
        "tokenizer.tokenize(train_df[\"question1\"][0])"
      ],
      "execution_count": 16,
      "outputs": [
        {
          "output_type": "execute_result",
          "data": {
            "text/plain": [
              "['what',\n",
              " 'is',\n",
              " 'the',\n",
              " 'step',\n",
              " 'by',\n",
              " 'step',\n",
              " 'guide',\n",
              " 'to',\n",
              " 'invest',\n",
              " 'in',\n",
              " 'share',\n",
              " 'market',\n",
              " 'in',\n",
              " 'india',\n",
              " '?']"
            ]
          },
          "metadata": {
            "tags": []
          },
          "execution_count": 16
        }
      ]
    },
    {
      "cell_type": "code",
      "metadata": {
        "colab": {
          "base_uri": "https://localhost:8080/"
        },
        "id": "GJNpqdg6MoKH",
        "outputId": "42f4e04d-7f0c-4df5-9ad0-b9b975ea956a"
      },
      "source": [
        "# test truncating the number of tokens\n",
        "tokenizer.tokenize(train_df[\"question1\"][0])[:10]"
      ],
      "execution_count": 17,
      "outputs": [
        {
          "output_type": "execute_result",
          "data": {
            "text/plain": [
              "['what', 'is', 'the', 'step', 'by', 'step', 'guide', 'to', 'invest', 'in']"
            ]
          },
          "metadata": {
            "tags": []
          },
          "execution_count": 17
        }
      ]
    },
    {
      "cell_type": "markdown",
      "metadata": {
        "id": "PKkDsbV7Ktg5"
      },
      "source": [
        "#### Ragged tensors\n",
        "* They are the TENSORFLOW equivalent of **nested variable-length lists**\n",
        "* They allow the storage and processing of **non-uniformly shaped data**\n",
        "```\n",
        "numbers = tf.ragged.constant([[8, 9, 3, 4], [], [1, 0], [-6], []])\n",
        "words = tf.ragged.constant([['Hi', 'user'], ['thanks', 'for', 'the', 'keyboard', 'entries']])\n",
        "```\n"
      ]
    },
    {
      "cell_type": "code",
      "metadata": {
        "id": "gV4Y1nIwGbNO"
      },
      "source": [
        "# limit the number of tokens\n",
        "# (it seems that some questions exist with a huge number of tokens)\n",
        "\n",
        "max_tokens = 50\n",
        "\n",
        "def encode_question(s):\n",
        "   tokens = list(tokenizer.tokenize(s))[:max_tokens]\n",
        "   tokens.append('[SEP]')\n",
        "   return tokenizer.convert_tokens_to_ids(tokens)  \n",
        "   # Converts a sequence of tokens (or just one) in a sequence of ids (or just one), using the vocabulary.\n",
        "\n",
        "\n",
        "question1 = tf.ragged.constant([\n",
        "    encode_question(s) for s in train_df[\"question1\"]])\n",
        "\n",
        "question2 = tf.ragged.constant([\n",
        "    encode_question(s) for s in train_df[\"question2\"]])"
      ],
      "execution_count": 18,
      "outputs": []
    },
    {
      "cell_type": "code",
      "metadata": {
        "colab": {
          "base_uri": "https://localhost:8080/"
        },
        "id": "Onf2aFkoHBko",
        "outputId": "bf3e5bdf-e94f-4bf5-ea15-d35c55d675ff"
      },
      "source": [
        "print(\"Question1 shape:\", question1.shape.as_list())\n",
        "print(\"Question2 shape:\", question2.shape.as_list())"
      ],
      "execution_count": 19,
      "outputs": [
        {
          "output_type": "stream",
          "text": [
            "Question1 shape: [404287, None]\n",
            "Question2 shape: [404287, None]\n"
          ],
          "name": "stdout"
        }
      ]
    },
    {
      "cell_type": "code",
      "metadata": {
        "colab": {
          "base_uri": "https://localhost:8080/"
        },
        "id": "3d6RnIabMGoE",
        "outputId": "01ebb315-daf9-476c-ef0b-917bcaa83946"
      },
      "source": [
        "question1[0]"
      ],
      "execution_count": 20,
      "outputs": [
        {
          "output_type": "execute_result",
          "data": {
            "text/plain": [
              "<tf.Tensor: shape=(16,), dtype=int32, numpy=\n",
              "array([ 2054,  2003,  1996,  3357,  2011,  3357,  5009,  2000, 15697,\n",
              "        1999,  3745,  3006,  1999,  2634,  1029,   102], dtype=int32)>"
            ]
          },
          "metadata": {
            "tags": []
          },
          "execution_count": 20
        }
      ]
    },
    {
      "cell_type": "markdown",
      "metadata": {
        "id": "OlBKHu1CL91A"
      },
      "source": [
        "102 represents [SEP]"
      ]
    },
    {
      "cell_type": "markdown",
      "metadata": {
        "id": "1tqOcdExHhgV"
      },
      "source": [
        "Now prepend a [CLS] token, and concatenate the ragged tensors to form a single input_word_ids tensor for each example. RaggedTensor.to_tensor() zero pads to the longest sequence."
      ]
    },
    {
      "cell_type": "markdown",
      "metadata": {
        "id": "OwgE0Kr0M9kC"
      },
      "source": [
        "**plt.pcolormesh([X, Y])**\n",
        "* Create a **pseudocolor plot** with a non-regular rectangular grid"
      ]
    },
    {
      "cell_type": "code",
      "metadata": {
        "colab": {
          "base_uri": "https://localhost:8080/",
          "height": 267
        },
        "id": "Gfhg-sdaHi-2",
        "outputId": "08d78ae4-c747-40cd-aa41-bb1d66b10d3f"
      },
      "source": [
        "cls = [tokenizer.convert_tokens_to_ids(['[CLS]'])]*question1.shape[0]  # Constrcut the same dimensionality [CLS] with question 1 to prepend\n",
        "input_word_ids = tf.concat([cls, question1, question2], axis=-1)\n",
        "_ = plt.pcolormesh(input_word_ids.to_tensor())"
      ],
      "execution_count": 21,
      "outputs": [
        {
          "output_type": "display_data",
          "data": {
            "image/png": "[encoded data removed]",
            "text/plain": [
              "<Figure size 432x288 with 1 Axes>"
            ]
          },
          "metadata": {
            "tags": [],
            "needs_background": "light"
          }
        }
      ]
    },
    {
      "cell_type": "code",
      "metadata": {
        "colab": {
          "base_uri": "https://localhost:8080/"
        },
        "id": "gHYSg-fZMo39",
        "outputId": "34b15228-f81b-4b35-bf6c-9e6d7b7c8a06"
      },
      "source": [
        "type(input_word_ids)"
      ],
      "execution_count": 22,
      "outputs": [
        {
          "output_type": "execute_result",
          "data": {
            "text/plain": [
              "tensorflow.python.ops.ragged.ragged_tensor.RaggedTensor"
            ]
          },
          "metadata": {
            "tags": []
          },
          "execution_count": 22
        }
      ]
    },
    {
      "cell_type": "code",
      "metadata": {
        "colab": {
          "base_uri": "https://localhost:8080/"
        },
        "id": "_dEowYIXOBr0",
        "outputId": "344efb7e-c0ea-4988-c29f-4424f4fe7d0c"
      },
      "source": [
        "type(input_word_ids.to_tensor())"
      ],
      "execution_count": 23,
      "outputs": [
        {
          "output_type": "execute_result",
          "data": {
            "text/plain": [
              "tensorflow.python.framework.ops.EagerTensor"
            ]
          },
          "metadata": {
            "tags": []
          },
          "execution_count": 23
        }
      ]
    },
    {
      "cell_type": "code",
      "metadata": {
        "colab": {
          "base_uri": "https://localhost:8080/"
        },
        "id": "lRSVEWmxP-om",
        "outputId": "da8a5834-e293-4db0-c196-d3852a244f91"
      },
      "source": [
        "input_word_ids.numpy().shape"
      ],
      "execution_count": 24,
      "outputs": [
        {
          "output_type": "stream",
          "text": [
            "/usr/local/lib/python3.7/dist-packages/tensorflow/python/ops/ragged/ragged_tensor.py:2053: VisibleDeprecationWarning: Creating an ndarray from ragged nested sequences (which is a list-or-tuple of lists-or-tuples-or ndarrays with different lengths or shapes) is deprecated. If you meant to do this, you must specify 'dtype=object' when creating the ndarray\n",
            "  return np.array(rows)\n"
          ],
          "name": "stderr"
        },
        {
          "output_type": "execute_result",
          "data": {
            "text/plain": [
              "(404287,)"
            ]
          },
          "metadata": {
            "tags": []
          },
          "execution_count": 24
        }
      ]
    },
    {
      "cell_type": "markdown",
      "metadata": {
        "id": "Vt8b876hIlK7"
      },
      "source": [
        "## Mask and input type\n",
        "\n",
        "The model expects **two additional inputs**:\n",
        "\n",
        "* The input mask\n",
        "* The input type\n",
        "\n",
        "The mask allows the model to cleanly **differentiate** between the **content and the padding**. **The mask** has the **same shape** as the i**nput_word_ids**, and **contains a 1 anywhere** the input_word_ids is not padding."
      ]
    },
    {
      "cell_type": "code",
      "metadata": {
        "colab": {
          "base_uri": "https://localhost:8080/",
          "height": 286
        },
        "id": "AtwQMOOOIrq6",
        "outputId": "e87459c4-0061-4632-f50f-cc333cba623d"
      },
      "source": [
        "input_mask = tf.ones_like(input_word_ids).to_tensor()\n",
        "\n",
        "plt.pcolormesh(input_mask)"
      ],
      "execution_count": 25,
      "outputs": [
        {
          "output_type": "execute_result",
          "data": {
            "text/plain": [
              "<matplotlib.collections.QuadMesh at 0x7fb6ca1f87d0>"
            ]
          },
          "metadata": {
            "tags": []
          },
          "execution_count": 25
        },
        {
          "output_type": "display_data",
          "data": {
            "image/png": "[encoded data removed]",
            "text/plain": [
              "<Figure size 432x288 with 1 Axes>"
            ]
          },
          "metadata": {
            "tags": [],
            "needs_background": "light"
          }
        }
      ]
    },
    {
      "cell_type": "markdown",
      "metadata": {
        "id": "BsUZ_0OBJjCi"
      },
      "source": [
        "The \"input type\" also has the same shape, but inside the non-padded region, contains a 0 or a 1 indicating which sentence the token is a part of."
      ]
    },
    {
      "cell_type": "code",
      "metadata": {
        "colab": {
          "base_uri": "https://localhost:8080/",
          "height": 286
        },
        "id": "8djJyLUtJkfw",
        "outputId": "b9956ef0-f235-4ceb-c00b-5db7979dd9c9"
      },
      "source": [
        "type_cls = tf.zeros_like(cls)      # Creates a tensor with all elements set to zero\n",
        "type_s1 = tf.zeros_like(question1)\n",
        "type_s2 = tf.ones_like(question2)\n",
        "input_type_ids = tf.concat([type_cls, type_s1, type_s2], axis=-1).to_tensor()\n",
        "\n",
        "plt.pcolormesh(input_type_ids)"
      ],
      "execution_count": 26,
      "outputs": [
        {
          "output_type": "execute_result",
          "data": {
            "text/plain": [
              "<matplotlib.collections.QuadMesh at 0x7fb6c7bdeb10>"
            ]
          },
          "metadata": {
            "tags": []
          },
          "execution_count": 26
        },
        {
          "output_type": "display_data",
          "data": {
            "image/png": "[encoded data removed]",
            "text/plain": [
              "<Figure size 432x288 with 1 Axes>"
            ]
          },
          "metadata": {
            "tags": [],
            "needs_background": "light"
          }
        }
      ]
    },
    {
      "cell_type": "code",
      "metadata": {
        "colab": {
          "base_uri": "https://localhost:8080/"
        },
        "id": "0vuc9ZB0Qo2W",
        "outputId": "c3774cb6-462a-4ffa-fa79-a6813bcbd866"
      },
      "source": [
        "import gc\n",
        "\n",
        "# free up memory before proceeding\n",
        "del question1\n",
        "del question2\n",
        "del input_word_ids\n",
        "del cls\n",
        "del input_mask\n",
        "del type_cls\n",
        "del type_s1\n",
        "del type_s2\n",
        "del input_type_ids\n",
        "gc.collect()"
      ],
      "execution_count": 27,
      "outputs": [
        {
          "output_type": "execute_result",
          "data": {
            "text/plain": [
              "2454"
            ]
          },
          "metadata": {
            "tags": []
          },
          "execution_count": 27
        }
      ]
    },
    {
      "cell_type": "markdown",
      "metadata": {
        "id": "KZBIBp_kKDvj"
      },
      "source": [
        "### Put it all together\n",
        "\n",
        "Collect the above text parsing code into a single function, and apply it to each split of the dataset."
      ]
    },
    {
      "cell_type": "code",
      "metadata": {
        "id": "B3TEOJfpKOoP"
      },
      "source": [
        "# limit the number of tokens\n",
        "# (it seems that some questions exist with a huge number of tokens)\n",
        "max_tokens = 50\n",
        "\n",
        "def encode_question(s, tokenizer):\n",
        "   tokens = list(tokenizer.tokenize(s))[:max_tokens]\n",
        "   tokens.append('[SEP]')\n",
        "   return tokenizer.convert_tokens_to_ids(tokens)\n",
        "\n",
        "def bert_encode(data_dict, tokenizer):\n",
        "  num_examples = len(data_dict[\"question1\"])\n",
        "  \n",
        "  question1 = tf.ragged.constant([\n",
        "      encode_question(s, tokenizer)\n",
        "      for s in np.array(data_dict[\"question1\"])])\n",
        "  question2 = tf.ragged.constant([\n",
        "      encode_question(s, tokenizer)\n",
        "       for s in np.array(data_dict[\"question2\"])])\n",
        "\n",
        "  cls = [tokenizer.convert_tokens_to_ids(['[CLS]'])]*question1.shape[0]\n",
        "  input_word_ids = tf.concat([cls, question1, question2], axis=-1)\n",
        "\n",
        "  input_mask = tf.ones_like(input_word_ids).to_tensor()\n",
        "\n",
        "  type_cls = tf.zeros_like(cls)\n",
        "  type_s1 = tf.zeros_like(question1)\n",
        "  type_s2 = tf.ones_like(question2)\n",
        "  input_type_ids = tf.concat(\n",
        "      [type_cls, type_s1, type_s2], axis=-1).to_tensor()\n",
        "\n",
        "  inputs = {\n",
        "      'input_word_ids': input_word_ids.to_tensor(),\n",
        "      'input_mask': input_mask,\n",
        "      'input_type_ids': input_type_ids}\n",
        "\n",
        "  return inputs"
      ],
      "execution_count": 28,
      "outputs": []
    },
    {
      "cell_type": "code",
      "metadata": {
        "id": "O_4jayhJOO_1"
      },
      "source": [
        "# training \\ validation split\n",
        "from sklearn.model_selection import train_test_split\n",
        "\n",
        "x_train, x_valid, train_labels, validation_labels = train_test_split(train_df,\n",
        "                                                      train_df['is_duplicate'], \n",
        "                                                      test_size=0.3, \n",
        "                                                      stratify=train_df['is_duplicate'], \n",
        "                                                      random_state=0)"
      ],
      "execution_count": 29,
      "outputs": []
    },
    {
      "cell_type": "code",
      "metadata": {
        "colab": {
          "base_uri": "https://localhost:8080/"
        },
        "id": "RZ7gB4GIXSEy",
        "outputId": "ae084915-a032-4bb2-8fbb-e0cb339f1124"
      },
      "source": [
        "x_train.shape"
      ],
      "execution_count": 30,
      "outputs": [
        {
          "output_type": "execute_result",
          "data": {
            "text/plain": [
              "(283000, 6)"
            ]
          },
          "metadata": {
            "tags": []
          },
          "execution_count": 30
        }
      ]
    },
    {
      "cell_type": "code",
      "metadata": {
        "colab": {
          "base_uri": "https://localhost:8080/",
          "height": 206
        },
        "id": "3Krnn72SYOrR",
        "outputId": "6bd7f2f3-3ec3-4c14-c7a8-f3621318016d"
      },
      "source": [
        "x_train.head()"
      ],
      "execution_count": 31,
      "outputs": [
        {
          "output_type": "execute_result",
          "data": {
            "text/html": [
              "<div>\n",
              "<style scoped>\n",
              "    .dataframe tbody tr th:only-of-type {\n",
              "        vertical-align: middle;\n",
              "    }\n",
              "\n",
              "    .dataframe tbody tr th {\n",
              "        vertical-align: top;\n",
              "    }\n",
              "\n",
              "    .dataframe thead th {\n",
              "        text-align: right;\n",
              "    }\n",
              "</style>\n",
              "<table border=\"1\" class=\"dataframe\">\n",
              "  <thead>\n",
              "    <tr style=\"text-align: right;\">\n",
              "      <th></th>\n",
              "      <th>id</th>\n",
              "      <th>qid1</th>\n",
              "      <th>qid2</th>\n",
              "      <th>question1</th>\n",
              "      <th>question2</th>\n",
              "      <th>is_duplicate</th>\n",
              "    </tr>\n",
              "  </thead>\n",
              "  <tbody>\n",
              "    <tr>\n",
              "      <th>149093</th>\n",
              "      <td>149093</td>\n",
              "      <td>234938</td>\n",
              "      <td>234939</td>\n",
              "      <td>How much do Uber drivers make in Houston?</td>\n",
              "      <td>How much does an Uber driver make in Houston o...</td>\n",
              "      <td>1</td>\n",
              "    </tr>\n",
              "    <tr>\n",
              "      <th>239294</th>\n",
              "      <td>239294</td>\n",
              "      <td>128118</td>\n",
              "      <td>206422</td>\n",
              "      <td>What are the movies that made you cry?</td>\n",
              "      <td>Which film/films made you cry? Don't forget to...</td>\n",
              "      <td>1</td>\n",
              "    </tr>\n",
              "    <tr>\n",
              "      <th>53929</th>\n",
              "      <td>53929</td>\n",
              "      <td>95260</td>\n",
              "      <td>95261</td>\n",
              "      <td>Why Delhi has high gun crime rates?</td>\n",
              "      <td>Why don't Jamia Millia Islamia's engineering c...</td>\n",
              "      <td>0</td>\n",
              "    </tr>\n",
              "    <tr>\n",
              "      <th>195713</th>\n",
              "      <td>195713</td>\n",
              "      <td>16462</td>\n",
              "      <td>82715</td>\n",
              "      <td>How can I improve my communication and verbal ...</td>\n",
              "      <td>How can you improve your communication skill?</td>\n",
              "      <td>1</td>\n",
              "    </tr>\n",
              "    <tr>\n",
              "      <th>80135</th>\n",
              "      <td>80135</td>\n",
              "      <td>110287</td>\n",
              "      <td>21840</td>\n",
              "      <td>Which is the best film?</td>\n",
              "      <td>What are the best movies of all time?</td>\n",
              "      <td>0</td>\n",
              "    </tr>\n",
              "  </tbody>\n",
              "</table>\n",
              "</div>"
            ],
            "text/plain": [
              "            id  ...  is_duplicate\n",
              "149093  149093  ...             1\n",
              "239294  239294  ...             1\n",
              "53929    53929  ...             0\n",
              "195713  195713  ...             1\n",
              "80135    80135  ...             0\n",
              "\n",
              "[5 rows x 6 columns]"
            ]
          },
          "metadata": {
            "tags": []
          },
          "execution_count": 31
        }
      ]
    },
    {
      "cell_type": "code",
      "metadata": {
        "colab": {
          "base_uri": "https://localhost:8080/"
        },
        "id": "PBJxEilfc3Cm",
        "outputId": "c0d90455-046f-4c68-9bca-7faf1d2d66f1"
      },
      "source": [
        "train_labels.shape"
      ],
      "execution_count": 32,
      "outputs": [
        {
          "output_type": "execute_result",
          "data": {
            "text/plain": [
              "(283000,)"
            ]
          },
          "metadata": {
            "tags": []
          },
          "execution_count": 32
        }
      ]
    },
    {
      "cell_type": "code",
      "metadata": {
        "colab": {
          "base_uri": "https://localhost:8080/"
        },
        "id": "1Fg6gLndQNNP",
        "outputId": "7b956659-cc03-4946-9329-455eb6f6b2c5"
      },
      "source": [
        "%%time\n",
        "train = bert_encode(x_train, tokenizer)\n",
        "validation = bert_encode(x_valid, tokenizer)"
      ],
      "execution_count": 33,
      "outputs": [
        {
          "output_type": "stream",
          "text": [
            "CPU times: user 3min 8s, sys: 585 ms, total: 3min 8s\n",
            "Wall time: 3min 8s\n"
          ],
          "name": "stdout"
        }
      ]
    },
    {
      "cell_type": "markdown",
      "metadata": {
        "id": "-f7GBzx0RswU"
      },
      "source": [
        "Each subset of the data has been converted to a dictionary of features, and a set of labels. Each feature in the input dictionary has the same shape, and the number of labels should match:"
      ]
    },
    {
      "cell_type": "code",
      "metadata": {
        "colab": {
          "base_uri": "https://localhost:8080/"
        },
        "id": "PNcTUlpCX2r3",
        "outputId": "e19478fb-7420-463c-9e00-0891c9086cf7"
      },
      "source": [
        "train"
      ],
      "execution_count": 34,
      "outputs": [
        {
          "output_type": "execute_result",
          "data": {
            "text/plain": [
              "{'input_mask': <tf.Tensor: shape=(283000, 103), dtype=int32, numpy=\n",
              " array([[1, 1, 1, ..., 0, 0, 0],\n",
              "        [1, 1, 1, ..., 0, 0, 0],\n",
              "        [1, 1, 1, ..., 0, 0, 0],\n",
              "        ...,\n",
              "        [1, 1, 1, ..., 0, 0, 0],\n",
              "        [1, 1, 1, ..., 0, 0, 0],\n",
              "        [1, 1, 1, ..., 0, 0, 0]], dtype=int32)>,\n",
              " 'input_type_ids': <tf.Tensor: shape=(283000, 103), dtype=int32, numpy=\n",
              " array([[0, 0, 0, ..., 0, 0, 0],\n",
              "        [0, 0, 0, ..., 0, 0, 0],\n",
              "        [0, 0, 0, ..., 0, 0, 0],\n",
              "        ...,\n",
              "        [0, 0, 0, ..., 0, 0, 0],\n",
              "        [0, 0, 0, ..., 0, 0, 0],\n",
              "        [0, 0, 0, ..., 0, 0, 0]], dtype=int32)>,\n",
              " 'input_word_ids': <tf.Tensor: shape=(283000, 103), dtype=int32, numpy=\n",
              " array([[  101,  2129,  2172, ...,     0,     0,     0],\n",
              "        [  101,  2054,  2024, ...,     0,     0,     0],\n",
              "        [  101,  2339,  6768, ...,     0,     0,     0],\n",
              "        ...,\n",
              "        [  101,  2097,  2111, ...,     0,     0,     0],\n",
              "        [  101,  2129,  2116, ...,     0,     0,     0],\n",
              "        [  101,  2003, 19739, ...,     0,     0,     0]], dtype=int32)>}"
            ]
          },
          "metadata": {
            "tags": []
          },
          "execution_count": 34
        }
      ]
    },
    {
      "cell_type": "code",
      "metadata": {
        "colab": {
          "base_uri": "https://localhost:8080/"
        },
        "id": "Bqt6mCmPRtni",
        "outputId": "277ff188-0365-48de-9738-927aae9c7254"
      },
      "source": [
        "for key, value in train.items():\n",
        "  print(f'{key:15s} shape: {value.shape}')\n",
        "\n",
        "print(f'train_labels shape: {train_labels.shape}')"
      ],
      "execution_count": 35,
      "outputs": [
        {
          "output_type": "stream",
          "text": [
            "input_word_ids  shape: (283000, 103)\n",
            "input_mask      shape: (283000, 103)\n",
            "input_type_ids  shape: (283000, 103)\n",
            "train_labels shape: (283000,)\n"
          ],
          "name": "stdout"
        }
      ]
    },
    {
      "cell_type": "code",
      "metadata": {
        "colab": {
          "base_uri": "https://localhost:8080/"
        },
        "id": "rDKP_1R4ygVP",
        "outputId": "3866b335-fabe-4363-a8b7-12791c3397a1"
      },
      "source": [
        "train_labels"
      ],
      "execution_count": 36,
      "outputs": [
        {
          "output_type": "execute_result",
          "data": {
            "text/plain": [
              "149093    1\n",
              "239294    1\n",
              "53929     0\n",
              "195713    1\n",
              "80135     0\n",
              "         ..\n",
              "278402    1\n",
              "205379    0\n",
              "252850    1\n",
              "240291    0\n",
              "77180     0\n",
              "Name: is_duplicate, Length: 283000, dtype: int64"
            ]
          },
          "metadata": {
            "tags": []
          },
          "execution_count": 36
        }
      ]
    },
    {
      "cell_type": "markdown",
      "metadata": {
        "id": "1CPr4Rg4SFfM"
      },
      "source": [
        "# The Model"
      ]
    },
    {
      "cell_type": "markdown",
      "metadata": {
        "id": "-x6aR5NESM_U"
      },
      "source": [
        "download the configuration for pre-trained model"
      ]
    },
    {
      "cell_type": "code",
      "metadata": {
        "colab": {
          "base_uri": "https://localhost:8080/"
        },
        "id": "6s71A-vuSIgH",
        "outputId": "6340e5c5-9f98-41d4-a7aa-b84a83fd3ff2"
      },
      "source": [
        "import json\n",
        "\n",
        "bert_config_file = os.path.join(gs_folder_bert, \"bert_config.json\")\n",
        "config_dict = json.loads(tf.io.gfile.GFile(bert_config_file).read())\n",
        "\n",
        "bert_config = bert.configs.BertConfig.from_dict(config_dict)\n",
        "\n",
        "config_dict"
      ],
      "execution_count": 37,
      "outputs": [
        {
          "output_type": "execute_result",
          "data": {
            "text/plain": [
              "{'attention_probs_dropout_prob': 0.1,\n",
              " 'hidden_act': 'gelu',\n",
              " 'hidden_dropout_prob': 0.1,\n",
              " 'hidden_size': 768,\n",
              " 'initializer_range': 0.02,\n",
              " 'intermediate_size': 3072,\n",
              " 'max_position_embeddings': 512,\n",
              " 'num_attention_heads': 12,\n",
              " 'num_hidden_layers': 12,\n",
              " 'type_vocab_size': 2,\n",
              " 'vocab_size': 30522}"
            ]
          },
          "metadata": {
            "tags": []
          },
          "execution_count": 37
        }
      ]
    },
    {
      "cell_type": "markdown",
      "metadata": {
        "id": "TUmontAGSev0"
      },
      "source": [
        "The config defines the core BERT Model, which is a Keras model to predict the outputs of num_classes from the inputs with maximum sequence length max_seq_length.\n",
        "\n",
        "This function returns both the encoder and the classifier."
      ]
    },
    {
      "cell_type": "code",
      "metadata": {
        "id": "FI5ttWOnShQs",
        "colab": {
          "base_uri": "https://localhost:8080/"
        },
        "outputId": "50662edd-023d-4839-c968-e63bb435cb5d"
      },
      "source": [
        "bert_classifier, bert_encoder = bert.bert_models.classifier_model( bert_config, num_labels=2 )"
      ],
      "execution_count": 38,
      "outputs": [
        {
          "output_type": "stream",
          "text": [
            "WARNING:tensorflow:From /usr/local/lib/python3.7/dist-packages/tensorflow/python/ops/array_ops.py:5049: calling gather (from tensorflow.python.ops.array_ops) with validate_indices is deprecated and will be removed in a future version.\n",
            "Instructions for updating:\n",
            "The `validate_indices` argument has no effect. Indices are always validated on CPU and never validated on GPU.\n"
          ],
          "name": "stdout"
        }
      ]
    },
    {
      "cell_type": "markdown",
      "metadata": {
        "id": "9AuZN4OGSw01"
      },
      "source": [
        "The classifier has three inputs and one output:"
      ]
    },
    {
      "cell_type": "code",
      "metadata": {
        "colab": {
          "base_uri": "https://localhost:8080/",
          "height": 355
        },
        "id": "wLiry_n2Syg3",
        "outputId": "902f615f-dcfc-44b2-f7f6-52a06bc31cbd"
      },
      "source": [
        "tf.keras.utils.plot_model(bert_classifier, show_shapes=True, dpi=80)"
      ],
      "execution_count": 39,
      "outputs": [
        {
          "output_type": "execute_result",
          "data": {
            "image/png": "[encoded data removed]",
            "text/plain": [
              "<IPython.core.display.Image object>"
            ]
          },
          "metadata": {
            "tags": []
          },
          "execution_count": 39
        }
      ]
    },
    {
      "cell_type": "code",
      "metadata": {
        "colab": {
          "base_uri": "https://localhost:8080/"
        },
        "id": "e1kUR89_oRlV",
        "outputId": "aee32670-7bc2-4eeb-cd5a-255eea8c62cb"
      },
      "source": [
        "bert_classifier.summary()"
      ],
      "execution_count": 40,
      "outputs": [
        {
          "output_type": "stream",
          "text": [
            "Model: \"bert_classifier\"\n",
            "__________________________________________________________________________________________________\n",
            "Layer (type)                    Output Shape         Param #     Connected to                     \n",
            "==================================================================================================\n",
            "input_word_ids (InputLayer)     [(None, None)]       0                                            \n",
            "__________________________________________________________________________________________________\n",
            "input_mask (InputLayer)         [(None, None)]       0                                            \n",
            "__________________________________________________________________________________________________\n",
            "input_type_ids (InputLayer)     [(None, None)]       0                                            \n",
            "__________________________________________________________________________________________________\n",
            "transformer_encoder (Transforme [(None, None, 768),  109482240   input_word_ids[0][0]             \n",
            "                                                                 input_mask[0][0]                 \n",
            "                                                                 input_type_ids[0][0]             \n",
            "__________________________________________________________________________________________________\n",
            "dropout_1 (Dropout)             (None, 768)          0           transformer_encoder[0][1]        \n",
            "__________________________________________________________________________________________________\n",
            "classification (Classification) (None, 2)            1538        dropout_1[0][0]                  \n",
            "==================================================================================================\n",
            "Total params: 109,483,778\n",
            "Trainable params: 109,483,778\n",
            "Non-trainable params: 0\n",
            "__________________________________________________________________________________________________\n"
          ],
          "name": "stdout"
        }
      ]
    },
    {
      "cell_type": "markdown",
      "metadata": {
        "id": "ELBXdZjsTE3e"
      },
      "source": [
        "Run it on a test batch of data 10 examples from the training set. The output is the logits for the two classes:"
      ]
    },
    {
      "cell_type": "code",
      "metadata": {
        "colab": {
          "base_uri": "https://localhost:8080/"
        },
        "id": "0KqMZEeOTHPI",
        "outputId": "50e09481-9824-4eeb-ae1c-3547d5f26f57"
      },
      "source": [
        "data_batch = {key: val[:10] for key, val in train.items()}\n",
        "\n",
        "bert_classifier(\n",
        "    data_batch, training=True\n",
        ").numpy()"
      ],
      "execution_count": 41,
      "outputs": [
        {
          "output_type": "execute_result",
          "data": {
            "text/plain": [
              "array([[-0.2028877 ,  0.13556166],\n",
              "       [-0.20839866,  0.46251246],\n",
              "       [ 0.15906239,  0.21163711],\n",
              "       [-0.08746268,  0.16786152],\n",
              "       [-0.0818378 , -0.040961  ],\n",
              "       [-0.09236995,  0.04454967],\n",
              "       [ 0.04070425,  0.06013074],\n",
              "       [-0.17317143,  0.11121346],\n",
              "       [-0.17896399,  0.22426379],\n",
              "       [-0.18505253,  0.15302056]], dtype=float32)"
            ]
          },
          "metadata": {
            "tags": []
          },
          "execution_count": 41
        }
      ]
    },
    {
      "cell_type": "markdown",
      "metadata": {
        "id": "zMO1ZY-0Ta-t"
      },
      "source": [
        "The TransformerEncoder in the center of the classifier above is the bert_encoder.\n",
        "\n",
        "Inspecting the encoder, we see its stack of Transformer layers connected to those same three inputs:"
      ]
    },
    {
      "cell_type": "code",
      "metadata": {
        "colab": {
          "base_uri": "https://localhost:8080/",
          "height": 1000
        },
        "id": "_Oy7kDGrTdOo",
        "outputId": "88f47c45-ee76-48e9-b01f-2d151d9c73e0"
      },
      "source": [
        "tf.keras.utils.plot_model(bert_encoder, show_shapes=True, dpi=48)"
      ],
      "execution_count": 42,
      "outputs": [
        {
          "output_type": "execute_result",
          "data": {
            "image/png": "[encoded data removed]",
            "text/plain": [
              "<IPython.core.display.Image object>"
            ]
          },
          "metadata": {
            "tags": []
          },
          "execution_count": 42
        }
      ]
    },
    {
      "cell_type": "markdown",
      "metadata": {
        "id": "QG1ohD9jT2el"
      },
      "source": [
        "## Restore the encoder weights\n",
        "\n",
        "When built the encoder is randomly initialized. Restore the encoder's weights from the checkpoint:"
      ]
    },
    {
      "cell_type": "code",
      "metadata": {
        "colab": {
          "base_uri": "https://localhost:8080/"
        },
        "id": "xkBli-7VUB3y",
        "outputId": "8c5d1c91-6ad0-437d-a82a-3fac9d2d2810"
      },
      "source": [
        "checkpoint = tf.train.Checkpoint(model=bert_encoder)\n",
        "checkpoint.restore(\n",
        "    os.path.join(gs_folder_bert, 'bert_model.ckpt')).assert_consumed()"
      ],
      "execution_count": 43,
      "outputs": [
        {
          "output_type": "execute_result",
          "data": {
            "text/plain": [
              "<tensorflow.python.training.tracking.util.CheckpointLoadStatus at 0x7fb6ca77d4d0>"
            ]
          },
          "metadata": {
            "tags": []
          },
          "execution_count": 43
        }
      ]
    },
    {
      "cell_type": "markdown",
      "metadata": {
        "id": "_jMSQw_KUUx7"
      },
      "source": [
        "## Set up the optimizer\n",
        "\n",
        "BERT adopts the Adam optimizer with weight decay (aka \"AdamW\"). It also employs a learning rate schedule that firstly warms up from 0 and then decays to 0."
      ]
    },
    {
      "cell_type": "code",
      "metadata": {
        "id": "odqvvkhUUXPW"
      },
      "source": [
        "# Set up epochs and steps\n",
        "epochs = 4\n",
        "batch_size = 16 # GPU recommend 16 | TPU recommend 32\n",
        "eval_batch_size = 16\n",
        "\n",
        "train_data_size = len(train_labels)\n",
        "steps_per_epoch = int(train_data_size / batch_size)\n",
        "num_train_steps = steps_per_epoch * epochs\n",
        "warmup_steps = int(epochs * train_data_size * 0.1 / batch_size)\n",
        "\n",
        "# creates an optimizer with learning rate schedule\n",
        "optimizer = nlp.optimization.create_optimizer( 2e-5, num_train_steps=num_train_steps, num_warmup_steps=warmup_steps )"
      ],
      "execution_count": 44,
      "outputs": []
    },
    {
      "cell_type": "markdown",
      "metadata": {
        "id": "dOVQUbjZUrak"
      },
      "source": [
        "## Train the model"
      ]
    },
    {
      "cell_type": "code",
      "metadata": {
        "colab": {
          "base_uri": "https://localhost:8080/"
        },
        "id": "DefSBEdlUu8f",
        "outputId": "50f1cafa-862e-44c8-ba42-da53ea5ad890"
      },
      "source": [
        "metrics = [tf.keras.metrics.SparseCategoricalAccuracy('accuracy', dtype=tf.float32)]\n",
        "loss = tf.keras.losses.SparseCategoricalCrossentropy(from_logits=True)\n",
        "\n",
        "bert_classifier.compile(\n",
        "    optimizer=optimizer,\n",
        "    loss=loss,\n",
        "    metrics=metrics)\n",
        "\n",
        "history = bert_classifier.fit( train, train_labels,\n",
        "                               validation_data=(validation, validation_labels),\n",
        "                               batch_size=batch_size,\n",
        "                               epochs=epochs)"
      ],
      "execution_count": 45,
      "outputs": [
        {
          "output_type": "stream",
          "text": [
            "Epoch 1/4\n",
            "17688/17688 [==============================] - 4116s 232ms/step - loss: 0.3383 - accuracy: 0.8443 - val_loss: 0.2592 - val_accuracy: 0.8894\n",
            "Epoch 2/4\n",
            "17688/17688 [==============================] - 4100s 232ms/step - loss: 0.2143 - accuracy: 0.9178 - val_loss: 0.2468 - val_accuracy: 0.9052\n",
            "Epoch 3/4\n",
            "17688/17688 [==============================] - 4108s 232ms/step - loss: 0.1511 - accuracy: 0.9530 - val_loss: 0.3291 - val_accuracy: 0.9087\n",
            "Epoch 4/4\n",
            "17688/17688 [==============================] - 4095s 232ms/step - loss: 0.1031 - accuracy: 0.9731 - val_loss: 0.4163 - val_accuracy: 0.9094\n"
          ],
          "name": "stdout"
        }
      ]
    },
    {
      "cell_type": "markdown",
      "metadata": {
        "id": "Z8D_YA6-ZK-h"
      },
      "source": [
        "## Save the model"
      ]
    },
    {
      "cell_type": "code",
      "metadata": {
        "id": "Fk5LxxShIu-B",
        "colab": {
          "base_uri": "https://localhost:8080/",
          "height": 193
        },
        "outputId": "3da06798-87b1-4639-ef8e-208fe4905b9e"
      },
      "source": [
        "export_dir= base_dir + 'bert_model_2'\n",
        "tf.saved_model.save(bert_classifier, export_dir=export_dir)"
      ],
      "execution_count": 47,
      "outputs": [
        {
          "output_type": "error",
          "ename": "NameError",
          "evalue": "ignored",
          "traceback": [
            "\u001b[0;31m---------------------------------------------------------------------------\u001b[0m",
            "\u001b[0;31mNameError\u001b[0m                                 Traceback (most recent call last)",
            "\u001b[0;32m<ipython-input-47-9a1162842891>\u001b[0m in \u001b[0;36m<module>\u001b[0;34m()\u001b[0m\n\u001b[0;32m----> 1\u001b[0;31m \u001b[0mexport_dir\u001b[0m\u001b[0;34m=\u001b[0m \u001b[0mbase_dir\u001b[0m \u001b[0;34m+\u001b[0m \u001b[0;34m'bert_model_2'\u001b[0m\u001b[0;34m\u001b[0m\u001b[0;34m\u001b[0m\u001b[0m\n\u001b[0m\u001b[1;32m      2\u001b[0m \u001b[0mtf\u001b[0m\u001b[0;34m.\u001b[0m\u001b[0msaved_model\u001b[0m\u001b[0;34m.\u001b[0m\u001b[0msave\u001b[0m\u001b[0;34m(\u001b[0m\u001b[0mbert_classifier\u001b[0m\u001b[0;34m,\u001b[0m \u001b[0mexport_dir\u001b[0m\u001b[0;34m=\u001b[0m\u001b[0mexport_dir\u001b[0m\u001b[0;34m)\u001b[0m\u001b[0;34m\u001b[0m\u001b[0;34m\u001b[0m\u001b[0m\n",
            "\u001b[0;31mNameError\u001b[0m: name 'base_dir' is not defined"
          ]
        }
      ]
    },
    {
      "cell_type": "code",
      "metadata": {
        "id": "0XE4vQi_JXak"
      },
      "source": [
        "import matplotlib.pyplot as plt \n",
        "\n",
        "def show_history( history ):\n",
        "\n",
        "    loss = history.history['loss']\n",
        "    val_loss = history.history['val_loss']\n",
        "    train_score = history.history['accuracy']\n",
        "    val_score = history.history['val_accuracy']\n",
        "    \n",
        "    start = 1\n",
        "\n",
        "    epochs = range(len(loss))\n",
        "\n",
        "    plt.figure(figsize=(12, 5))\n",
        "\n",
        "    plt.subplot(1, 2, 1)\n",
        "    plt.plot(epochs[start:], loss[start:], 'bo', label='Training loss')\n",
        "    plt.plot(epochs[start:], val_loss[start:], 'r', label='Validation loss')\n",
        "    plt.title('Training and Validation Loss')\n",
        "    plt.legend()\n",
        "\n",
        "    plt.subplot(1, 2, 2)\n",
        "    plt.plot(epochs[start:], train_score[start:], 'bo', label='Training accuracy')\n",
        "    plt.plot(epochs[start:], val_score[start:], 'r', label='Validation accuracy')   \n",
        "    plt.title('Training and Validation Accuracy')\n",
        "    plt.legend()\n",
        "    \n",
        "    \n",
        "    plt.tight_layout()\n",
        "    plt.show() "
      ],
      "execution_count": null,
      "outputs": []
    },
    {
      "cell_type": "code",
      "metadata": {
        "id": "abUsbafhJPAf"
      },
      "source": [
        "# show the training graph\n",
        "show_history( history ) "
      ],
      "execution_count": null,
      "outputs": []
    }
  ]
}