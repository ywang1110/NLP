{
  "nbformat": 4,
  "nbformat_minor": 0,
  "metadata": {
    "colab": {
      "name": "Build a Chatbot.ipynb",
      "provenance": [],
      "toc_visible": true,
      "authorship_tag": "ABX9TyOdKC29W/TcuQJYVu2itH+u",
      "include_colab_link": true
    },
    "kernelspec": {
      "name": "python3",
      "display_name": "Python 3"
    },
    "language_info": {
      "name": "python"
    }
  },
  "cells": [
    {
      "cell_type": "markdown",
      "metadata": {
        "id": "view-in-github",
        "colab_type": "text"
      },
      "source": [
        "<a href=\"https://colab.research.google.com/github/ywang1110/NLP/blob/main/Build_a_Chatbot.ipynb\" target=\"_parent\"><img src=\"https://colab.research.google.com/assets/colab-badge.svg\" alt=\"Open In Colab\"/></a>"
      ]
    },
    {
      "cell_type": "markdown",
      "metadata": {
        "id": "rn6SpFIX48gf"
      },
      "source": [
        "# Regular expression "
      ]
    },
    {
      "cell_type": "code",
      "metadata": {
        "id": "NvSLcJjL-it9"
      },
      "source": [
        "import re\n",
        "pattern = 'do you remember .*'   # '.*' -> catch-all. it means match any string of characters"
      ],
      "execution_count": null,
      "outputs": []
    },
    {
      "cell_type": "code",
      "metadata": {
        "colab": {
          "base_uri": "https://localhost:8080/"
        },
        "id": "lNgvZAne5FPY",
        "outputId": "d51fb064-ff6d-4308-e050-e9ff44b488fe"
      },
      "source": [
        "message = 'do you remember when you ate strawberries in the garden'\n",
        "match = re.search(pattern, message)\n",
        "if match:\n",
        "  print('string matches!')"
      ],
      "execution_count": null,
      "outputs": [
        {
          "output_type": "stream",
          "text": [
            "string matches!\n"
          ],
          "name": "stdout"
        }
      ]
    },
    {
      "cell_type": "code",
      "metadata": {
        "colab": {
          "base_uri": "https://localhost:8080/",
          "height": 35
        },
        "id": "xe2lPXtx5gfU",
        "outputId": "db185702-e0e5-432d-9898-011a812fd9f2"
      },
      "source": [
        "import re\n",
        "pattern = \"if (.*)\"\n",
        "message = \"what would happen if bots took over the world\"\n",
        "match = re.search(pattern, message)\n",
        "\n",
        "match.group(0)"
      ],
      "execution_count": null,
      "outputs": [
        {
          "output_type": "execute_result",
          "data": {
            "application/vnd.google.colaboratory.intrinsic+json": {
              "type": "string"
            },
            "text/plain": [
              "'if bots took over the world'"
            ]
          },
          "metadata": {
            "tags": []
          },
          "execution_count": 3
        }
      ]
    },
    {
      "cell_type": "code",
      "metadata": {
        "colab": {
          "base_uri": "https://localhost:8080/",
          "height": 35
        },
        "id": "eW9A26cQ6LqK",
        "outputId": "c2214368-81d3-4a73-eb2d-1320c05deba3"
      },
      "source": [
        "match.group(1)   # the group we defined by including the parentheses in the pattern"
      ],
      "execution_count": null,
      "outputs": [
        {
          "output_type": "execute_result",
          "data": {
            "application/vnd.google.colaboratory.intrinsic+json": {
              "type": "string"
            },
            "text/plain": [
              "'bots took over the world'"
            ]
          },
          "metadata": {
            "tags": []
          },
          "execution_count": 4
        }
      ]
    },
    {
      "cell_type": "markdown",
      "metadata": {
        "id": "7RXFeZVX6-OZ"
      },
      "source": [
        "## Grammatical transformation"
      ]
    },
    {
      "cell_type": "code",
      "metadata": {
        "colab": {
          "base_uri": "https://localhost:8080/",
          "height": 35
        },
        "id": "uiz5Ibwn6lha",
        "outputId": "6e6e917e-886d-456a-a191-dc0ea46db820"
      },
      "source": [
        "import re\n",
        "\n",
        "def swap_pronouns(phrase):\n",
        "  if 'I' in phrase:\n",
        "    return re.sub('I', 'you', phrase)\n",
        "  if 'my' in phrase:\n",
        "    return re.sub('my', 'your', phrase)\n",
        "  \n",
        "  else:\n",
        "    return phrase\n",
        "\n",
        "swap_pronouns('I walk my dog')"
      ],
      "execution_count": null,
      "outputs": [
        {
          "output_type": "execute_result",
          "data": {
            "application/vnd.google.colaboratory.intrinsic+json": {
              "type": "string"
            },
            "text/plain": [
              "'you walk my dog'"
            ]
          },
          "metadata": {
            "tags": []
          },
          "execution_count": 5
        }
      ]
    },
    {
      "cell_type": "code",
      "metadata": {
        "colab": {
          "base_uri": "https://localhost:8080/",
          "height": 35
        },
        "id": "Jn0a0WRw7cen",
        "outputId": "31238493-4fd7-4dea-89b9-b6a1b84a1cef"
      },
      "source": [
        "pattern = 'do you remember (.*)'\n",
        "message = 'do you remember when you ate strawberries in the garden'\n",
        "phrase = re.search(pattern, message).group(1)\n",
        "phrase"
      ],
      "execution_count": null,
      "outputs": [
        {
          "output_type": "execute_result",
          "data": {
            "application/vnd.google.colaboratory.intrinsic+json": {
              "type": "string"
            },
            "text/plain": [
              "'when you ate strawberries in the garden'"
            ]
          },
          "metadata": {
            "tags": []
          },
          "execution_count": 6
        }
      ]
    },
    {
      "cell_type": "markdown",
      "metadata": {
        "id": "5HADPfFjDQrQ"
      },
      "source": [
        "## Extraction key phrases"
      ]
    },
    {
      "cell_type": "code",
      "metadata": {
        "id": "lX1p4zNW9UyL"
      },
      "source": [
        "# example\n",
        "\n",
        "import random\n",
        "\n",
        "def match_rule(rules, message):\n",
        "  response, phrase = 'default', None\n",
        "\n",
        "  for pattern, responses in rules.items():\n",
        "    match = re.search(pattern, message)\n",
        "    if match is not None:\n",
        "      response = random.choice(responses)\n",
        "      if '{0}' in response:\n",
        "        phrase = match.group(1)\n",
        "  return response.format(phrase)    # '  {}'.format()"
      ],
      "execution_count": null,
      "outputs": []
    },
    {
      "cell_type": "code",
      "metadata": {
        "colab": {
          "base_uri": "https://localhost:8080/",
          "height": 35
        },
        "id": "vbWs7_1z9hum",
        "outputId": "fdbd281a-9b3a-4390-98c5-a82df463f73c"
      },
      "source": [
        "# Test match_rule\n",
        "\n",
        "rules = {'I want (.*)': ['What would it mean if you got {0}','Why do you want {0}',\"What's stopping you from getting {0}\"],\n",
        "         'do you remember (.*)': ['Did you think I would forget {0}',\"Why haven't you been able to forget {0}\",'What about {0}','Yes .. and?']}\n",
        "match_rule(rules, 'do you remember your last birthday')"
      ],
      "execution_count": null,
      "outputs": [
        {
          "output_type": "execute_result",
          "data": {
            "application/vnd.google.colaboratory.intrinsic+json": {
              "type": "string"
            },
            "text/plain": [
              "'Yes .. and?'"
            ]
          },
          "metadata": {
            "tags": []
          },
          "execution_count": 8
        }
      ]
    },
    {
      "cell_type": "markdown",
      "metadata": {
        "id": "z618Er-zDUsq"
      },
      "source": [
        "## Pronouns"
      ]
    },
    {
      "cell_type": "code",
      "metadata": {
        "id": "mIslR2dOCxxC"
      },
      "source": [
        "def replace_pronouns(message):\n",
        "\n",
        "  message = message.lower()\n",
        "  if 'me' in message:\n",
        "    return re.sub('I', 'you', message)\n",
        "  if '' in message:\n",
        "    return re.sub('my', 'your', message)\n",
        "  if 'your' in message:\n",
        "    return re.sub('your', 'me', message)\n",
        "  return message"
      ],
      "execution_count": null,
      "outputs": []
    },
    {
      "cell_type": "code",
      "metadata": {
        "colab": {
          "base_uri": "https://localhost:8080/"
        },
        "id": "R7RrUGs1EFCt",
        "outputId": "b43c134d-39a8-4ec7-899d-dd613c6ea937"
      },
      "source": [
        "print(replace_pronouns(\"my last birthday\"))\n",
        "print(replace_pronouns(\"when you went to Florida\"))\n",
        "print(replace_pronouns(\"I had my own castle\"))\n",
        "print(replace_pronouns('I walk my dog'))"
      ],
      "execution_count": null,
      "outputs": [
        {
          "output_type": "stream",
          "text": [
            "your last birthday\n",
            "when you went to florida\n",
            "i had your own castle\n",
            "i walk your dog\n"
          ],
          "name": "stdout"
        }
      ]
    },
    {
      "cell_type": "markdown",
      "metadata": {
        "id": "pQ6XQbSCTdbE"
      },
      "source": [
        "## Intergrate together\n"
      ]
    },
    {
      "cell_type": "code",
      "metadata": {
        "id": "RpBicFKPEXHb"
      },
      "source": [
        "def match_rule(rules, message):\n",
        "  response, phrase = 'default', None\n",
        "\n",
        "  for pattern, responses in rules.items():\n",
        "    match = re.search(pattern, message)\n",
        "    if match is not None:\n",
        "      response = random.choice(responses)\n",
        "      if '{0}' in response:\n",
        "        phrase = match.group(1)\n",
        "  return response, phrase"
      ],
      "execution_count": null,
      "outputs": []
    },
    {
      "cell_type": "code",
      "metadata": {
        "colab": {
          "base_uri": "https://localhost:8080/"
        },
        "id": "ZHwUnwlKUdF0",
        "outputId": "5f5d7397-6aa6-493d-824d-a5ab36f38a87"
      },
      "source": [
        "# Test match_rule\n",
        "\n",
        "rules = {'I want (.*)': ['What would it mean if you got {0}','Why do you want {0}',\"What's stopping you from getting {0}\"],\n",
        "         'do you remember (.*)': ['Did you think I would forget {0}',\"Why haven't you been able to forget {0}\",'What about {0}','Yes .. and?']}\n",
        "match_rule(rules, 'do you remember your last birthday')"
      ],
      "execution_count": null,
      "outputs": [
        {
          "output_type": "execute_result",
          "data": {
            "text/plain": [
              "('What about {0}', 'your last birthday')"
            ]
          },
          "metadata": {
            "tags": []
          },
          "execution_count": 28
        }
      ]
    },
    {
      "cell_type": "code",
      "metadata": {
        "id": "8YLFJ72IUf_D"
      },
      "source": [
        "def replace_pronouns(message):\n",
        "  message = message.lower()\n",
        "  if 'me' in message:\n",
        "    return re.sub('me', 'you', message)\n",
        "  elif 'my' in message:\n",
        "    return re.sub('my', 'your', message)\n",
        "  elif 'your' in message:\n",
        "    return re.sub('your', 'my', message)\n",
        "  elif 'you' in message:\n",
        "    return re.sub('you', 'me', message)"
      ],
      "execution_count": null,
      "outputs": []
    },
    {
      "cell_type": "code",
      "metadata": {
        "colab": {
          "base_uri": "https://localhost:8080/"
        },
        "id": "JTtYwACzVhd-",
        "outputId": "5bca7e59-52d3-451b-8118-d2dc385c696c"
      },
      "source": [
        "# Test replace_pronous\n",
        "\n",
        "print(replace_pronouns('I walk my dog'))"
      ],
      "execution_count": null,
      "outputs": [
        {
          "output_type": "stream",
          "text": [
            "i walk your dog\n"
          ],
          "name": "stdout"
        }
      ]
    },
    {
      "cell_type": "code",
      "metadata": {
        "id": "iEo4cW2hVuuN"
      },
      "source": [
        "# integret\n",
        "\n",
        "def respond(message):\n",
        "  response, phrase = match_rule(rules, message)\n",
        "  if '{0}' in response:\n",
        "    # Replace the pronous in the phrase\n",
        "    phrase = replace_pronouns(phrase)\n",
        "    # Include the phrase in the response \n",
        "    response = response.format(phrase)\n",
        "  return response\n",
        "\n",
        "user_template = 'USER : {0}'\n",
        "bot_template = 'BOT : {0}'\n",
        "\n",
        "\n",
        "def send_message(message):\n",
        "    print(user_template.format(message))\n",
        "    response = respond(message)\n",
        "    print(bot_template.format(response))"
      ],
      "execution_count": null,
      "outputs": []
    },
    {
      "cell_type": "code",
      "metadata": {
        "colab": {
          "base_uri": "https://localhost:8080/"
        },
        "id": "XYlKpUAJW24p",
        "outputId": "c6a13986-cbdd-4f95-b0c3-44eb78187e48"
      },
      "source": [
        "send_message(\"do you remember your last birthday\")"
      ],
      "execution_count": null,
      "outputs": [
        {
          "output_type": "stream",
          "text": [
            "USER : do you remember your last birthday\n",
            "BOT : Did you think I would forget my last birthday\n"
          ],
          "name": "stdout"
        }
      ]
    },
    {
      "cell_type": "markdown",
      "metadata": {
        "id": "p1liDXbgX-q4"
      },
      "source": [
        "# NLU (Natrual Language Understanding)\n",
        "- ** Convert freeform text into structured data within a particular domain**\n",
        "  - A restaurant booking bot is **able to understand a sentence like** 'I am looking for Mexican restaurant in the centre of the town' and **query a database** or **API** to find a matching results\n",
        "\n",
        "    - **Intent:** restaurant_search\n",
        "    - **Entities:** Book a table for **June 10th** at a **sushi** restautant in **New York** City  \n",
        "      - **NER:** Named Entity Recognition (aims to find more universal entities like names of people, organizations, dates, etc.)\n",
        "      - **'Bots'**: want a narrower definiation of your entities that are specific to your domain"
      ]
    },
    {
      "cell_type": "markdown",
      "metadata": {
        "id": "KH-IMLJibOjy"
      },
      "source": [
        "## Regular expression to detect **intent** and **entities**"
      ]
    },
    {
      "cell_type": "markdown",
      "metadata": {
        "id": "7hJE0-cobdSu"
      },
      "source": [
        "### '|' =OR"
      ]
    },
    {
      "cell_type": "code",
      "metadata": {
        "colab": {
          "base_uri": "https://localhost:8080/"
        },
        "id": "LQLvP_s5baSq",
        "outputId": "87c570ee-d285-4c13-9cb5-d811dbb7e142"
      },
      "source": [
        "re.search(r\"(hello|hi|hey)\", 'hey there!') is not None"
      ],
      "execution_count": null,
      "outputs": [
        {
          "output_type": "execute_result",
          "data": {
            "text/plain": [
              "True"
            ]
          },
          "metadata": {
            "tags": []
          },
          "execution_count": 39
        }
      ]
    },
    {
      "cell_type": "code",
      "metadata": {
        "colab": {
          "base_uri": "https://localhost:8080/"
        },
        "id": "fRNCfkIybaQ8",
        "outputId": "41f0fa23-87ce-4473-ce45-6880dc5090b4"
      },
      "source": [
        "re.search(r\"(hello|hi|hey)\", 'which one') is not None  # hi also matches 'which'"
      ],
      "execution_count": null,
      "outputs": [
        {
          "output_type": "execute_result",
          "data": {
            "text/plain": [
              "True"
            ]
          },
          "metadata": {
            "tags": []
          },
          "execution_count": 42
        }
      ]
    },
    {
      "cell_type": "markdown",
      "metadata": {
        "id": "u4EU-BUVcGrB"
      },
      "source": [
        "### Word bounary \\b"
      ]
    },
    {
      "cell_type": "code",
      "metadata": {
        "colab": {
          "base_uri": "https://localhost:8080/"
        },
        "id": "R3E-aegBXcx3",
        "outputId": "4766fbc0-f599-4ce5-ff04-af1cead45f21"
      },
      "source": [
        "re.search(r\"\\b(hello|hi|hey)\\b\", 'which one') is not None"
      ],
      "execution_count": null,
      "outputs": [
        {
          "output_type": "execute_result",
          "data": {
            "text/plain": [
              "False"
            ]
          },
          "metadata": {
            "tags": []
          },
          "execution_count": 44
        }
      ]
    },
    {
      "cell_type": "markdown",
      "metadata": {
        "id": "29JQRALmcj1E"
      },
      "source": [
        "### Pattern multiple times (re.compile)"
      ]
    },
    {
      "cell_type": "code",
      "metadata": {
        "id": "C4Z5BTKMcaOn"
      },
      "source": [
        "# Find all captitalized words in a sentence\n",
        "pattern = re.compile('[A-Z]{1}[a-z]*')  \n",
        "# []-> A range of characters\n",
        "# [A-Z]{1} -> exactly 1 captial letter\n",
        "# * -> 0 or more of occurances of lower character"
      ],
      "execution_count": null,
      "outputs": []
    },
    {
      "cell_type": "code",
      "metadata": {
        "colab": {
          "base_uri": "https://localhost:8080/"
        },
        "id": "nKgQ60Bec36X",
        "outputId": "a6d8b2a2-7f45-45e7-db0a-caff2fbd82d6"
      },
      "source": [
        "message = \"\"\"\n",
        "Mary is a friend of mine, \n",
        "she studies at Oxford and \n",
        "now works at Google\"\"\"\n",
        "\n",
        "pattern.findall(message)"
      ],
      "execution_count": null,
      "outputs": [
        {
          "output_type": "execute_result",
          "data": {
            "text/plain": [
              "['Mary', 'Oxford', 'Google']"
            ]
          },
          "metadata": {
            "tags": []
          },
          "execution_count": 55
        }
      ]
    },
    {
      "cell_type": "markdown",
      "metadata": {
        "id": "cl6gyHHufcpq"
      },
      "source": [
        "### str join()\n",
        " - The join() method is a string method and returns a string in which the elements of sequence have been joined by str separator."
      ]
    },
    {
      "cell_type": "code",
      "metadata": {
        "colab": {
          "base_uri": "https://localhost:8080/",
          "height": 35
        },
        "id": "yT34l-2-dvJP",
        "outputId": "6ab2817f-2095-4bb3-d51a-3486aa1c4015"
      },
      "source": [
        "greet = ['hey', 'hi', 'hello']\n",
        "'|'.join(greet)"
      ],
      "execution_count": null,
      "outputs": [
        {
          "output_type": "execute_result",
          "data": {
            "application/vnd.google.colaboratory.intrinsic+json": {
              "type": "string"
            },
            "text/plain": [
              "'hey|hi|hello'"
            ]
          },
          "metadata": {
            "tags": []
          },
          "execution_count": 57
        }
      ]
    },
    {
      "cell_type": "code",
      "metadata": {
        "id": "lOFUp9yUgJLS"
      },
      "source": [
        "keywords = {'goodbye': ['bye', 'farewell'],\n",
        " 'greet': ['hello', 'hi', 'hey'],\n",
        " 'thankyou': ['thank', 'thx']}"
      ],
      "execution_count": null,
      "outputs": []
    },
    {
      "cell_type": "code",
      "metadata": {
        "colab": {
          "base_uri": "https://localhost:8080/"
        },
        "id": "5WCDkQE2gUvm",
        "outputId": "860e75dd-ab68-4ea2-a3a8-6c0e5733efdb"
      },
      "source": [
        "patterns = {}\n",
        "\n",
        "for intent, keys in keywords.items():\n",
        "  patterns[intent] = re.compile('|'.join(keys))\n",
        "print(patterns)"
      ],
      "execution_count": null,
      "outputs": [
        {
          "output_type": "stream",
          "text": [
            "{'goodbye': re.compile('bye|farewell'), 'greet': re.compile('hello|hi|hey'), 'thankyou': re.compile('thank|thx')}\n"
          ],
          "name": "stdout"
        }
      ]
    },
    {
      "cell_type": "markdown",
      "metadata": {
        "id": "ULE22oKsh7lF"
      },
      "source": [
        "### Integret "
      ]
    },
    {
      "cell_type": "code",
      "metadata": {
        "id": "EmZ265APh4c6"
      },
      "source": [
        "# Define a function to find the intent of a message\n",
        "\n",
        "def match_intent(message):\n",
        "  matched_intent = None\n",
        "  for intent, pattern in patterns.items():\n",
        "    re.search(pattern, message) is not None\n",
        "    matched_intent = intent\n",
        "  return matched_intent"
      ],
      "execution_count": null,
      "outputs": []
    },
    {
      "cell_type": "code",
      "metadata": {
        "id": "2p8nvIhlglqd"
      },
      "source": [
        "# Define a respond function\n",
        "\n",
        "responses = {'default': 'default message',\n",
        " 'goodbye': 'goodbye for now',\n",
        " 'greet': 'Hello you! :)',\n",
        " 'thankyou': 'you are very welcome'}\n",
        "\n",
        "def respond(message):\n",
        "   intent = match_intent(message)\n",
        "   if intent in responses:\n",
        "     key = intent\n",
        "     return responses[key]"
      ],
      "execution_count": null,
      "outputs": []
    },
    {
      "cell_type": "code",
      "metadata": {
        "colab": {
          "base_uri": "https://localhost:8080/"
        },
        "id": "eRPWbd2NirZa",
        "outputId": "fa76d944-43e3-462b-d88d-bae324e7aff1"
      },
      "source": [
        "send_message(\"bye byeee\")"
      ],
      "execution_count": null,
      "outputs": [
        {
          "output_type": "stream",
          "text": [
            "USER : bye byeee\n",
            "BOT : you are very welcome\n"
          ],
          "name": "stdout"
        }
      ]
    },
    {
      "cell_type": "code",
      "metadata": {
        "id": "Dbwn45E9jaIr"
      },
      "source": [
        ""
      ],
      "execution_count": null,
      "outputs": []
    }
  ]
}