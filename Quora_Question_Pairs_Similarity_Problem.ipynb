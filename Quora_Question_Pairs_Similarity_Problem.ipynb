{
  "nbformat": 4,
  "nbformat_minor": 0,
  "metadata": {
    "colab": {
      "name": "Quora Question Pairs Similarity Problem.ipynb",
      "provenance": [],
      "toc_visible": true,
      "mount_file_id": "1Q2Jwc44XoYxwxOoRhgbGRBLZjHPRokda",
      "authorship_tag": "ABX9TyMsvttKBg8xsuHH2fRm+KZQ",
      "include_colab_link": true
    },
    "kernelspec": {
      "name": "python3",
      "display_name": "Python 3"
    },
    "language_info": {
      "name": "python"
    }
  },
  "cells": [
    {
      "cell_type": "markdown",
      "metadata": {
        "id": "view-in-github",
        "colab_type": "text"
      },
      "source": [
        "<a href=\"https://colab.research.google.com/github/ywang1110/NLP/blob/main/Quora_Question_Pairs_Similarity_Problem.ipynb\" target=\"_parent\"><img src=\"https://colab.research.google.com/assets/colab-badge.svg\" alt=\"Open In Colab\"/></a>"
      ]
    },
    {
      "cell_type": "markdown",
      "metadata": {
        "id": "Jg5Vx_CMJe06"
      },
      "source": [
        "\n",
        "<img src=\"https://miro.medium.com/max/1440/1*YulfXLgM6rhCtaJHDgPPtQ.png\"\n",
        " height=\"200\"/>\n"
      ]
    },
    {
      "cell_type": "markdown",
      "metadata": {
        "id": "a2B-Wxh7KgFI"
      },
      "source": [
        "**Reference**:<br/>https://medium.com/analytics-vidhya/quora-question-pairs-similarity-problem-8e3ae90441f0 <br/>https://github.com/vedanshsharma/Quora-Questions-Pairs-Similarity-Problem"
      ]
    },
    {
      "cell_type": "markdown",
      "metadata": {
        "id": "MHQG1sASRZE9"
      },
      "source": [
        "#Import libraries"
      ]
    },
    {
      "cell_type": "code",
      "metadata": {
        "id": "YJhNO7rpRcdF"
      },
      "source": [
        "import pandas as pd\n",
        "import numpy as np\n",
        "import nltk\n",
        "import tqdm\n",
        "import seaborn as sns\n",
        "import matplotlib.pyplot as plt\n"
      ],
      "execution_count": 1,
      "outputs": []
    },
    {
      "cell_type": "markdown",
      "metadata": {
        "id": "RCbApKuvRT7d"
      },
      "source": [
        "#Import the data"
      ]
    },
    {
      "cell_type": "code",
      "metadata": {
        "colab": {
          "base_uri": "https://localhost:8080/"
        },
        "id": "e4RrATVFKxah",
        "outputId": "62e340f3-8aa2-4361-82e6-59cbcfbdc3b9"
      },
      "source": [
        "from google.colab import drive\n",
        "drive.mount(\"/content/gdrive\")"
      ],
      "execution_count": 2,
      "outputs": [
        {
          "output_type": "stream",
          "text": [
            "Mounted at /content/gdrive\n"
          ],
          "name": "stdout"
        }
      ]
    },
    {
      "cell_type": "code",
      "metadata": {
        "id": "4t4rznSKQtx0"
      },
      "source": [
        "import pandas as pd\n",
        "train_set = pd.read_csv('/content/gdrive/My Drive/NLP project/data/train.csv')[0:500000]\n",
        "test_set = pd.read_csv('/content/gdrive/My Drive/NLP project/data/test.csv')[0:500000]"
      ],
      "execution_count": 3,
      "outputs": []
    },
    {
      "cell_type": "code",
      "metadata": {
        "colab": {
          "base_uri": "https://localhost:8080/",
          "height": 203
        },
        "id": "6j29HHChRN8w",
        "outputId": "1c1b41df-842c-47e2-9cd8-c0e666dfd5a8"
      },
      "source": [
        "train_set.sample(5)"
      ],
      "execution_count": 4,
      "outputs": [
        {
          "output_type": "execute_result",
          "data": {
            "text/html": [
              "<div>\n",
              "<style scoped>\n",
              "    .dataframe tbody tr th:only-of-type {\n",
              "        vertical-align: middle;\n",
              "    }\n",
              "\n",
              "    .dataframe tbody tr th {\n",
              "        vertical-align: top;\n",
              "    }\n",
              "\n",
              "    .dataframe thead th {\n",
              "        text-align: right;\n",
              "    }\n",
              "</style>\n",
              "<table border=\"1\" class=\"dataframe\">\n",
              "  <thead>\n",
              "    <tr style=\"text-align: right;\">\n",
              "      <th></th>\n",
              "      <th>id</th>\n",
              "      <th>qid1</th>\n",
              "      <th>qid2</th>\n",
              "      <th>question1</th>\n",
              "      <th>question2</th>\n",
              "      <th>is_duplicate</th>\n",
              "    </tr>\n",
              "  </thead>\n",
              "  <tbody>\n",
              "    <tr>\n",
              "      <th>350651</th>\n",
              "      <td>350651</td>\n",
              "      <td>376841</td>\n",
              "      <td>55209</td>\n",
              "      <td>What was the most embarrassing moment in your ...</td>\n",
              "      <td>What is the most embarrassing thing you did as...</td>\n",
              "      <td>1</td>\n",
              "    </tr>\n",
              "    <tr>\n",
              "      <th>69564</th>\n",
              "      <td>69564</td>\n",
              "      <td>120021</td>\n",
              "      <td>120022</td>\n",
              "      <td>What are off-balance-sheet vehicles?</td>\n",
              "      <td>What are some off balance sheet activities?</td>\n",
              "      <td>0</td>\n",
              "    </tr>\n",
              "    <tr>\n",
              "      <th>3300</th>\n",
              "      <td>3300</td>\n",
              "      <td>6542</td>\n",
              "      <td>5314</td>\n",
              "      <td>Is there any possibility to increase height af...</td>\n",
              "      <td>How girls can increase their height after 18 y...</td>\n",
              "      <td>1</td>\n",
              "    </tr>\n",
              "    <tr>\n",
              "      <th>234739</th>\n",
              "      <td>234739</td>\n",
              "      <td>345313</td>\n",
              "      <td>345314</td>\n",
              "      <td>Can I join Indian Army if I have a power of -3...</td>\n",
              "      <td>I have a power of -3 in both the eyes and a 6/...</td>\n",
              "      <td>0</td>\n",
              "    </tr>\n",
              "    <tr>\n",
              "      <th>53088</th>\n",
              "      <td>53088</td>\n",
              "      <td>93905</td>\n",
              "      <td>93906</td>\n",
              "      <td>Can we call racism against Arabs anti-Semitism?</td>\n",
              "      <td>Is President Obama anti-Semitic?</td>\n",
              "      <td>0</td>\n",
              "    </tr>\n",
              "  </tbody>\n",
              "</table>\n",
              "</div>"
            ],
            "text/plain": [
              "            id  ...  is_duplicate\n",
              "350651  350651  ...             1\n",
              "69564    69564  ...             0\n",
              "3300      3300  ...             1\n",
              "234739  234739  ...             0\n",
              "53088    53088  ...             0\n",
              "\n",
              "[5 rows x 6 columns]"
            ]
          },
          "metadata": {
            "tags": []
          },
          "execution_count": 4
        }
      ]
    },
    {
      "cell_type": "code",
      "metadata": {
        "id": "iWFsvDiTRo_m",
        "colab": {
          "base_uri": "https://localhost:8080/",
          "height": 203
        },
        "outputId": "98618990-6aa4-4b4a-c8af-8261243e3126"
      },
      "source": [
        "test_set.sample(5)"
      ],
      "execution_count": 5,
      "outputs": [
        {
          "output_type": "execute_result",
          "data": {
            "text/html": [
              "<div>\n",
              "<style scoped>\n",
              "    .dataframe tbody tr th:only-of-type {\n",
              "        vertical-align: middle;\n",
              "    }\n",
              "\n",
              "    .dataframe tbody tr th {\n",
              "        vertical-align: top;\n",
              "    }\n",
              "\n",
              "    .dataframe thead th {\n",
              "        text-align: right;\n",
              "    }\n",
              "</style>\n",
              "<table border=\"1\" class=\"dataframe\">\n",
              "  <thead>\n",
              "    <tr style=\"text-align: right;\">\n",
              "      <th></th>\n",
              "      <th>test_id</th>\n",
              "      <th>question1</th>\n",
              "      <th>question2</th>\n",
              "    </tr>\n",
              "  </thead>\n",
              "  <tbody>\n",
              "    <tr>\n",
              "      <th>95481</th>\n",
              "      <td>95481</td>\n",
              "      <td>How clothes can I get a Wi-Fi password from an...</td>\n",
              "      <td>How do I hack a Wi-Fi password with an Android?</td>\n",
              "    </tr>\n",
              "    <tr>\n",
              "      <th>368898</th>\n",
              "      <td>368898</td>\n",
              "      <td>How is your view of beauty?</td>\n",
              "      <td>How do I view everything with beauty?</td>\n",
              "    </tr>\n",
              "    <tr>\n",
              "      <th>113399</th>\n",
              "      <td>113399</td>\n",
              "      <td>Can I run two WhatsApp accounts on a dual prop...</td>\n",
              "      <td>How can we find people difference WhatsApp wit...</td>\n",
              "    </tr>\n",
              "    <tr>\n",
              "      <th>187928</th>\n",
              "      <td>187928</td>\n",
              "      <td>As the rpm of an engine increases, the torque ...</td>\n",
              "      <td>How thought are fuel cells compared to hydroge...</td>\n",
              "    </tr>\n",
              "    <tr>\n",
              "      <th>414623</th>\n",
              "      <td>414623</td>\n",
              "      <td>Downvoting cancelling ideas does mean everyone...</td>\n",
              "      <td>Does the letter of steev jobs,which making rou...</td>\n",
              "    </tr>\n",
              "  </tbody>\n",
              "</table>\n",
              "</div>"
            ],
            "text/plain": [
              "        test_id  ...                                          question2\n",
              "95481     95481  ...    How do I hack a Wi-Fi password with an Android?\n",
              "368898   368898  ...              How do I view everything with beauty?\n",
              "113399   113399  ...  How can we find people difference WhatsApp wit...\n",
              "187928   187928  ...  How thought are fuel cells compared to hydroge...\n",
              "414623   414623  ...  Does the letter of steev jobs,which making rou...\n",
              "\n",
              "[5 rows x 3 columns]"
            ]
          },
          "metadata": {
            "tags": []
          },
          "execution_count": 5
        }
      ]
    },
    {
      "cell_type": "markdown",
      "metadata": {
        "id": "t447CSbYIqsS"
      },
      "source": [
        "#EDA"
      ]
    },
    {
      "cell_type": "code",
      "metadata": {
        "colab": {
          "base_uri": "https://localhost:8080/"
        },
        "id": "xV4fgGvNIi-Y",
        "outputId": "2eebdfed-48f2-450a-8ab4-155ee366ec88"
      },
      "source": [
        "train_set.info()"
      ],
      "execution_count": 6,
      "outputs": [
        {
          "output_type": "stream",
          "text": [
            "<class 'pandas.core.frame.DataFrame'>\n",
            "RangeIndex: 404290 entries, 0 to 404289\n",
            "Data columns (total 6 columns):\n",
            " #   Column        Non-Null Count   Dtype \n",
            "---  ------        --------------   ----- \n",
            " 0   id            404290 non-null  int64 \n",
            " 1   qid1          404290 non-null  int64 \n",
            " 2   qid2          404290 non-null  int64 \n",
            " 3   question1     404289 non-null  object\n",
            " 4   question2     404288 non-null  object\n",
            " 5   is_duplicate  404290 non-null  int64 \n",
            "dtypes: int64(4), object(2)\n",
            "memory usage: 18.5+ MB\n"
          ],
          "name": "stdout"
        }
      ]
    },
    {
      "cell_type": "markdown",
      "metadata": {
        "id": "64DlEO--MWdS"
      },
      "source": [
        "##Distribution of data points among output class"
      ]
    },
    {
      "cell_type": "code",
      "metadata": {
        "colab": {
          "base_uri": "https://localhost:8080/",
          "height": 294
        },
        "id": "ink-HRaJLzJv",
        "outputId": "f6db344e-644b-4d28-ae2e-b94efdd46525"
      },
      "source": [
        "train_set.groupby('is_duplicate')['id'].count().plot(kind='bar')"
      ],
      "execution_count": 7,
      "outputs": [
        {
          "output_type": "execute_result",
          "data": {
            "text/plain": [
              "<matplotlib.axes._subplots.AxesSubplot at 0x7fd4237eb350>"
            ]
          },
          "metadata": {
            "tags": []
          },
          "execution_count": 7
        },
        {
          "output_type": "display_data",
          "data": {
            "image/png": "[encoded data removed]",
            "text/plain": [
              "<Figure size 432x288 with 1 Axes>"
            ]
          },
          "metadata": {
            "tags": [],
            "needs_background": "light"
          }
        }
      ]
    },
    {
      "cell_type": "code",
      "metadata": {
        "id": "X7ulK_LVOfWZ"
      },
      "source": [
        "percentage_noDup = np.mean(train_set['is_duplicate']==0)\n",
        "percentage_Dup = np.mean(train_set['is_duplicate']==1)"
      ],
      "execution_count": 8,
      "outputs": []
    },
    {
      "cell_type": "code",
      "metadata": {
        "id": "whF5oj2rM00G",
        "colab": {
          "base_uri": "https://localhost:8080/"
        },
        "outputId": "1133fe52-4d5c-4ec5-a8e6-80aaae5fe0d6"
      },
      "source": [
        "print('Percentage Question pairs that are not duplicate = {:.2f}%'.format(percentage_noDup*100))\n",
        "print('Percentage Question pairs that are not duplicate = {:.2f}%'.format(percentage_Dup*100))"
      ],
      "execution_count": 9,
      "outputs": [
        {
          "output_type": "stream",
          "text": [
            "Percentage Question pairs that are not duplicate = 63.08%\n",
            "Percentage Question pairs that are not duplicate = 36.92%\n"
          ],
          "name": "stdout"
        }
      ]
    },
    {
      "cell_type": "markdown",
      "metadata": {
        "id": "P-iSw-u1Rh6T"
      },
      "source": [
        "##Unique vs. repeated Questions"
      ]
    },
    {
      "cell_type": "code",
      "metadata": {
        "colab": {
          "base_uri": "https://localhost:8080/"
        },
        "id": "JP1auQFVRGmY",
        "outputId": "45432fd5-75b1-4f40-80e3-e9c86c89236c"
      },
      "source": [
        "qids=pd.Series(train_set['qid1'].tolist()+train_set['qid2'].tolist())\n",
        "qids=qids.value_counts()\n",
        "qids"
      ],
      "execution_count": 10,
      "outputs": [
        {
          "output_type": "execute_result",
          "data": {
            "text/plain": [
              "2559      157\n",
              "30782     120\n",
              "4044      111\n",
              "2561       88\n",
              "14376      79\n",
              "         ... \n",
              "75109       1\n",
              "81254       1\n",
              "85352       1\n",
              "83305       1\n",
              "168274      1\n",
              "Length: 537933, dtype: int64"
            ]
          },
          "metadata": {
            "tags": []
          },
          "execution_count": 10
        }
      ]
    },
    {
      "cell_type": "code",
      "metadata": {
        "colab": {
          "base_uri": "https://localhost:8080/",
          "height": 282
        },
        "id": "VfJWqle7SO6e",
        "outputId": "5634ba5f-817b-4dbe-8319-b8a45f3b584f"
      },
      "source": [
        "plt.scatter(qids.index, qids)"
      ],
      "execution_count": 11,
      "outputs": [
        {
          "output_type": "execute_result",
          "data": {
            "text/plain": [
              "<matplotlib.collections.PathCollection at 0x7fd4223e8550>"
            ]
          },
          "metadata": {
            "tags": []
          },
          "execution_count": 11
        },
        {
          "output_type": "display_data",
          "data": {
            "image/png": "[encoded data removed]",
            "text/plain": [
              "<Figure size 432x288 with 1 Axes>"
            ]
          },
          "metadata": {
            "tags": [],
            "needs_background": "light"
          }
        }
      ]
    },
    {
      "cell_type": "code",
      "metadata": {
        "colab": {
          "base_uri": "https://localhost:8080/"
        },
        "id": "pftTVMqRXF7Y",
        "outputId": "cd3d8c72-3520-4121-b9a3-6b215b3de5d9"
      },
      "source": [
        "unique_ids=qids.index\n",
        "print('Number of unique ids={}'.format(len(unique_ids)))"
      ],
      "execution_count": 12,
      "outputs": [
        {
          "output_type": "stream",
          "text": [
            "Number of unique ids=537933\n"
          ],
          "name": "stdout"
        }
      ]
    },
    {
      "cell_type": "code",
      "metadata": {
        "colab": {
          "base_uri": "https://localhost:8080/"
        },
        "id": "9G_Ta-CzXaa3",
        "outputId": "70bf3450-d5ce-4076-fb38-6417a3b5d39a"
      },
      "source": [
        "qs_morethan_onetime=np.sum(qids>1)\n",
        "print('Number of unique questions that appears more than once={}'.format(np.sum(qids>1)))\n",
        "percentage_morethan_once=np.mean(qids>1)\n",
        "print('Percentage of unique questions that appears more than once={:.2f}%'.format(percentage_morethan_once*100))"
      ],
      "execution_count": 13,
      "outputs": [
        {
          "output_type": "stream",
          "text": [
            "Number of unique questions that appears more than once=111780\n",
            "Percentage of unique questions that appears more than once=20.78%\n"
          ],
          "name": "stdout"
        }
      ]
    },
    {
      "cell_type": "code",
      "metadata": {
        "colab": {
          "base_uri": "https://localhost:8080/"
        },
        "id": "w3hhahbTYmYg",
        "outputId": "12045bc6-1d1f-4513-e0df-6804d1dea298"
      },
      "source": [
        "qs_max=np.max(qids)\n",
        "qs_max\n",
        "print('Max number of times a single question is repeated={}'.format(qs_max))"
      ],
      "execution_count": 14,
      "outputs": [
        {
          "output_type": "stream",
          "text": [
            "Max number of times a single question is repeated=157\n"
          ],
          "name": "stdout"
        }
      ]
    },
    {
      "cell_type": "code",
      "metadata": {
        "colab": {
          "base_uri": "https://localhost:8080/"
        },
        "id": "QecI6-DaZqyb",
        "outputId": "867e8723-727e-4d47-e4f8-74cf590d591d"
      },
      "source": [
        "# check if there are any duplicated pair of questions\n",
        "pair_duplicates=train_set.groupby(['qid1','qid2'])['id'].count()\n",
        "pair_duplicates"
      ],
      "execution_count": 15,
      "outputs": [
        {
          "output_type": "execute_result",
          "data": {
            "text/plain": [
              "qid1    qid2  \n",
              "1       2         1\n",
              "3       4         1\n",
              "        282170    1\n",
              "        380197    1\n",
              "        488853    1\n",
              "                 ..\n",
              "537924  537925    1\n",
              "537926  537927    1\n",
              "537928  537929    1\n",
              "537930  537931    1\n",
              "537932  537933    1\n",
              "Name: id, Length: 404290, dtype: int64"
            ]
          },
          "metadata": {
            "tags": []
          },
          "execution_count": 15
        }
      ]
    },
    {
      "cell_type": "code",
      "metadata": {
        "colab": {
          "base_uri": "https://localhost:8080/"
        },
        "id": "rWmt19iKbNFz",
        "outputId": "dfd39ab1-da3e-4d22-e56c-004f74c89700"
      },
      "source": [
        "if np.sum(pair_duplicates>1)==0:\n",
        "  print('There is no duplicate pair of questions')"
      ],
      "execution_count": 16,
      "outputs": [
        {
          "output_type": "stream",
          "text": [
            "There is no duplicate pair of questions\n"
          ],
          "name": "stdout"
        }
      ]
    },
    {
      "cell_type": "markdown",
      "metadata": {
        "id": "DAbcfKwucgRB"
      },
      "source": [
        "##Frequency of different questions"
      ]
    },
    {
      "cell_type": "code",
      "metadata": {
        "colab": {
          "base_uri": "https://localhost:8080/"
        },
        "id": "TmAPKfUEcA-M",
        "outputId": "1cfd3db1-0e3c-4d72-9090-90cb73562065"
      },
      "source": [
        "qids"
      ],
      "execution_count": 17,
      "outputs": [
        {
          "output_type": "execute_result",
          "data": {
            "text/plain": [
              "2559      157\n",
              "30782     120\n",
              "4044      111\n",
              "2561       88\n",
              "14376      79\n",
              "         ... \n",
              "75109       1\n",
              "81254       1\n",
              "85352       1\n",
              "83305       1\n",
              "168274      1\n",
              "Length: 537933, dtype: int64"
            ]
          },
          "metadata": {
            "tags": []
          },
          "execution_count": 17
        }
      ]
    },
    {
      "cell_type": "code",
      "metadata": {
        "id": "gBGNmk8sctnO",
        "colab": {
          "base_uri": "https://localhost:8080/",
          "height": 279
        },
        "outputId": "645ff280-d24d-48d0-e625-b593a9a08c2f"
      },
      "source": [
        "plt.scatter(qids.index, qids)\n",
        "plt.hlines(y=40, xmax=540000, xmin=0, linestyles='dashed', colors='b')\n",
        "plt.xlabel('Unique Id')\n",
        "plt.ylabel('Count')\n",
        "plt.show()  # msot of questions apprear < 40 times"
      ],
      "execution_count": 18,
      "outputs": [
        {
          "output_type": "display_data",
          "data": {
            "image/png": "[encoded data removed]",
            "text/plain": [
              "<Figure size 432x288 with 1 Axes>"
            ]
          },
          "metadata": {
            "tags": [],
            "needs_background": "light"
          }
        }
      ]
    },
    {
      "cell_type": "markdown",
      "metadata": {
        "id": "IlXoHxn5jIXI"
      },
      "source": [
        "##Missing values"
      ]
    },
    {
      "cell_type": "code",
      "metadata": {
        "colab": {
          "base_uri": "https://localhost:8080/"
        },
        "id": "rbMrTvCniEJ7",
        "outputId": "e0627fb7-5b97-41f3-ddbf-18ab6afecb0f"
      },
      "source": [
        "train_set.isnull().sum()"
      ],
      "execution_count": 19,
      "outputs": [
        {
          "output_type": "execute_result",
          "data": {
            "text/plain": [
              "id              0\n",
              "qid1            0\n",
              "qid2            0\n",
              "question1       1\n",
              "question2       2\n",
              "is_duplicate    0\n",
              "dtype: int64"
            ]
          },
          "metadata": {
            "tags": []
          },
          "execution_count": 19
        }
      ]
    },
    {
      "cell_type": "code",
      "metadata": {
        "colab": {
          "base_uri": "https://localhost:8080/",
          "height": 141
        },
        "id": "gQY1qobMjsmh",
        "outputId": "fe67921c-a6cc-4f07-d0d3-fc02b085e0fb"
      },
      "source": [
        "train_set[train_set.isnull().any(axis=1)]   # check if 'True' is present in rows"
      ],
      "execution_count": 20,
      "outputs": [
        {
          "output_type": "execute_result",
          "data": {
            "text/html": [
              "<div>\n",
              "<style scoped>\n",
              "    .dataframe tbody tr th:only-of-type {\n",
              "        vertical-align: middle;\n",
              "    }\n",
              "\n",
              "    .dataframe tbody tr th {\n",
              "        vertical-align: top;\n",
              "    }\n",
              "\n",
              "    .dataframe thead th {\n",
              "        text-align: right;\n",
              "    }\n",
              "</style>\n",
              "<table border=\"1\" class=\"dataframe\">\n",
              "  <thead>\n",
              "    <tr style=\"text-align: right;\">\n",
              "      <th></th>\n",
              "      <th>id</th>\n",
              "      <th>qid1</th>\n",
              "      <th>qid2</th>\n",
              "      <th>question1</th>\n",
              "      <th>question2</th>\n",
              "      <th>is_duplicate</th>\n",
              "    </tr>\n",
              "  </thead>\n",
              "  <tbody>\n",
              "    <tr>\n",
              "      <th>105780</th>\n",
              "      <td>105780</td>\n",
              "      <td>174363</td>\n",
              "      <td>174364</td>\n",
              "      <td>How can I develop android app?</td>\n",
              "      <td>NaN</td>\n",
              "      <td>0</td>\n",
              "    </tr>\n",
              "    <tr>\n",
              "      <th>201841</th>\n",
              "      <td>201841</td>\n",
              "      <td>303951</td>\n",
              "      <td>174364</td>\n",
              "      <td>How can I create an Android app?</td>\n",
              "      <td>NaN</td>\n",
              "      <td>0</td>\n",
              "    </tr>\n",
              "    <tr>\n",
              "      <th>363362</th>\n",
              "      <td>363362</td>\n",
              "      <td>493340</td>\n",
              "      <td>493341</td>\n",
              "      <td>NaN</td>\n",
              "      <td>My Chinese name is Haichao Yu. What English na...</td>\n",
              "      <td>0</td>\n",
              "    </tr>\n",
              "  </tbody>\n",
              "</table>\n",
              "</div>"
            ],
            "text/plain": [
              "            id  ...  is_duplicate\n",
              "105780  105780  ...             0\n",
              "201841  201841  ...             0\n",
              "363362  363362  ...             0\n",
              "\n",
              "[3 rows x 6 columns]"
            ]
          },
          "metadata": {
            "tags": []
          },
          "execution_count": 20
        }
      ]
    },
    {
      "cell_type": "code",
      "metadata": {
        "colab": {
          "base_uri": "https://localhost:8080/"
        },
        "id": "nntiMdTOkB6a",
        "outputId": "9e30ad9e-a48a-46db-fc27-0d6edff98c70"
      },
      "source": [
        "#Fill an empty space inplace of Null value\n",
        "train_set=train_set.fillna('')\n",
        "train_set.isnull().sum(axis=0)"
      ],
      "execution_count": 21,
      "outputs": [
        {
          "output_type": "execute_result",
          "data": {
            "text/plain": [
              "id              0\n",
              "qid1            0\n",
              "qid2            0\n",
              "question1       0\n",
              "question2       0\n",
              "is_duplicate    0\n",
              "dtype: int64"
            ]
          },
          "metadata": {
            "tags": []
          },
          "execution_count": 21
        }
      ]
    },
    {
      "cell_type": "code",
      "metadata": {
        "colab": {
          "base_uri": "https://localhost:8080/",
          "height": 48
        },
        "id": "CiggR-2Sl3ST",
        "outputId": "e3a1b850-8b6d-4ec5-99f5-d01a6281830f"
      },
      "source": [
        "train_set[train_set.isnull().any(axis=1)] # we don't have any Null value in our dataframe"
      ],
      "execution_count": 22,
      "outputs": [
        {
          "output_type": "execute_result",
          "data": {
            "text/html": [
              "<div>\n",
              "<style scoped>\n",
              "    .dataframe tbody tr th:only-of-type {\n",
              "        vertical-align: middle;\n",
              "    }\n",
              "\n",
              "    .dataframe tbody tr th {\n",
              "        vertical-align: top;\n",
              "    }\n",
              "\n",
              "    .dataframe thead th {\n",
              "        text-align: right;\n",
              "    }\n",
              "</style>\n",
              "<table border=\"1\" class=\"dataframe\">\n",
              "  <thead>\n",
              "    <tr style=\"text-align: right;\">\n",
              "      <th></th>\n",
              "      <th>id</th>\n",
              "      <th>qid1</th>\n",
              "      <th>qid2</th>\n",
              "      <th>question1</th>\n",
              "      <th>question2</th>\n",
              "      <th>is_duplicate</th>\n",
              "    </tr>\n",
              "  </thead>\n",
              "  <tbody>\n",
              "  </tbody>\n",
              "</table>\n",
              "</div>"
            ],
            "text/plain": [
              "Empty DataFrame\n",
              "Columns: [id, qid1, qid2, question1, question2, is_duplicate]\n",
              "Index: []"
            ]
          },
          "metadata": {
            "tags": []
          },
          "execution_count": 22
        }
      ]
    },
    {
      "cell_type": "code",
      "metadata": {
        "colab": {
          "base_uri": "https://localhost:8080/",
          "height": 48
        },
        "id": "RJ2FhY4gIs-r",
        "outputId": "b767b584-d1e3-4d98-f897-918630bffa12"
      },
      "source": [
        "test_set=test_set.fillna('')\n",
        "test_set[test_set.isnull().any(axis=1)]"
      ],
      "execution_count": 23,
      "outputs": [
        {
          "output_type": "execute_result",
          "data": {
            "text/html": [
              "<div>\n",
              "<style scoped>\n",
              "    .dataframe tbody tr th:only-of-type {\n",
              "        vertical-align: middle;\n",
              "    }\n",
              "\n",
              "    .dataframe tbody tr th {\n",
              "        vertical-align: top;\n",
              "    }\n",
              "\n",
              "    .dataframe thead th {\n",
              "        text-align: right;\n",
              "    }\n",
              "</style>\n",
              "<table border=\"1\" class=\"dataframe\">\n",
              "  <thead>\n",
              "    <tr style=\"text-align: right;\">\n",
              "      <th></th>\n",
              "      <th>test_id</th>\n",
              "      <th>question1</th>\n",
              "      <th>question2</th>\n",
              "    </tr>\n",
              "  </thead>\n",
              "  <tbody>\n",
              "  </tbody>\n",
              "</table>\n",
              "</div>"
            ],
            "text/plain": [
              "Empty DataFrame\n",
              "Columns: [test_id, question1, question2]\n",
              "Index: []"
            ]
          },
          "metadata": {
            "tags": []
          },
          "execution_count": 23
        }
      ]
    },
    {
      "cell_type": "markdown",
      "metadata": {
        "id": "jbrsk3Owmc8j"
      },
      "source": [
        "##Basic Feature Extraction"
      ]
    },
    {
      "cell_type": "markdown",
      "metadata": {
        "id": "OyyPr8YvmuWD"
      },
      "source": [
        "**New features construction**<br/>\n",
        "\n",
        "*   **freq_qid1**=Frequency of qid1\n",
        "*   **freq_qid2**=Frequency of qid2\n",
        "*   **q1len**=Length of q1 (Characters+space)\n",
        "*   **q2len**=Length of q2\n",
        "*   **q1_n_words**=Number of words in Question 1\n",
        "*   **q2_n_words**=Number of words in Question 2\n",
        "*   **word_Common**=Number of common words in question 1 and question 2\n",
        "*   **word_Total**=Total number of word in question 1 and question 2\n",
        "*   **word_Share**=word_Common/Total_word\n",
        "*   **freq_q1+freq_q2**=sum total of frequency of qid1 and qid2\n",
        "*   **freq_q1-freq_q2**=absoulte difference of frequency of qid1 and qid2\n",
        "\n",
        "\n"
      ]
    },
    {
      "cell_type": "code",
      "metadata": {
        "colab": {
          "base_uri": "https://localhost:8080/",
          "height": 203
        },
        "id": "gyphxrbZmOaB",
        "outputId": "9608d37d-8f3a-41bf-a48e-7da5836e2ed9"
      },
      "source": [
        "train_set.head()"
      ],
      "execution_count": 24,
      "outputs": [
        {
          "output_type": "execute_result",
          "data": {
            "text/html": [
              "<div>\n",
              "<style scoped>\n",
              "    .dataframe tbody tr th:only-of-type {\n",
              "        vertical-align: middle;\n",
              "    }\n",
              "\n",
              "    .dataframe tbody tr th {\n",
              "        vertical-align: top;\n",
              "    }\n",
              "\n",
              "    .dataframe thead th {\n",
              "        text-align: right;\n",
              "    }\n",
              "</style>\n",
              "<table border=\"1\" class=\"dataframe\">\n",
              "  <thead>\n",
              "    <tr style=\"text-align: right;\">\n",
              "      <th></th>\n",
              "      <th>id</th>\n",
              "      <th>qid1</th>\n",
              "      <th>qid2</th>\n",
              "      <th>question1</th>\n",
              "      <th>question2</th>\n",
              "      <th>is_duplicate</th>\n",
              "    </tr>\n",
              "  </thead>\n",
              "  <tbody>\n",
              "    <tr>\n",
              "      <th>0</th>\n",
              "      <td>0</td>\n",
              "      <td>1</td>\n",
              "      <td>2</td>\n",
              "      <td>What is the step by step guide to invest in sh...</td>\n",
              "      <td>What is the step by step guide to invest in sh...</td>\n",
              "      <td>0</td>\n",
              "    </tr>\n",
              "    <tr>\n",
              "      <th>1</th>\n",
              "      <td>1</td>\n",
              "      <td>3</td>\n",
              "      <td>4</td>\n",
              "      <td>What is the story of Kohinoor (Koh-i-Noor) Dia...</td>\n",
              "      <td>What would happen if the Indian government sto...</td>\n",
              "      <td>0</td>\n",
              "    </tr>\n",
              "    <tr>\n",
              "      <th>2</th>\n",
              "      <td>2</td>\n",
              "      <td>5</td>\n",
              "      <td>6</td>\n",
              "      <td>How can I increase the speed of my internet co...</td>\n",
              "      <td>How can Internet speed be increased by hacking...</td>\n",
              "      <td>0</td>\n",
              "    </tr>\n",
              "    <tr>\n",
              "      <th>3</th>\n",
              "      <td>3</td>\n",
              "      <td>7</td>\n",
              "      <td>8</td>\n",
              "      <td>Why am I mentally very lonely? How can I solve...</td>\n",
              "      <td>Find the remainder when [math]23^{24}[/math] i...</td>\n",
              "      <td>0</td>\n",
              "    </tr>\n",
              "    <tr>\n",
              "      <th>4</th>\n",
              "      <td>4</td>\n",
              "      <td>9</td>\n",
              "      <td>10</td>\n",
              "      <td>Which one dissolve in water quikly sugar, salt...</td>\n",
              "      <td>Which fish would survive in salt water?</td>\n",
              "      <td>0</td>\n",
              "    </tr>\n",
              "  </tbody>\n",
              "</table>\n",
              "</div>"
            ],
            "text/plain": [
              "   id  qid1  ...                                          question2 is_duplicate\n",
              "0   0     1  ...  What is the step by step guide to invest in sh...            0\n",
              "1   1     3  ...  What would happen if the Indian government sto...            0\n",
              "2   2     5  ...  How can Internet speed be increased by hacking...            0\n",
              "3   3     7  ...  Find the remainder when [math]23^{24}[/math] i...            0\n",
              "4   4     9  ...            Which fish would survive in salt water?            0\n",
              "\n",
              "[5 rows x 6 columns]"
            ]
          },
          "metadata": {
            "tags": []
          },
          "execution_count": 24
        }
      ]
    },
    {
      "cell_type": "code",
      "metadata": {
        "id": "WeFdfWlXod9o"
      },
      "source": [
        "train_set['freq_qid1']=train_set.groupby('qid1')['id'].transform('count')  # pandas.DataFrame.transform -> Call func on self producing a DataFrame with transformed values|same lenght - similar with window function in SQL\n",
        "train_set['freq_qid2']=train_set.groupby('qid2')['id'].transform('count')  \n",
        "train_set['q1len']=train_set['question1'].str.len()  # pandas.Series.str.len -> Compute the length of each element in string (characters+spaces)\n",
        "train_set['q2len']=train_set['question2'].str.len()\n",
        "train_set['q1_n_words']=train_set['question1'].apply(lambda x: len(str(x).split(' ')))\n",
        "train_set['q2_n_words']=train_set['question2'].apply(lambda x: len(str(x).split(' ')))"
      ],
      "execution_count": 25,
      "outputs": []
    },
    {
      "cell_type": "code",
      "metadata": {
        "id": "kiXM4kKMyY9T"
      },
      "source": [
        "def normalized_word_Common(row):\n",
        "  w1=set(map(lambda x: x.lower().strip(), str(row['question1']).split(' ')))\n",
        "  w2=set(map(lambda x: x.lower().strip(), str(row['question2']).split(' ')))\n",
        "  return 1.0*len(w1 & w2)\n",
        "train_set['word_Common']=train_set.apply(normalized_word_Common, axis=1)"
      ],
      "execution_count": 26,
      "outputs": []
    },
    {
      "cell_type": "code",
      "metadata": {
        "id": "JGoUhIJxYt6W"
      },
      "source": [
        "def normalized_word_Total(row):\n",
        "  w1=set(map(lambda x: x.lower().strip(), str(row['question1']).split(' ')))\n",
        "  w2=set(map(lambda x: x.lower().strip(), str(row['question2']).split(' ')))\n",
        "  return (len(w1)+len(w2))*1.0\n",
        "train_set['word_Total']=train_set.apply(normalized_word_Total, axis=1)"
      ],
      "execution_count": 27,
      "outputs": []
    },
    {
      "cell_type": "code",
      "metadata": {
        "id": "2ISMBhm6aMr4"
      },
      "source": [
        "train_set['word_share']=train_set['word_Common']/train_set['word_Total']\n",
        "train_set['freq_q1+freq_q2']=train_set['freq_qid1']+train_set['freq_qid2']\n",
        "train_set['freq_q1-freq_q2']=np.abs(train_set['freq_qid1']-train_set['freq_qid2'])"
      ],
      "execution_count": 28,
      "outputs": []
    },
    {
      "cell_type": "code",
      "metadata": {
        "colab": {
          "base_uri": "https://localhost:8080/",
          "height": 655
        },
        "id": "c4T7SOOIpGKS",
        "outputId": "3e1f182a-4db9-4202-9186-7f8dbc709c22"
      },
      "source": [
        "train_set.head()"
      ],
      "execution_count": 29,
      "outputs": [
        {
          "output_type": "execute_result",
          "data": {
            "text/html": [
              "<div>\n",
              "<style scoped>\n",
              "    .dataframe tbody tr th:only-of-type {\n",
              "        vertical-align: middle;\n",
              "    }\n",
              "\n",
              "    .dataframe tbody tr th {\n",
              "        vertical-align: top;\n",
              "    }\n",
              "\n",
              "    .dataframe thead th {\n",
              "        text-align: right;\n",
              "    }\n",
              "</style>\n",
              "<table border=\"1\" class=\"dataframe\">\n",
              "  <thead>\n",
              "    <tr style=\"text-align: right;\">\n",
              "      <th></th>\n",
              "      <th>id</th>\n",
              "      <th>qid1</th>\n",
              "      <th>qid2</th>\n",
              "      <th>question1</th>\n",
              "      <th>question2</th>\n",
              "      <th>is_duplicate</th>\n",
              "      <th>freq_qid1</th>\n",
              "      <th>freq_qid2</th>\n",
              "      <th>q1len</th>\n",
              "      <th>q2len</th>\n",
              "      <th>q1_n_words</th>\n",
              "      <th>q2_n_words</th>\n",
              "      <th>word_Common</th>\n",
              "      <th>word_Total</th>\n",
              "      <th>word_share</th>\n",
              "      <th>freq_q1+freq_q2</th>\n",
              "      <th>freq_q1-freq_q2</th>\n",
              "    </tr>\n",
              "  </thead>\n",
              "  <tbody>\n",
              "    <tr>\n",
              "      <th>0</th>\n",
              "      <td>0</td>\n",
              "      <td>1</td>\n",
              "      <td>2</td>\n",
              "      <td>What is the step by step guide to invest in sh...</td>\n",
              "      <td>What is the step by step guide to invest in sh...</td>\n",
              "      <td>0</td>\n",
              "      <td>1</td>\n",
              "      <td>1</td>\n",
              "      <td>66</td>\n",
              "      <td>57</td>\n",
              "      <td>14</td>\n",
              "      <td>12</td>\n",
              "      <td>10.0</td>\n",
              "      <td>23.0</td>\n",
              "      <td>0.434783</td>\n",
              "      <td>2</td>\n",
              "      <td>0</td>\n",
              "    </tr>\n",
              "    <tr>\n",
              "      <th>1</th>\n",
              "      <td>1</td>\n",
              "      <td>3</td>\n",
              "      <td>4</td>\n",
              "      <td>What is the story of Kohinoor (Koh-i-Noor) Dia...</td>\n",
              "      <td>What would happen if the Indian government sto...</td>\n",
              "      <td>0</td>\n",
              "      <td>4</td>\n",
              "      <td>1</td>\n",
              "      <td>51</td>\n",
              "      <td>88</td>\n",
              "      <td>8</td>\n",
              "      <td>13</td>\n",
              "      <td>4.0</td>\n",
              "      <td>20.0</td>\n",
              "      <td>0.200000</td>\n",
              "      <td>5</td>\n",
              "      <td>3</td>\n",
              "    </tr>\n",
              "    <tr>\n",
              "      <th>2</th>\n",
              "      <td>2</td>\n",
              "      <td>5</td>\n",
              "      <td>6</td>\n",
              "      <td>How can I increase the speed of my internet co...</td>\n",
              "      <td>How can Internet speed be increased by hacking...</td>\n",
              "      <td>0</td>\n",
              "      <td>1</td>\n",
              "      <td>1</td>\n",
              "      <td>73</td>\n",
              "      <td>59</td>\n",
              "      <td>14</td>\n",
              "      <td>10</td>\n",
              "      <td>4.0</td>\n",
              "      <td>24.0</td>\n",
              "      <td>0.166667</td>\n",
              "      <td>2</td>\n",
              "      <td>0</td>\n",
              "    </tr>\n",
              "    <tr>\n",
              "      <th>3</th>\n",
              "      <td>3</td>\n",
              "      <td>7</td>\n",
              "      <td>8</td>\n",
              "      <td>Why am I mentally very lonely? How can I solve...</td>\n",
              "      <td>Find the remainder when [math]23^{24}[/math] i...</td>\n",
              "      <td>0</td>\n",
              "      <td>1</td>\n",
              "      <td>1</td>\n",
              "      <td>50</td>\n",
              "      <td>65</td>\n",
              "      <td>11</td>\n",
              "      <td>9</td>\n",
              "      <td>0.0</td>\n",
              "      <td>19.0</td>\n",
              "      <td>0.000000</td>\n",
              "      <td>2</td>\n",
              "      <td>0</td>\n",
              "    </tr>\n",
              "    <tr>\n",
              "      <th>4</th>\n",
              "      <td>4</td>\n",
              "      <td>9</td>\n",
              "      <td>10</td>\n",
              "      <td>Which one dissolve in water quikly sugar, salt...</td>\n",
              "      <td>Which fish would survive in salt water?</td>\n",
              "      <td>0</td>\n",
              "      <td>3</td>\n",
              "      <td>1</td>\n",
              "      <td>76</td>\n",
              "      <td>39</td>\n",
              "      <td>13</td>\n",
              "      <td>7</td>\n",
              "      <td>2.0</td>\n",
              "      <td>20.0</td>\n",
              "      <td>0.100000</td>\n",
              "      <td>4</td>\n",
              "      <td>2</td>\n",
              "    </tr>\n",
              "  </tbody>\n",
              "</table>\n",
              "</div>"
            ],
            "text/plain": [
              "   id  qid1  qid2  ... word_share freq_q1+freq_q2  freq_q1-freq_q2\n",
              "0   0     1     2  ...   0.434783               2                0\n",
              "1   1     3     4  ...   0.200000               5                3\n",
              "2   2     5     6  ...   0.166667               2                0\n",
              "3   3     7     8  ...   0.000000               2                0\n",
              "4   4     9    10  ...   0.100000               4                2\n",
              "\n",
              "[5 rows x 17 columns]"
            ]
          },
          "metadata": {
            "tags": []
          },
          "execution_count": 29
        }
      ]
    },
    {
      "cell_type": "code",
      "metadata": {
        "colab": {
          "base_uri": "https://localhost:8080/",
          "height": 333
        },
        "id": "tJbmnCZjuIWP",
        "outputId": "908080fc-925e-4ae4-ecfd-ff44e2ddb368"
      },
      "source": [
        "train_set.describe()"
      ],
      "execution_count": 30,
      "outputs": [
        {
          "output_type": "execute_result",
          "data": {
            "text/html": [
              "<div>\n",
              "<style scoped>\n",
              "    .dataframe tbody tr th:only-of-type {\n",
              "        vertical-align: middle;\n",
              "    }\n",
              "\n",
              "    .dataframe tbody tr th {\n",
              "        vertical-align: top;\n",
              "    }\n",
              "\n",
              "    .dataframe thead th {\n",
              "        text-align: right;\n",
              "    }\n",
              "</style>\n",
              "<table border=\"1\" class=\"dataframe\">\n",
              "  <thead>\n",
              "    <tr style=\"text-align: right;\">\n",
              "      <th></th>\n",
              "      <th>id</th>\n",
              "      <th>qid1</th>\n",
              "      <th>qid2</th>\n",
              "      <th>is_duplicate</th>\n",
              "      <th>freq_qid1</th>\n",
              "      <th>freq_qid2</th>\n",
              "      <th>q1len</th>\n",
              "      <th>q2len</th>\n",
              "      <th>q1_n_words</th>\n",
              "      <th>q2_n_words</th>\n",
              "      <th>word_Common</th>\n",
              "      <th>word_Total</th>\n",
              "      <th>word_share</th>\n",
              "      <th>freq_q1+freq_q2</th>\n",
              "      <th>freq_q1-freq_q2</th>\n",
              "    </tr>\n",
              "  </thead>\n",
              "  <tbody>\n",
              "    <tr>\n",
              "      <th>count</th>\n",
              "      <td>404290.000000</td>\n",
              "      <td>404290.000000</td>\n",
              "      <td>404290.000000</td>\n",
              "      <td>404290.000000</td>\n",
              "      <td>404290.000000</td>\n",
              "      <td>404290.000000</td>\n",
              "      <td>404290.000000</td>\n",
              "      <td>404290.000000</td>\n",
              "      <td>404290.000000</td>\n",
              "      <td>404290.000000</td>\n",
              "      <td>404290.000000</td>\n",
              "      <td>404290.000000</td>\n",
              "      <td>404290.000000</td>\n",
              "      <td>404290.000000</td>\n",
              "      <td>404290.000000</td>\n",
              "    </tr>\n",
              "    <tr>\n",
              "      <th>mean</th>\n",
              "      <td>202144.500000</td>\n",
              "      <td>217243.942418</td>\n",
              "      <td>220955.655337</td>\n",
              "      <td>0.369198</td>\n",
              "      <td>2.827609</td>\n",
              "      <td>3.046961</td>\n",
              "      <td>59.536709</td>\n",
              "      <td>60.108365</td>\n",
              "      <td>10.944592</td>\n",
              "      <td>11.185120</td>\n",
              "      <td>4.511610</td>\n",
              "      <td>21.126112</td>\n",
              "      <td>0.223362</td>\n",
              "      <td>5.874570</td>\n",
              "      <td>1.845715</td>\n",
              "    </tr>\n",
              "    <tr>\n",
              "      <th>std</th>\n",
              "      <td>116708.614503</td>\n",
              "      <td>157751.700002</td>\n",
              "      <td>159903.182629</td>\n",
              "      <td>0.482588</td>\n",
              "      <td>4.487418</td>\n",
              "      <td>6.026871</td>\n",
              "      <td>29.940655</td>\n",
              "      <td>33.863870</td>\n",
              "      <td>5.431949</td>\n",
              "      <td>6.311076</td>\n",
              "      <td>3.098656</td>\n",
              "      <td>8.592622</td>\n",
              "      <td>0.128336</td>\n",
              "      <td>9.091068</td>\n",
              "      <td>5.187882</td>\n",
              "    </tr>\n",
              "    <tr>\n",
              "      <th>min</th>\n",
              "      <td>0.000000</td>\n",
              "      <td>1.000000</td>\n",
              "      <td>2.000000</td>\n",
              "      <td>0.000000</td>\n",
              "      <td>1.000000</td>\n",
              "      <td>1.000000</td>\n",
              "      <td>0.000000</td>\n",
              "      <td>0.000000</td>\n",
              "      <td>1.000000</td>\n",
              "      <td>1.000000</td>\n",
              "      <td>0.000000</td>\n",
              "      <td>3.000000</td>\n",
              "      <td>0.000000</td>\n",
              "      <td>2.000000</td>\n",
              "      <td>0.000000</td>\n",
              "    </tr>\n",
              "    <tr>\n",
              "      <th>25%</th>\n",
              "      <td>101072.250000</td>\n",
              "      <td>74437.500000</td>\n",
              "      <td>74727.000000</td>\n",
              "      <td>0.000000</td>\n",
              "      <td>1.000000</td>\n",
              "      <td>1.000000</td>\n",
              "      <td>39.000000</td>\n",
              "      <td>39.000000</td>\n",
              "      <td>7.000000</td>\n",
              "      <td>7.000000</td>\n",
              "      <td>2.000000</td>\n",
              "      <td>15.000000</td>\n",
              "      <td>0.125000</td>\n",
              "      <td>2.000000</td>\n",
              "      <td>0.000000</td>\n",
              "    </tr>\n",
              "    <tr>\n",
              "      <th>50%</th>\n",
              "      <td>202144.500000</td>\n",
              "      <td>192182.000000</td>\n",
              "      <td>197052.000000</td>\n",
              "      <td>0.000000</td>\n",
              "      <td>1.000000</td>\n",
              "      <td>1.000000</td>\n",
              "      <td>52.000000</td>\n",
              "      <td>51.000000</td>\n",
              "      <td>10.000000</td>\n",
              "      <td>10.000000</td>\n",
              "      <td>4.000000</td>\n",
              "      <td>19.000000</td>\n",
              "      <td>0.217391</td>\n",
              "      <td>3.000000</td>\n",
              "      <td>0.000000</td>\n",
              "    </tr>\n",
              "    <tr>\n",
              "      <th>75%</th>\n",
              "      <td>303216.750000</td>\n",
              "      <td>346573.500000</td>\n",
              "      <td>354692.500000</td>\n",
              "      <td>1.000000</td>\n",
              "      <td>3.000000</td>\n",
              "      <td>2.000000</td>\n",
              "      <td>72.000000</td>\n",
              "      <td>72.000000</td>\n",
              "      <td>13.000000</td>\n",
              "      <td>13.000000</td>\n",
              "      <td>6.000000</td>\n",
              "      <td>25.000000</td>\n",
              "      <td>0.318182</td>\n",
              "      <td>5.000000</td>\n",
              "      <td>2.000000</td>\n",
              "    </tr>\n",
              "    <tr>\n",
              "      <th>max</th>\n",
              "      <td>404289.000000</td>\n",
              "      <td>537932.000000</td>\n",
              "      <td>537933.000000</td>\n",
              "      <td>1.000000</td>\n",
              "      <td>50.000000</td>\n",
              "      <td>120.000000</td>\n",
              "      <td>623.000000</td>\n",
              "      <td>1169.000000</td>\n",
              "      <td>125.000000</td>\n",
              "      <td>237.000000</td>\n",
              "      <td>41.000000</td>\n",
              "      <td>166.000000</td>\n",
              "      <td>0.500000</td>\n",
              "      <td>157.000000</td>\n",
              "      <td>119.000000</td>\n",
              "    </tr>\n",
              "  </tbody>\n",
              "</table>\n",
              "</div>"
            ],
            "text/plain": [
              "                  id           qid1  ...  freq_q1+freq_q2  freq_q1-freq_q2\n",
              "count  404290.000000  404290.000000  ...    404290.000000    404290.000000\n",
              "mean   202144.500000  217243.942418  ...         5.874570         1.845715\n",
              "std    116708.614503  157751.700002  ...         9.091068         5.187882\n",
              "min         0.000000       1.000000  ...         2.000000         0.000000\n",
              "25%    101072.250000   74437.500000  ...         2.000000         0.000000\n",
              "50%    202144.500000  192182.000000  ...         3.000000         0.000000\n",
              "75%    303216.750000  346573.500000  ...         5.000000         2.000000\n",
              "max    404289.000000  537932.000000  ...       157.000000       119.000000\n",
              "\n",
              "[8 rows x 15 columns]"
            ]
          },
          "metadata": {
            "tags": []
          },
          "execution_count": 30
        }
      ]
    },
    {
      "cell_type": "code",
      "metadata": {
        "colab": {
          "base_uri": "https://localhost:8080/"
        },
        "id": "gdCkJIpKbI8O",
        "outputId": "4f0e33c9-a47d-4c96-944b-23345bfe2db5"
      },
      "source": [
        "print('Minimum length of the questions in question1 = {}'.format(np.min(train_set['q1_n_words'])))\n",
        "print('Minimum length of the questions in question2 = {}'.format(np.min(train_set['q2_n_words'])))\n",
        "print('Number of questions with minimum length in question1 = {}'.format((train_set['q1_n_words']==1).sum()))\n",
        "print('Number of questions with minimum length in question2 = {}'.format((train_set['q2_n_words']==1).sum()))"
      ],
      "execution_count": 31,
      "outputs": [
        {
          "output_type": "stream",
          "text": [
            "Minimum length of the questions in question1 = 1\n",
            "Minimum length of the questions in question2 = 1\n",
            "Number of questions with minimum length in question1 = 67\n",
            "Number of questions with minimum length in question2 = 24\n"
          ],
          "name": "stdout"
        }
      ]
    },
    {
      "cell_type": "code",
      "metadata": {
        "colab": {
          "base_uri": "https://localhost:8080/",
          "height": 478
        },
        "id": "YHCkpo8hzHoX",
        "outputId": "e4b468b9-5d97-4dfe-8f58-d513ac43e917"
      },
      "source": [
        "plt.figure(figsize=(12, 6))\n",
        "\n",
        "plt.subplot(1,2,1)\n",
        "sns.boxplot(x = 'is_duplicate', y = 'word_Common', data = train_set)\n",
        "\n",
        "plt.subplot(1,2,2)\n",
        "sns.distplot(train_set[train_set['is_duplicate'] == 1.0]['word_Common'] , label = \"1\", color = 'red')\n",
        "sns.distplot(train_set[train_set['is_duplicate'] == 0.0]['word_Common'], label = \"0\" , color = 'blue' )\n",
        "plt.legend()\n",
        "plt.show()"
      ],
      "execution_count": 32,
      "outputs": [
        {
          "output_type": "stream",
          "text": [
            "/usr/local/lib/python3.7/dist-packages/seaborn/distributions.py:2557: FutureWarning: `distplot` is a deprecated function and will be removed in a future version. Please adapt your code to use either `displot` (a figure-level function with similar flexibility) or `histplot` (an axes-level function for histograms).\n",
            "  warnings.warn(msg, FutureWarning)\n",
            "/usr/local/lib/python3.7/dist-packages/seaborn/distributions.py:2557: FutureWarning: `distplot` is a deprecated function and will be removed in a future version. Please adapt your code to use either `displot` (a figure-level function with similar flexibility) or `histplot` (an axes-level function for histograms).\n",
            "  warnings.warn(msg, FutureWarning)\n"
          ],
          "name": "stderr"
        },
        {
          "output_type": "display_data",
          "data": {
            "image/png": "[encoded data removed]",
            "text/plain": [
              "<Figure size 864x432 with 2 Axes>"
            ]
          },
          "metadata": {
            "tags": [],
            "needs_background": "light"
          }
        }
      ]
    },
    {
      "cell_type": "markdown",
      "metadata": {
        "id": "hasdvpKYzRzP"
      },
      "source": [
        "\n",
        "\n",
        "*   The distribution of the word_Common feature in duplicate or non-duplicate pair are highly overlap. Therefore, this feature can not be used for classification\n",
        "\n"
      ]
    },
    {
      "cell_type": "code",
      "metadata": {
        "colab": {
          "base_uri": "https://localhost:8080/",
          "height": 478
        },
        "id": "hwpHhcWJfRLO",
        "outputId": "7921e315-36e9-44c1-9223-ed6f0bdadc70"
      },
      "source": [
        "plt.figure(figsize=(12, 6))\n",
        "\n",
        "plt.subplot(1,2,1)\n",
        "sns.boxplot(x = 'is_duplicate', y = 'word_share', data = train_set)\n",
        "\n",
        "plt.subplot(1,2,2)\n",
        "sns.distplot(train_set[train_set['is_duplicate'] == 1.0]['word_share'] , label = \"1\", color = 'red')\n",
        "sns.distplot(train_set[train_set['is_duplicate'] == 0.0]['word_share'], label = \"0\" , color = 'blue' )\n",
        "plt.legend()\n",
        "plt.show()"
      ],
      "execution_count": 33,
      "outputs": [
        {
          "output_type": "stream",
          "text": [
            "/usr/local/lib/python3.7/dist-packages/seaborn/distributions.py:2557: FutureWarning: `distplot` is a deprecated function and will be removed in a future version. Please adapt your code to use either `displot` (a figure-level function with similar flexibility) or `histplot` (an axes-level function for histograms).\n",
            "  warnings.warn(msg, FutureWarning)\n",
            "/usr/local/lib/python3.7/dist-packages/seaborn/distributions.py:2557: FutureWarning: `distplot` is a deprecated function and will be removed in a future version. Please adapt your code to use either `displot` (a figure-level function with similar flexibility) or `histplot` (an axes-level function for histograms).\n",
            "  warnings.warn(msg, FutureWarning)\n"
          ],
          "name": "stderr"
        },
        {
          "output_type": "display_data",
          "data": {
            "image/png": "[encoded data removed]",
            "text/plain": [
              "<Figure size 864x432 with 2 Axes>"
            ]
          },
          "metadata": {
            "tags": [],
            "needs_background": "light"
          }
        }
      ]
    },
    {
      "cell_type": "markdown",
      "metadata": {
        "id": "UgbZSs8TyRVP"
      },
      "source": [
        "\n",
        "\n",
        "*  The average word share of qid1 and qid2 is more **when they are duplicate**(Similar) \n",
        "\n"
      ]
    },
    {
      "cell_type": "markdown",
      "metadata": {
        "id": "vhSi9bU2zyzW"
      },
      "source": [
        "#Processing of Text (Text normalization)"
      ]
    },
    {
      "cell_type": "markdown",
      "metadata": {
        "id": "cQfqipLf21D4"
      },
      "source": [
        "##Import library"
      ]
    },
    {
      "cell_type": "code",
      "metadata": {
        "id": "LpDrv9jFwTic"
      },
      "source": [
        "import warnings\n",
        "warnings.filterwarnings(\"ignore\")\n",
        "%matplotlib inline"
      ],
      "execution_count": 34,
      "outputs": []
    },
    {
      "cell_type": "code",
      "metadata": {
        "id": "7-Vp2LvW2_VS"
      },
      "source": [
        "import nltk\n",
        "from nltk.corpus import stopwords"
      ],
      "execution_count": 35,
      "outputs": []
    },
    {
      "cell_type": "code",
      "metadata": {
        "colab": {
          "base_uri": "https://localhost:8080/"
        },
        "id": "CoIX-ugL5lq9",
        "outputId": "5347cbcf-65fa-420e-e424-285f55f5eaa8"
      },
      "source": [
        "import nltk\n",
        "nltk.download('stopwords')"
      ],
      "execution_count": 36,
      "outputs": [
        {
          "output_type": "stream",
          "text": [
            "[nltk_data] Downloading package stopwords to /root/nltk_data...\n",
            "[nltk_data]   Unzipping corpora/stopwords.zip.\n"
          ],
          "name": "stdout"
        },
        {
          "output_type": "execute_result",
          "data": {
            "text/plain": [
              "True"
            ]
          },
          "metadata": {
            "tags": []
          },
          "execution_count": 36
        }
      ]
    },
    {
      "cell_type": "code",
      "metadata": {
        "colab": {
          "base_uri": "https://localhost:8080/"
        },
        "id": "4-JgnUDAfUp7",
        "outputId": "a56ad8e7-05f1-4f23-cafa-af0170ef9e49"
      },
      "source": [
        "from nltk import word_tokenize\n",
        "nltk.download('punkt')"
      ],
      "execution_count": 37,
      "outputs": [
        {
          "output_type": "stream",
          "text": [
            "[nltk_data] Downloading package punkt to /root/nltk_data...\n",
            "[nltk_data]   Unzipping tokenizers/punkt.zip.\n"
          ],
          "name": "stdout"
        },
        {
          "output_type": "execute_result",
          "data": {
            "text/plain": [
              "True"
            ]
          },
          "metadata": {
            "tags": []
          },
          "execution_count": 37
        }
      ]
    },
    {
      "cell_type": "code",
      "metadata": {
        "id": "RlC5oGTh7SPr"
      },
      "source": [
        "import re\n",
        "from nltk.stem import PorterStemmer\n",
        "from bs4 import BeautifulSoup"
      ],
      "execution_count": 38,
      "outputs": []
    },
    {
      "cell_type": "markdown",
      "metadata": {
        "id": "lSlOeWXf-4SD"
      },
      "source": [
        "##preprocessing"
      ]
    },
    {
      "cell_type": "markdown",
      "metadata": {
        "id": "oauWlvSvc7k4"
      },
      "source": [
        "###Lowercase"
      ]
    },
    {
      "cell_type": "code",
      "metadata": {
        "id": "pj9LHO3UdB_F"
      },
      "source": [
        "def convert_lower_case(data):\n",
        "  return np.char.lower(data)"
      ],
      "execution_count": 39,
      "outputs": []
    },
    {
      "cell_type": "markdown",
      "metadata": {
        "id": "FRSw9fpCd8cV"
      },
      "source": [
        "###Removing stop words"
      ]
    },
    {
      "cell_type": "code",
      "metadata": {
        "id": "bfc_1RdyeB5O"
      },
      "source": [
        "def remove_stop_words(data):\n",
        "  stop_words = stopwords.words('english')\n",
        "  words = word_tokenize(str(data))\n",
        "  new_text=\"\"\n",
        "  for w in words:\n",
        "    if w not in stop_words and len(w)>1:\n",
        "      new_text = new_text+\" \"+w\n",
        "  return data"
      ],
      "execution_count": 40,
      "outputs": []
    },
    {
      "cell_type": "markdown",
      "metadata": {
        "id": "oKWA7_7mgdOg"
      },
      "source": [
        "###Removing punctuation"
      ]
    },
    {
      "cell_type": "code",
      "metadata": {
        "id": "rZbqcKeH5yQp"
      },
      "source": [
        "def remove_punctuation(data):\n",
        "    symbols = \"!\\\"#$%&()*+-./:;<=>?@[\\]^_`{|}~\\n\"\n",
        "    for i in range(len(symbols)):\n",
        "        data = np.char.replace(data, symbols[i], ' ')\n",
        "        data = np.char.replace(data, \"  \", \" \")\n",
        "    data = np.char.replace(data, ',', '')\n",
        "    return data"
      ],
      "execution_count": 41,
      "outputs": []
    },
    {
      "cell_type": "markdown",
      "metadata": {
        "id": "ERxbPLpXg1EM"
      },
      "source": [
        "###Removing apostrophe"
      ]
    },
    {
      "cell_type": "code",
      "metadata": {
        "id": "uPTe-RRrhFH9"
      },
      "source": [
        "def remove_apostrophe(data):\n",
        "    return np.char.replace(data, \"'\", \"\")"
      ],
      "execution_count": 42,
      "outputs": []
    },
    {
      "cell_type": "markdown",
      "metadata": {
        "id": "EmZZooQphbmp"
      },
      "source": [
        "###Stemming"
      ]
    },
    {
      "cell_type": "code",
      "metadata": {
        "id": "DxPmNZIbhNna"
      },
      "source": [
        "def stemming(data):\n",
        "    stemmer= PorterStemmer()\n",
        "    tokens = word_tokenize(str(data))\n",
        "    new_text = \"\"\n",
        "    for w in tokens:\n",
        "        new_text = new_text + \" \" + stemmer.stem(w)\n",
        "    return new_text"
      ],
      "execution_count": 43,
      "outputs": []
    },
    {
      "cell_type": "markdown",
      "metadata": {
        "id": "qLILdOmihiYA"
      },
      "source": [
        "###convert_numbers"
      ]
    },
    {
      "cell_type": "code",
      "metadata": {
        "id": "22TSUOsfhKc_"
      },
      "source": [
        "def convert_numbers(data):\n",
        "    tokens = word_tokenize(str(data))\n",
        "    new_text = \"\"\n",
        "    for w in tokens:\n",
        "        try:\n",
        "            w = num2words(int(w))\n",
        "        except:\n",
        "            a = 0\n",
        "        new_text = new_text + \" \" + w\n",
        "    new_text = np.char.replace(new_text, \"-\", \" \")\n",
        "    return new_tex"
      ],
      "execution_count": 44,
      "outputs": []
    },
    {
      "cell_type": "code",
      "metadata": {
        "id": "K1o_xcQKhuEj"
      },
      "source": [
        "def preprocess(data):\n",
        "    data = convert_lower_case(data)\n",
        "    data = remove_punctuation(data) #remove comma seperately\n",
        "    data = remove_apostrophe(data)\n",
        "    data = remove_stop_words(data)\n",
        "    data = convert_numbers(data)\n",
        "    data = stemming(data)\n",
        "    data = remove_punctuation(data)\n",
        "    data = convert_numbers(data)\n",
        "    data = stemming(data) #needed again as we need to stem the words\n",
        "    data = remove_punctuation(data) #needed again as num2word is giving few hypens and commas fourty-one\n",
        "    data = remove_stop_words(data) #needed again as num2word is giving stop words 101 - one hundred and one\n",
        "    return data"
      ],
      "execution_count": 45,
      "outputs": []
    },
    {
      "cell_type": "markdown",
      "metadata": {
        "id": "u9zEc-vP-oH-"
      },
      "source": [
        "##**Advanced Feature Extraction** (NLP and Fuzzy Features)"
      ]
    },
    {
      "cell_type": "markdown",
      "metadata": {
        "id": "QtqtMX7N--kr"
      },
      "source": [
        "**Definition:**<br/>\n",
        "\n",
        "\n",
        "*   **Token:** Get a token by spliting a space\n",
        "*   **Stop_Word:** Stop word as per NLTK\n",
        "*   **Word:** A token that is not a stop_word\n",
        "\n",
        "\n"
      ]
    },
    {
      "cell_type": "code",
      "metadata": {
        "id": "SSHhFMF39oXW"
      },
      "source": [
        "tokenizer = nltk.RegexpTokenizer(r'\\w+')"
      ],
      "execution_count": 46,
      "outputs": []
    },
    {
      "cell_type": "code",
      "metadata": {
        "id": "oEtBZC16AvK5"
      },
      "source": [
        "# Try"
      ],
      "execution_count": 47,
      "outputs": []
    },
    {
      "cell_type": "code",
      "metadata": {
        "colab": {
          "base_uri": "https://localhost:8080/"
        },
        "id": "84GHy97qA7nD",
        "outputId": "eb298e9c-2c01-4d0a-c470-51a37428dd58"
      },
      "source": [
        "sentences = []\n",
        "for s in tqdm.tqdm(train_set['question1'].tolist()):\n",
        "  sentences.append(tokenizer.tokenize(str(s)))"
      ],
      "execution_count": 48,
      "outputs": [
        {
          "output_type": "stream",
          "text": [
            "100%|██████████| 404290/404290 [00:02<00:00, 171073.92it/s]\n"
          ],
          "name": "stderr"
        }
      ]
    },
    {
      "cell_type": "code",
      "metadata": {
        "colab": {
          "base_uri": "https://localhost:8080/"
        },
        "id": "GqN6LeVoC4mU",
        "outputId": "469ed96c-e155-49c8-970e-a66be7456827"
      },
      "source": [
        "print(train_set['question1'].tolist()[0:2])\n",
        "print(sentences[0:2])"
      ],
      "execution_count": 49,
      "outputs": [
        {
          "output_type": "stream",
          "text": [
            "['What is the step by step guide to invest in share market in india?', 'What is the story of Kohinoor (Koh-i-Noor) Diamond?']\n",
            "[['What', 'is', 'the', 'step', 'by', 'step', 'guide', 'to', 'invest', 'in', 'share', 'market', 'in', 'india'], ['What', 'is', 'the', 'story', 'of', 'Kohinoor', 'Koh', 'i', 'Noor', 'Diamond']]\n"
          ],
          "name": "stdout"
        }
      ]
    },
    {
      "cell_type": "code",
      "metadata": {
        "id": "rZy2oGSMAIcv"
      },
      "source": [
        "def get_words(input_sentences):\n",
        "  output_sentences = []\n",
        "  for p in input_sentences:\n",
        "    output_sentences.append(tokenizer.tokenize(str(p)))\n",
        "  return output_sentences"
      ],
      "execution_count": 50,
      "outputs": []
    },
    {
      "cell_type": "markdown",
      "metadata": {
        "id": "hOofg16urWqP"
      },
      "source": [
        ""
      ]
    },
    {
      "cell_type": "code",
      "metadata": {
        "id": "vw4EFz7zFE7E"
      },
      "source": [
        "train_questions1 = train_set['question1'].tolist()\n",
        "train_questions1_words = get_words(train_set['question1'])\n",
        "train_questions2_words = get_words(train_set['question2'])\n",
        "test_questions1_words = get_words(test_set['question1'])\n",
        "test_questions2_words = get_words(test_set['question2'])"
      ],
      "execution_count": 51,
      "outputs": []
    },
    {
      "cell_type": "code",
      "metadata": {
        "colab": {
          "base_uri": "https://localhost:8080/"
        },
        "id": "6eVRCQ79FHly",
        "outputId": "220b5969-643b-4c0d-a765-beced43ecd46"
      },
      "source": [
        "# Check\n",
        "print(test_set['question2'].tolist()[0:2])\n",
        "print(test_questions2_words[0:2])"
      ],
      "execution_count": 52,
      "outputs": [
        {
          "output_type": "stream",
          "text": [
            "['Why did Microsoft choose core m3 and not core i3 home Surface Pro 4?', 'How much cost does hair transplant require?']\n",
            "[['Why', 'did', 'Microsoft', 'choose', 'core', 'm3', 'and', 'not', 'core', 'i3', 'home', 'Surface', 'Pro', '4'], ['How', 'much', 'cost', 'does', 'hair', 'transplant', 'require']]\n"
          ],
          "name": "stdout"
        }
      ]
    },
    {
      "cell_type": "markdown",
      "metadata": {
        "id": "iSMZwV8OHIoJ"
      },
      "source": [
        "##TF-IDF (Term Frequency — Inverse Document Frequency)\n",
        "Compute a weight to each word which signifies the importanace of the word in the document and corpus. <br/>\n",
        "TF-IDF = Term Frequency (TF)*Inverse Document Frequency (IDF)\n",
        "\n",
        "---\n",
        "*  **Term frequency (TF)**: frequency of a word in a document (highly depends on the length of the document and the generality of word) <br/> TF is individually to each document and word<br/> ***tf(t,d) = count of t in d / number of words in d***\n",
        "\n",
        "\n",
        "*  Why not just use TF?<br/>\n",
        "1. common words, as well as stop-words (e.g. is am are) will have very high values and give those words a very high importance\n",
        "2. \n",
        "\n",
        "---\n",
        "*  **Document Frequency:** the number of documents in which the word is present.We consider one occurrence if the term consists in the document at least once, we do not need to know the number of times the term is present.<br/> ***df(t) = occurrence of t in documents***\n",
        "---\n",
        "**Inverse Document Frequency**\n",
        "idf(t) = N/df\n",
        "\n",
        "\n",
        "*   Large corpus -> IDF explodes <br/>idf(t) = log(N/df)\n",
        "*   word which is not in vocab <br/>df=0 -> idf(t)=log(N/(df+1))\n",
        "\n",
        "\n",
        "---\n",
        "*  t-term (word)\n",
        "*  d-document(set of words)\n",
        "*  N-count of corpus\n",
        "*  corpus-the total document set\n",
        "\n",
        "**Basis version of IF-IDF score:**<br/>\n",
        "tf-idf(t,d) = tf(t,d)*log(N/(df+1))\n",
        "\n",
        "\n",
        "\n",
        "\n",
        "https://towardsdatascience.com/tf-idf-for-document-ranking-from-scratch-in-python-on-real-world-dataset-796d339a4089"
      ]
    },
    {
      "cell_type": "markdown",
      "metadata": {
        "id": "Dac8TRs-M-gD"
      },
      "source": [
        "\n",
        "\n",
        "1.   Vectorize the documents on the vocab (the list of all possible words in the corpus)<br/>\n",
        "\n",
        "\n",
        "\n"
      ]
    },
    {
      "cell_type": "code",
      "metadata": {
        "id": "9twhuCCDG75t"
      },
      "source": [
        "from gensim import corpora\n",
        "from gensim.models import TfidfModel"
      ],
      "execution_count": 53,
      "outputs": []
    },
    {
      "cell_type": "code",
      "metadata": {
        "id": "44GGevyViOck"
      },
      "source": [
        "train_questions1 = train_set['question1'].tolist()\n",
        "train_questions2 = train_set['question2'].tolist()\n",
        "test_questions1 = test_set['question1'].tolist()\n",
        "test_questions2 = test_set['question2'].tolist()"
      ],
      "execution_count": 54,
      "outputs": []
    },
    {
      "cell_type": "code",
      "metadata": {
        "colab": {
          "base_uri": "https://localhost:8080/"
        },
        "id": "8Jv6Fkmqh42u",
        "outputId": "df7357fe-668e-447c-b615-f7f8f758b723"
      },
      "source": [
        "tokenizer = nltk.RegexpTokenizer(r'\\w+')\n",
        "questions = train_questions1 + train_questions2 + test_questions1 + test_questions2\n",
        "questions = list(map(str, questions)) # map -> iterator \n",
        "len(questions)"
      ],
      "execution_count": 55,
      "outputs": [
        {
          "output_type": "execute_result",
          "data": {
            "text/plain": [
              "1808580"
            ]
          },
          "metadata": {
            "tags": []
          },
          "execution_count": 55
        }
      ]
    },
    {
      "cell_type": "code",
      "metadata": {
        "colab": {
          "base_uri": "https://localhost:8080/"
        },
        "id": "w3z34RSfiRpr",
        "outputId": "c8d8b9d0-6c35-475f-cb7f-f27f2639b201"
      },
      "source": [
        "tokenizer = nltk.RegexpTokenizer(r'\\w+')\n",
        "sentences=[]\n",
        "for p in tqdm.tqdm(questions):\n",
        "  sentences.append(tokenizer.tokenize(p))"
      ],
      "execution_count": 56,
      "outputs": [
        {
          "output_type": "stream",
          "text": [
            "100%|██████████| 1808580/1808580 [00:09<00:00, 189623.92it/s]\n"
          ],
          "name": "stderr"
        }
      ]
    },
    {
      "cell_type": "code",
      "metadata": {
        "colab": {
          "base_uri": "https://localhost:8080/"
        },
        "id": "kCUGYGSKiiSr",
        "outputId": "69e7813a-937b-4db4-8f6b-72ed5f760d47"
      },
      "source": [
        "print(questions[0:2])\n",
        "print(sentences[0:2])"
      ],
      "execution_count": 57,
      "outputs": [
        {
          "output_type": "stream",
          "text": [
            "['What is the step by step guide to invest in share market in india?', 'What is the story of Kohinoor (Koh-i-Noor) Diamond?']\n",
            "[['What', 'is', 'the', 'step', 'by', 'step', 'guide', 'to', 'invest', 'in', 'share', 'market', 'in', 'india'], ['What', 'is', 'the', 'story', 'of', 'Kohinoor', 'Koh', 'i', 'Noor', 'Diamond']]\n"
          ],
          "name": "stdout"
        }
      ]
    },
    {
      "cell_type": "code",
      "metadata": {
        "id": "Gem9mDIJi7EM"
      },
      "source": [
        "dictionary = corpora.Dictionary(sentences) # implements the concept of a Dictionary – a mapping between words and their integer ids."
      ],
      "execution_count": 58,
      "outputs": []
    },
    {
      "cell_type": "code",
      "metadata": {
        "id": "9W42yFIKjTY2"
      },
      "source": [
        "new_corpus = [dictionary.doc2bow(txt) for txt in sentences] # Convert document into the bag-of-words (BoW) format = list of (token_id, token_count) tuples.\n",
        "# Convert corpus to BoW format"
      ],
      "execution_count": 59,
      "outputs": []
    },
    {
      "cell_type": "code",
      "metadata": {
        "id": "xZQ78Ey_jt22"
      },
      "source": [
        "tfidf=TfidfModel(new_corpus) # implements functionality related to the TF-IDF              # fit model"
      ],
      "execution_count": 60,
      "outputs": []
    },
    {
      "cell_type": "code",
      "metadata": {
        "colab": {
          "base_uri": "https://localhost:8080/"
        },
        "id": "iF_vJmPrpOi9",
        "outputId": "6dddf536-26c6-435d-96ea-8a55cadb99f2"
      },
      "source": [
        "tfidf[dictionary.doc2bow(['what', 'is', 'this'])] # (token_id, token_count) "
      ],
      "execution_count": 61,
      "outputs": [
        {
          "output_type": "execute_result",
          "data": {
            "text/plain": [
              "[(6, 0.24543834432587414), (62, 0.6548946086289305), (899, 0.7147538532413333)]"
            ]
          },
          "metadata": {
            "tags": []
          },
          "execution_count": 61
        }
      ]
    },
    {
      "cell_type": "code",
      "metadata": {
        "id": "9mTjhCgVqNRv"
      },
      "source": [
        "def get_sentences_tfidfs(input_sentences):\n",
        "  output_vectors = []\n",
        "  for p in input_sentences:\n",
        "    result = tfidf[dictionary.doc2bow(p)]\n",
        "    output_vectors.append(result)\n",
        "  return output_vectors"
      ],
      "execution_count": 62,
      "outputs": []
    },
    {
      "cell_type": "code",
      "metadata": {
        "id": "v-tSnc7jrLGp"
      },
      "source": [
        "train_questions1_tfidfs = get_sentences_tfidfs(train_questions1_words)"
      ],
      "execution_count": 63,
      "outputs": []
    },
    {
      "cell_type": "code",
      "metadata": {
        "id": "xpkNuxUHrnA7"
      },
      "source": [
        "train_questions2_tfidfs = get_sentences_tfidfs(train_questions2_words)"
      ],
      "execution_count": 64,
      "outputs": []
    },
    {
      "cell_type": "code",
      "metadata": {
        "id": "iGmbaz3ntRSG"
      },
      "source": [
        "test_questions1_tfidfs = get_sentences_tfidfs(test_questions1_words)\n",
        "test_questions2_tfidfs = get_sentences_tfidfs(test_questions2_words)"
      ],
      "execution_count": 65,
      "outputs": []
    },
    {
      "cell_type": "code",
      "metadata": {
        "colab": {
          "base_uri": "https://localhost:8080/"
        },
        "id": "Ng7ndP3kr0TM",
        "outputId": "5803fb44-c9f1-4d66-f04b-0ab621e99a0d"
      },
      "source": [
        "print(train_questions2_words[0])\n",
        "print(train_questions2_tfidfs[0])"
      ],
      "execution_count": 66,
      "outputs": [
        {
          "output_type": "stream",
          "text": [
            "['What', 'is', 'the', 'step', 'by', 'step', 'guide', 'to', 'invest', 'in', 'share', 'market']\n",
            "[(0, 0.04933443178164834), (1, 0.19284753228440268), (2, 0.4012820777159717), (3, 0.07473018705834851), (5, 0.3042921938461818), (6, 0.06862665301590684), (7, 0.28692343787055236), (8, 0.3177926004253617), (9, 0.7105924904624032), (10, 0.05043536076045174), (11, 0.07522014648828668)]\n"
          ],
          "name": "stdout"
        }
      ]
    },
    {
      "cell_type": "code",
      "metadata": {
        "colab": {
          "base_uri": "https://localhost:8080/",
          "height": 35
        },
        "id": "VYnq0eCzviUN",
        "outputId": "b7c54614-d5a4-43c6-a2b6-faae3df5a50f"
      },
      "source": [
        "dictionary[1]"
      ],
      "execution_count": 67,
      "outputs": [
        {
          "output_type": "execute_result",
          "data": {
            "application/vnd.google.colaboratory.intrinsic+json": {
              "type": "string"
            },
            "text/plain": [
              "'by'"
            ]
          },
          "metadata": {
            "tags": []
          },
          "execution_count": 67
        }
      ]
    },
    {
      "cell_type": "markdown",
      "metadata": {
        "id": "3ttDZaAKvxeX"
      },
      "source": [
        "##Word2Vec\n",
        "The word2vec algorithms include skip-gram and CBOW models, using either hierarchical softmax or negative sampling\n",
        "* Skip-gram: word -> words in a window\n",
        "* CBOW: words (windows) -> word<br/>\n",
        "\n",
        "output: vector/embedding of words"
      ]
    },
    {
      "cell_type": "code",
      "metadata": {
        "id": "ywf7wQgmvpNz"
      },
      "source": [
        "from gensim.models import Word2Vec"
      ],
      "execution_count": 68,
      "outputs": []
    },
    {
      "cell_type": "code",
      "metadata": {
        "id": "P6bBPTYzxUAI"
      },
      "source": [
        "sentences = sentences[0:10000]  # reduce sample size"
      ],
      "execution_count": 69,
      "outputs": []
    },
    {
      "cell_type": "code",
      "metadata": {
        "id": "q_cysVxdvwN8"
      },
      "source": [
        "word2vec = Word2Vec(sentences=sentences, size=50, window=8, iter=10, min_count=1)"
      ],
      "execution_count": 70,
      "outputs": []
    },
    {
      "cell_type": "code",
      "metadata": {
        "colab": {
          "base_uri": "https://localhost:8080/"
        },
        "id": "qxg0_ggewLB8",
        "outputId": "96408c58-dd3e-4e07-e91b-8fb2e63de5f9"
      },
      "source": [
        "print('person vs man: ', word2vec.wv.similarity('person', 'man'))\n",
        "print('ocean vs sea : ', word2vec.wv.similarity('ocean', 'sea'))b"
      ],
      "execution_count": 71,
      "outputs": [
        {
          "output_type": "stream",
          "text": [
            "person vs man:  0.9894151\n",
            "ocean vs sea :  0.98334086\n"
          ],
          "name": "stdout"
        }
      ]
    },
    {
      "cell_type": "code",
      "metadata": {
        "colab": {
          "base_uri": "https://localhost:8080/"
        },
        "id": "1v3zkCTXKwJ3",
        "outputId": "bd3aa7e5-1b8d-431c-9509-9d6840523e1e"
      },
      "source": [
        "word2vec.wv.vocab['man'].count"
      ],
      "execution_count": 79,
      "outputs": [
        {
          "output_type": "execute_result",
          "data": {
            "text/plain": [
              "28"
            ]
          },
          "metadata": {
            "tags": []
          },
          "execution_count": 79
        }
      ]
    },
    {
      "cell_type": "code",
      "metadata": {
        "colab": {
          "base_uri": "https://localhost:8080/"
        },
        "id": "4QaEU_fuLLj4",
        "outputId": "b5606f24-685c-497e-c501-2705b3f74351"
      },
      "source": [
        "len(word2vec.wv.vocab)"
      ],
      "execution_count": 81,
      "outputs": [
        {
          "output_type": "execute_result",
          "data": {
            "text/plain": [
              "13247"
            ]
          },
          "metadata": {
            "tags": []
          },
          "execution_count": 81
        }
      ]
    },
    {
      "cell_type": "markdown",
      "metadata": {
        "id": "5c9GB8BEx_qz"
      },
      "source": [
        "###Word vector ---> sentence vector"
      ]
    },
    {
      "cell_type": "markdown",
      "metadata": {
        "id": "NYdiHurPyMQw"
      },
      "source": [
        "* Direct Merge: Max, Average, `[w1,w2, w3, ...., wn]`  `w1 100-d vector`\n",
        "\n",
        "* TF-IDF: weighted sum\n",
        "\n",
        "* Deep Learning: embeddings, `[f1, f2,...,fn]` (f --> feature) (LSTM, GRU, Attention)\n",
        "\n",
        "    - Last Output: fn\n",
        "    - Hidden Vector (LSTM, GRU), hn\n",
        "    - Attention: `[aw1, aw2, .... ,awn]`  (attention weights), weighted sum -> sentence vector"
      ]
    },
    {
      "cell_type": "code",
      "metadata": {
        "id": "R3WkZCpvLPLB"
      },
      "source": [
        ""
      ],
      "execution_count": 84,
      "outputs": []
    },
    {
      "cell_type": "markdown",
      "metadata": {
        "id": "UkXLy_050HJv"
      },
      "source": [
        "## Word2Vector or GloVe？\n",
        "\n",
        "* Our data (-)\n",
        "* Public Corups (general, training budget)\n",
        "* Load models, twitter.27B\n",
        "\n",
        "* Huge dataset: training by yourself\n",
        "* small dataset: public models\n",
        "* normal dataset： load public models ---> update model \n",
        "\n",
        "`embedding layer` ---> load weights & fine-tuning (classification/translation)\n",
        "\n",
        "\n",
        "> Indented block\n",
        "\n"
      ]
    },
    {
      "cell_type": "markdown",
      "metadata": {
        "id": "cvj-sTTly2Je"
      },
      "source": [
        "### Load word vectors from pretrained"
      ]
    },
    {
      "cell_type": "markdown",
      "metadata": {
        "id": "PksKjfSGy9wb"
      },
      "source": [
        "use `gensim.models.KeyedVectors`\n",
        "\n",
        "download the model first, such as `glove.6B.100d.txt` from https://nlp.stanford.edu/projects/glove/"
      ]
    },
    {
      "cell_type": "code",
      "metadata": {
        "id": "-g7Q7Lv5yGpB"
      },
      "source": [
        "from gensim.models import KeyedVectors"
      ],
      "execution_count": 72,
      "outputs": []
    },
    {
      "cell_type": "code",
      "metadata": {
        "id": "feVV66t6yj1q"
      },
      "source": [
        "glove_vector_path = '/content/gdrive/My Drive/NLP project/data/glove.twitter.27B.100d.txt'"
      ],
      "execution_count": 73,
      "outputs": []
    },
    {
      "cell_type": "markdown",
      "metadata": {
        "id": "FbcumtUQ1WXZ"
      },
      "source": [
        "####convert glove style to gensim style\n",
        "Glove txts have different styles from gensim. You need convert the styles of glove txts for usage"
      ]
    },
    {
      "cell_type": "code",
      "metadata": {
        "id": "w-yvHElYzBHb"
      },
      "source": [
        "from gensim.test.utils import datapath, get_tmpfile\n",
        "from gensim.scripts.glove2word2vec import glove2word2vec"
      ],
      "execution_count": 74,
      "outputs": []
    },
    {
      "cell_type": "code",
      "metadata": {
        "id": "vyFa12Ts1eyQ"
      },
      "source": [
        "glove_file = datapath(glove_vector_path)\n",
        "tmp_file = get_tmpfile(\"converted_glove.txt\")"
      ],
      "execution_count": 75,
      "outputs": []
    },
    {
      "cell_type": "code",
      "metadata": {
        "colab": {
          "base_uri": "https://localhost:8080/"
        },
        "id": "ui0dTQ4t2fM4",
        "outputId": "c8ed1527-9203-4a5e-ca33-7abec976d37f"
      },
      "source": [
        "from google.colab import drive\n",
        "drive.mount('/content/gdrive')"
      ],
      "execution_count": 76,
      "outputs": [
        {
          "output_type": "stream",
          "text": [
            "Drive already mounted at /content/gdrive; to attempt to forcibly remount, call drive.mount(\"/content/gdrive\", force_remount=True).\n"
          ],
          "name": "stdout"
        }
      ]
    },
    {
      "cell_type": "code",
      "metadata": {
        "id": "wggVvNjc2hNw"
      },
      "source": [
        ""
      ],
      "execution_count": 76,
      "outputs": []
    },
    {
      "cell_type": "code",
      "metadata": {
        "colab": {
          "base_uri": "https://localhost:8080/",
          "height": 310
        },
        "id": "9uFG1L4P1ihI",
        "outputId": "5fe49480-7d61-491b-e1b7-20867b7badc3"
      },
      "source": [
        "_ = glove2word2vec(glove_file, tmp_file)"
      ],
      "execution_count": 77,
      "outputs": [
        {
          "output_type": "error",
          "ename": "FileNotFoundError",
          "evalue": "ignored",
          "traceback": [
            "\u001b[0;31m---------------------------------------------------------------------------\u001b[0m",
            "\u001b[0;31mFileNotFoundError\u001b[0m                         Traceback (most recent call last)",
            "\u001b[0;32m<ipython-input-77-f93949e0cb52>\u001b[0m in \u001b[0;36m<module>\u001b[0;34m()\u001b[0m\n\u001b[0;32m----> 1\u001b[0;31m \u001b[0m_\u001b[0m \u001b[0;34m=\u001b[0m \u001b[0mglove2word2vec\u001b[0m\u001b[0;34m(\u001b[0m\u001b[0mglove_file\u001b[0m\u001b[0;34m,\u001b[0m \u001b[0mtmp_file\u001b[0m\u001b[0;34m)\u001b[0m\u001b[0;34m\u001b[0m\u001b[0;34m\u001b[0m\u001b[0m\n\u001b[0m",
            "\u001b[0;32m/usr/local/lib/python3.7/dist-packages/gensim/scripts/glove2word2vec.py\u001b[0m in \u001b[0;36mglove2word2vec\u001b[0;34m(glove_input_file, word2vec_output_file)\u001b[0m\n\u001b[1;32m    102\u001b[0m \u001b[0;34m\u001b[0m\u001b[0m\n\u001b[1;32m    103\u001b[0m     \"\"\"\n\u001b[0;32m--> 104\u001b[0;31m     \u001b[0mnum_lines\u001b[0m\u001b[0;34m,\u001b[0m \u001b[0mnum_dims\u001b[0m \u001b[0;34m=\u001b[0m \u001b[0mget_glove_info\u001b[0m\u001b[0;34m(\u001b[0m\u001b[0mglove_input_file\u001b[0m\u001b[0;34m)\u001b[0m\u001b[0;34m\u001b[0m\u001b[0;34m\u001b[0m\u001b[0m\n\u001b[0m\u001b[1;32m    105\u001b[0m     \u001b[0mlogger\u001b[0m\u001b[0;34m.\u001b[0m\u001b[0minfo\u001b[0m\u001b[0;34m(\u001b[0m\u001b[0;34m\"converting %i vectors from %s to %s\"\u001b[0m\u001b[0;34m,\u001b[0m \u001b[0mnum_lines\u001b[0m\u001b[0;34m,\u001b[0m \u001b[0mglove_input_file\u001b[0m\u001b[0;34m,\u001b[0m \u001b[0mword2vec_output_file\u001b[0m\u001b[0;34m)\u001b[0m\u001b[0;34m\u001b[0m\u001b[0;34m\u001b[0m\u001b[0m\n\u001b[1;32m    106\u001b[0m     \u001b[0;32mwith\u001b[0m \u001b[0msmart_open\u001b[0m\u001b[0;34m(\u001b[0m\u001b[0mword2vec_output_file\u001b[0m\u001b[0;34m,\u001b[0m \u001b[0;34m'wb'\u001b[0m\u001b[0;34m)\u001b[0m \u001b[0;32mas\u001b[0m \u001b[0mfout\u001b[0m\u001b[0;34m:\u001b[0m\u001b[0;34m\u001b[0m\u001b[0;34m\u001b[0m\u001b[0m\n",
            "\u001b[0;32m/usr/local/lib/python3.7/dist-packages/gensim/scripts/glove2word2vec.py\u001b[0m in \u001b[0;36mget_glove_info\u001b[0;34m(glove_file_name)\u001b[0m\n\u001b[1;32m     79\u001b[0m \u001b[0;34m\u001b[0m\u001b[0m\n\u001b[1;32m     80\u001b[0m     \"\"\"\n\u001b[0;32m---> 81\u001b[0;31m     \u001b[0;32mwith\u001b[0m \u001b[0msmart_open\u001b[0m\u001b[0;34m(\u001b[0m\u001b[0mglove_file_name\u001b[0m\u001b[0;34m)\u001b[0m \u001b[0;32mas\u001b[0m \u001b[0mf\u001b[0m\u001b[0;34m:\u001b[0m\u001b[0;34m\u001b[0m\u001b[0;34m\u001b[0m\u001b[0m\n\u001b[0m\u001b[1;32m     82\u001b[0m         \u001b[0mnum_lines\u001b[0m \u001b[0;34m=\u001b[0m \u001b[0msum\u001b[0m\u001b[0;34m(\u001b[0m\u001b[0;36m1\u001b[0m \u001b[0;32mfor\u001b[0m \u001b[0m_\u001b[0m \u001b[0;32min\u001b[0m \u001b[0mf\u001b[0m\u001b[0;34m)\u001b[0m\u001b[0;34m\u001b[0m\u001b[0;34m\u001b[0m\u001b[0m\n\u001b[1;32m     83\u001b[0m     \u001b[0;32mwith\u001b[0m \u001b[0msmart_open\u001b[0m\u001b[0;34m(\u001b[0m\u001b[0mglove_file_name\u001b[0m\u001b[0;34m)\u001b[0m \u001b[0;32mas\u001b[0m \u001b[0mf\u001b[0m\u001b[0;34m:\u001b[0m\u001b[0;34m\u001b[0m\u001b[0;34m\u001b[0m\u001b[0m\n",
            "\u001b[0;32m/usr/local/lib/python3.7/dist-packages/smart_open/smart_open_lib.py\u001b[0m in \u001b[0;36msmart_open\u001b[0;34m(***failed resolving arguments***)\u001b[0m\n\u001b[1;32m    481\u001b[0m     \u001b[0mignore_ext\u001b[0m \u001b[0;34m=\u001b[0m \u001b[0mignore_extension\u001b[0m\u001b[0;34m\u001b[0m\u001b[0;34m\u001b[0m\u001b[0m\n\u001b[1;32m    482\u001b[0m     \u001b[0;32mdel\u001b[0m \u001b[0mkwargs\u001b[0m\u001b[0;34m,\u001b[0m \u001b[0murl\u001b[0m\u001b[0;34m,\u001b[0m \u001b[0mmessage\u001b[0m\u001b[0;34m,\u001b[0m \u001b[0mignore_extension\u001b[0m\u001b[0;34m\u001b[0m\u001b[0;34m\u001b[0m\u001b[0m\n\u001b[0;32m--> 483\u001b[0;31m     \u001b[0;32mreturn\u001b[0m \u001b[0mopen\u001b[0m\u001b[0;34m(\u001b[0m\u001b[0;34m**\u001b[0m\u001b[0mlocals\u001b[0m\u001b[0;34m(\u001b[0m\u001b[0;34m)\u001b[0m\u001b[0;34m)\u001b[0m\u001b[0;34m\u001b[0m\u001b[0;34m\u001b[0m\u001b[0m\n\u001b[0m\u001b[1;32m    484\u001b[0m \u001b[0;34m\u001b[0m\u001b[0m\n\u001b[1;32m    485\u001b[0m \u001b[0;34m\u001b[0m\u001b[0m\n",
            "\u001b[0;32m/usr/local/lib/python3.7/dist-packages/smart_open/smart_open_lib.py\u001b[0m in \u001b[0;36mopen\u001b[0;34m(uri, mode, buffering, encoding, errors, newline, closefd, opener, ignore_ext, transport_params)\u001b[0m\n\u001b[1;32m    179\u001b[0m         \u001b[0mencoding\u001b[0m\u001b[0;34m=\u001b[0m\u001b[0mencoding\u001b[0m\u001b[0;34m,\u001b[0m\u001b[0;34m\u001b[0m\u001b[0;34m\u001b[0m\u001b[0m\n\u001b[1;32m    180\u001b[0m         \u001b[0merrors\u001b[0m\u001b[0;34m=\u001b[0m\u001b[0merrors\u001b[0m\u001b[0;34m,\u001b[0m\u001b[0;34m\u001b[0m\u001b[0;34m\u001b[0m\u001b[0m\n\u001b[0;32m--> 181\u001b[0;31m         \u001b[0mnewline\u001b[0m\u001b[0;34m=\u001b[0m\u001b[0mnewline\u001b[0m\u001b[0;34m,\u001b[0m\u001b[0;34m\u001b[0m\u001b[0;34m\u001b[0m\u001b[0m\n\u001b[0m\u001b[1;32m    182\u001b[0m     )\n\u001b[1;32m    183\u001b[0m     \u001b[0;32mif\u001b[0m \u001b[0mfobj\u001b[0m \u001b[0;32mis\u001b[0m \u001b[0;32mnot\u001b[0m \u001b[0;32mNone\u001b[0m\u001b[0;34m:\u001b[0m\u001b[0;34m\u001b[0m\u001b[0;34m\u001b[0m\u001b[0m\n",
            "\u001b[0;32m/usr/local/lib/python3.7/dist-packages/smart_open/smart_open_lib.py\u001b[0m in \u001b[0;36m_shortcut_open\u001b[0;34m(uri, mode, ignore_ext, buffering, encoding, errors, newline)\u001b[0m\n\u001b[1;32m    344\u001b[0m         \u001b[0mopen_kwargs\u001b[0m\u001b[0;34m[\u001b[0m\u001b[0;34m'errors'\u001b[0m\u001b[0;34m]\u001b[0m \u001b[0;34m=\u001b[0m \u001b[0merrors\u001b[0m\u001b[0;34m\u001b[0m\u001b[0;34m\u001b[0m\u001b[0m\n\u001b[1;32m    345\u001b[0m \u001b[0;34m\u001b[0m\u001b[0m\n\u001b[0;32m--> 346\u001b[0;31m     \u001b[0;32mreturn\u001b[0m \u001b[0m_builtin_open\u001b[0m\u001b[0;34m(\u001b[0m\u001b[0mlocal_path\u001b[0m\u001b[0;34m,\u001b[0m \u001b[0mmode\u001b[0m\u001b[0;34m,\u001b[0m \u001b[0mbuffering\u001b[0m\u001b[0;34m=\u001b[0m\u001b[0mbuffering\u001b[0m\u001b[0;34m,\u001b[0m \u001b[0;34m**\u001b[0m\u001b[0mopen_kwargs\u001b[0m\u001b[0;34m)\u001b[0m\u001b[0;34m\u001b[0m\u001b[0;34m\u001b[0m\u001b[0m\n\u001b[0m\u001b[1;32m    347\u001b[0m \u001b[0;34m\u001b[0m\u001b[0m\n\u001b[1;32m    348\u001b[0m \u001b[0;34m\u001b[0m\u001b[0m\n",
            "\u001b[0;31mFileNotFoundError\u001b[0m: [Errno 2] No such file or directory: '/content/gdrive/My Drive/NLP project/data/glove.twitter.27B.100d.txt'"
          ]
        }
      ]
    },
    {
      "cell_type": "code",
      "metadata": {
        "id": "DzbvF8wE1r8w"
      },
      "source": [
        ""
      ],
      "execution_count": null,
      "outputs": []
    }
  ]
}