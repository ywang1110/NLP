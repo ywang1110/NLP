{
  "nbformat": 4,
  "nbformat_minor": 0,
  "metadata": {
    "colab": {
      "name": "Quora Question Pairs Similarity Problem.ipynb",
      "provenance": [],
      "toc_visible": true,
      "mount_file_id": "1Q2Jwc44XoYxwxOoRhgbGRBLZjHPRokda",
      "authorship_tag": "ABX9TyMT4IrAaJMSffQV9nVcGO2E",
      "include_colab_link": true
    },
    "kernelspec": {
      "name": "python3",
      "display_name": "Python 3"
    },
    "language_info": {
      "name": "python"
    }
  },
  "cells": [
    {
      "cell_type": "markdown",
      "metadata": {
        "id": "view-in-github",
        "colab_type": "text"
      },
      "source": [
        "<a href=\"https://colab.research.google.com/github/ywang1110/NLP/blob/main/Quora_Question_Pairs_Similarity_Problem.ipynb\" target=\"_parent\"><img src=\"https://colab.research.google.com/assets/colab-badge.svg\" alt=\"Open In Colab\"/></a>"
      ]
    },
    {
      "cell_type": "markdown",
      "metadata": {
        "id": "Jg5Vx_CMJe06"
      },
      "source": [
        "\n",
        "<img src=\"https://miro.medium.com/max/1440/1*YulfXLgM6rhCtaJHDgPPtQ.png\"\n",
        " height=\"200\"/>\n"
      ]
    },
    {
      "cell_type": "markdown",
      "metadata": {
        "id": "a2B-Wxh7KgFI"
      },
      "source": [
        "**Reference**:<br/>https://medium.com/analytics-vidhya/quora-question-pairs-similarity-problem-8e3ae90441f0 <br/>https://github.com/vedanshsharma/Quora-Questions-Pairs-Similarity-Problem"
      ]
    },
    {
      "cell_type": "markdown",
      "metadata": {
        "id": "MHQG1sASRZE9"
      },
      "source": [
        "#Import libraries"
      ]
    },
    {
      "cell_type": "code",
      "metadata": {
        "id": "YJhNO7rpRcdF"
      },
      "source": [
        "import pandas as pd\n",
        "import numpy as np\n",
        "import nltk\n",
        "import tqdm\n",
        "import seaborn as sns\n",
        "import matplotlib.pyplot as plt"
      ],
      "execution_count": null,
      "outputs": []
    },
    {
      "cell_type": "markdown",
      "metadata": {
        "id": "RCbApKuvRT7d"
      },
      "source": [
        "#Import the data"
      ]
    },
    {
      "cell_type": "code",
      "metadata": {
        "colab": {
          "base_uri": "https://localhost:8080/"
        },
        "id": "e4RrATVFKxah",
        "outputId": "07d847b0-3c84-45a2-98b5-c3a8b72e34be"
      },
      "source": [
        "from google.colab import drive\n",
        "drive.mount(\"/content/gdrive\")"
      ],
      "execution_count": null,
      "outputs": [
        {
          "output_type": "stream",
          "text": [
            "Mounted at /content/gdrive\n"
          ],
          "name": "stdout"
        }
      ]
    },
    {
      "cell_type": "code",
      "metadata": {
        "id": "4t4rznSKQtx0"
      },
      "source": [
        "import pandas as pd\n",
        "train_set = pd.read_csv('/content/gdrive/My Drive/NLP project/data/train.csv')[0:120000]\n",
        "test_set = pd.read_csv('/content/gdrive/My Drive/NLP project/data/test.csv')[0:30000]"
      ],
      "execution_count": null,
      "outputs": []
    },
    {
      "cell_type": "code",
      "metadata": {
        "colab": {
          "base_uri": "https://localhost:8080/",
          "height": 258
        },
        "id": "6j29HHChRN8w",
        "outputId": "b9c7ac3b-1d0a-4deb-9c63-ebad7e6830d5"
      },
      "source": [
        "train_set.sample(5)"
      ],
      "execution_count": null,
      "outputs": [
        {
          "output_type": "execute_result",
          "data": {
            "text/html": [
              "<div>\n",
              "<style scoped>\n",
              "    .dataframe tbody tr th:only-of-type {\n",
              "        vertical-align: middle;\n",
              "    }\n",
              "\n",
              "    .dataframe tbody tr th {\n",
              "        vertical-align: top;\n",
              "    }\n",
              "\n",
              "    .dataframe thead th {\n",
              "        text-align: right;\n",
              "    }\n",
              "</style>\n",
              "<table border=\"1\" class=\"dataframe\">\n",
              "  <thead>\n",
              "    <tr style=\"text-align: right;\">\n",
              "      <th></th>\n",
              "      <th>id</th>\n",
              "      <th>qid1</th>\n",
              "      <th>qid2</th>\n",
              "      <th>question1</th>\n",
              "      <th>question2</th>\n",
              "      <th>is_duplicate</th>\n",
              "    </tr>\n",
              "  </thead>\n",
              "  <tbody>\n",
              "    <tr>\n",
              "      <th>82065</th>\n",
              "      <td>82065</td>\n",
              "      <td>139246</td>\n",
              "      <td>139247</td>\n",
              "      <td>How tough is the GATE exam?</td>\n",
              "      <td>How tough is GATE Examination?</td>\n",
              "      <td>1</td>\n",
              "    </tr>\n",
              "    <tr>\n",
              "      <th>65638</th>\n",
              "      <td>65638</td>\n",
              "      <td>113883</td>\n",
              "      <td>113884</td>\n",
              "      <td>What is your experience with using proto-perso...</td>\n",
              "      <td>Can you paint a picture in a space ship?</td>\n",
              "      <td>0</td>\n",
              "    </tr>\n",
              "    <tr>\n",
              "      <th>56583</th>\n",
              "      <td>56583</td>\n",
              "      <td>11917</td>\n",
              "      <td>99571</td>\n",
              "      <td>How does it feel to fall out of love?</td>\n",
              "      <td>Can we fall out of love?</td>\n",
              "      <td>1</td>\n",
              "    </tr>\n",
              "    <tr>\n",
              "      <th>107997</th>\n",
              "      <td>107997</td>\n",
              "      <td>177541</td>\n",
              "      <td>124233</td>\n",
              "      <td>Which intersections in Detroit are particularl...</td>\n",
              "      <td>Which intersections in Portland, OR are partic...</td>\n",
              "      <td>0</td>\n",
              "    </tr>\n",
              "    <tr>\n",
              "      <th>17663</th>\n",
              "      <td>17663</td>\n",
              "      <td>33528</td>\n",
              "      <td>33529</td>\n",
              "      <td>What is more important, knowledge or marks?</td>\n",
              "      <td>Is imagination more important than knowledge i...</td>\n",
              "      <td>0</td>\n",
              "    </tr>\n",
              "  </tbody>\n",
              "</table>\n",
              "</div>"
            ],
            "text/plain": [
              "            id  ...  is_duplicate\n",
              "82065    82065  ...             1\n",
              "65638    65638  ...             0\n",
              "56583    56583  ...             1\n",
              "107997  107997  ...             0\n",
              "17663    17663  ...             0\n",
              "\n",
              "[5 rows x 6 columns]"
            ]
          },
          "metadata": {
            "tags": []
          },
          "execution_count": 4
        }
      ]
    },
    {
      "cell_type": "code",
      "metadata": {
        "id": "iWFsvDiTRo_m",
        "colab": {
          "base_uri": "https://localhost:8080/",
          "height": 206
        },
        "outputId": "a4b7ba05-83fd-4ff0-aaaa-e2e395e5c0a6"
      },
      "source": [
        "test_set.sample(5)"
      ],
      "execution_count": null,
      "outputs": [
        {
          "output_type": "execute_result",
          "data": {
            "text/html": [
              "<div>\n",
              "<style scoped>\n",
              "    .dataframe tbody tr th:only-of-type {\n",
              "        vertical-align: middle;\n",
              "    }\n",
              "\n",
              "    .dataframe tbody tr th {\n",
              "        vertical-align: top;\n",
              "    }\n",
              "\n",
              "    .dataframe thead th {\n",
              "        text-align: right;\n",
              "    }\n",
              "</style>\n",
              "<table border=\"1\" class=\"dataframe\">\n",
              "  <thead>\n",
              "    <tr style=\"text-align: right;\">\n",
              "      <th></th>\n",
              "      <th>test_id</th>\n",
              "      <th>question1</th>\n",
              "      <th>question2</th>\n",
              "    </tr>\n",
              "  </thead>\n",
              "  <tbody>\n",
              "    <tr>\n",
              "      <th>23822</th>\n",
              "      <td>23822</td>\n",
              "      <td>I Need tableau experts what's app group?</td>\n",
              "      <td>What hatches from 10 km eggs in Pokémon GO?</td>\n",
              "    </tr>\n",
              "    <tr>\n",
              "      <th>23818</th>\n",
              "      <td>23818</td>\n",
              "      <td>What is the street price for Percocet 10/325?</td>\n",
              "      <td>The total price of bat and ball is 1.10₹. The ...</td>\n",
              "    </tr>\n",
              "    <tr>\n",
              "      <th>6652</th>\n",
              "      <td>6652</td>\n",
              "      <td>Should I settle in Canada or problem?</td>\n",
              "      <td>What is the muslims way to settle in Canada?</td>\n",
              "    </tr>\n",
              "    <tr>\n",
              "      <th>19207</th>\n",
              "      <td>19207</td>\n",
              "      <td>What code feature metro or underground transpo...</td>\n",
              "      <td>How do Metro PCS's plans?</td>\n",
              "    </tr>\n",
              "    <tr>\n",
              "      <th>28860</th>\n",
              "      <td>28860</td>\n",
              "      <td>What real-life the relationship of philosophy ...</td>\n",
              "      <td>Do Ceres and other dwarf planets abide by the ...</td>\n",
              "    </tr>\n",
              "  </tbody>\n",
              "</table>\n",
              "</div>"
            ],
            "text/plain": [
              "       test_id  ...                                          question2\n",
              "23822    23822  ...        What hatches from 10 km eggs in Pokémon GO?\n",
              "23818    23818  ...  The total price of bat and ball is 1.10₹. The ...\n",
              "6652      6652  ...       What is the muslims way to settle in Canada?\n",
              "19207    19207  ...                          How do Metro PCS's plans?\n",
              "28860    28860  ...  Do Ceres and other dwarf planets abide by the ...\n",
              "\n",
              "[5 rows x 3 columns]"
            ]
          },
          "metadata": {
            "tags": []
          },
          "execution_count": 5
        }
      ]
    },
    {
      "cell_type": "code",
      "metadata": {
        "id": "P1AS6FgXOkd8"
      },
      "source": [
        "train_questions1 = train_set['question1'].tolist()\n",
        "train_questions2 = train_set['question2'].tolist()\n",
        "test_questions1 = test_set['question1'].tolist()\n",
        "test_questions2 = test_set['question2'].tolist()"
      ],
      "execution_count": null,
      "outputs": []
    },
    {
      "cell_type": "code",
      "metadata": {
        "colab": {
          "base_uri": "https://localhost:8080/"
        },
        "id": "_rTmINWOOlab",
        "outputId": "9ac56fa2-0dbc-4f2b-9e9f-002efae92818"
      },
      "source": [
        "questions = train_questions1 + train_questions2 + test_questions1 + test_questions2\n",
        "questions = list(map(str, questions)) # map -> iterator \n",
        "len(questions)"
      ],
      "execution_count": null,
      "outputs": [
        {
          "output_type": "execute_result",
          "data": {
            "text/plain": [
              "300000"
            ]
          },
          "metadata": {
            "tags": []
          },
          "execution_count": 7
        }
      ]
    },
    {
      "cell_type": "markdown",
      "metadata": {
        "id": "3XLSVYBvPNds"
      },
      "source": [
        "#Tokenization"
      ]
    },
    {
      "cell_type": "code",
      "metadata": {
        "id": "qhljmGpMPMo9"
      },
      "source": [
        "tokenizer = nltk.RegexpTokenizer(r'\\w+') # only words"
      ],
      "execution_count": null,
      "outputs": []
    },
    {
      "cell_type": "code",
      "metadata": {
        "colab": {
          "base_uri": "https://localhost:8080/"
        },
        "id": "_Zx27Sw0Pcn9",
        "outputId": "d77b794f-b7fc-4e44-ca3a-1fe889be5d29"
      },
      "source": [
        "sentences = []\n",
        "for p in tqdm.tqdm(questions):\n",
        "  sentences.append(tokenizer.tokenize(str(p)))"
      ],
      "execution_count": null,
      "outputs": [
        {
          "output_type": "stream",
          "text": [
            "100%|██████████| 300000/300000 [00:02<00:00, 136021.53it/s]\n"
          ],
          "name": "stderr"
        }
      ]
    },
    {
      "cell_type": "code",
      "metadata": {
        "colab": {
          "base_uri": "https://localhost:8080/"
        },
        "id": "wPMA3inqPu7e",
        "outputId": "4ada78b4-0751-4543-bd9f-722e45d351dc"
      },
      "source": [
        "print(questions[0:2])\n",
        "print(sentences[0:2])"
      ],
      "execution_count": null,
      "outputs": [
        {
          "output_type": "stream",
          "text": [
            "['What is the step by step guide to invest in share market in india?', 'What is the story of Kohinoor (Koh-i-Noor) Diamond?']\n",
            "[['What', 'is', 'the', 'step', 'by', 'step', 'guide', 'to', 'invest', 'in', 'share', 'market', 'in', 'india'], ['What', 'is', 'the', 'story', 'of', 'Kohinoor', 'Koh', 'i', 'Noor', 'Diamond']]\n"
          ],
          "name": "stdout"
        }
      ]
    },
    {
      "cell_type": "code",
      "metadata": {
        "id": "AvVSgvTmQEWA"
      },
      "source": [
        "def get_words(input_sentences):\n",
        "  output_sentences = []\n",
        "  for p in input_sentences:\n",
        "    output_sentences.append(tokenizer.tokenize(str(p)))\n",
        "  return output_sentences"
      ],
      "execution_count": null,
      "outputs": []
    },
    {
      "cell_type": "code",
      "metadata": {
        "id": "DL_oad9-QQNu"
      },
      "source": [
        "train_questions1_words = get_words(train_questions1)\n",
        "train_questions2_words = get_words(train_questions2)\n",
        "test_questions1_words = get_words(test_questions1)\n",
        "test_questions2_words = get_words(test_questions2)"
      ],
      "execution_count": null,
      "outputs": []
    },
    {
      "cell_type": "markdown",
      "metadata": {
        "id": "Z3HS96tiQqsv"
      },
      "source": [
        "##TF-IDF (Term Frequency — Inverse Document Frequency)\n",
        "Compute a weight to each word which signifies the importanace of the word in the document and corpus. <br/>\n",
        "TF-IDF = Term Frequency (TF)*Inverse Document Frequency (IDF)\n",
        "**output** weight(scalar)\n",
        "---\n",
        "*  **Term frequency (TF)**: frequency of a word in a document (highly depends on the length of the document and the generality of word) <br/> TF is individually to each document and word<br/> ***tf(t,d) = count of t in d / number of words in d***\n",
        "\n",
        "\n",
        "*  Why not just use TF?<br/>\n",
        "1. common words, as well as stop-words (e.g. is am are) will have very high values and give those words a very high importance\n",
        "2. \n",
        "\n",
        "---\n",
        "*  **Document Frequency:** the number of documents in which the word is present.We consider one occurrence if the term consists in the document at least once, we do not need to know the number of times the term is present.<br/> ***df(t) = occurrence of t in documents***\n",
        "---\n",
        "**Inverse Document Frequency**\n",
        "idf(t) = N/df\n",
        "\n",
        "\n",
        "*   Large corpus -> IDF explodes <br/>idf(t) = log(N/df)\n",
        "*   word which is not in vocab <br/>df=0 -> idf(t)=log(N/(df+1))\n",
        "\n",
        "\n",
        "---\n",
        "*  t-term (word)\n",
        "*  d-document(set of words)\n",
        "*  N-count of corpus\n",
        "*  corpus-the total document set\n",
        "\n",
        "**Basis version of IF-IDF score:**<br/>\n",
        "tf-idf(t,d) = tf(t,d)*log(N/(df+1))\n",
        "\n",
        "\n",
        "\n",
        "\n",
        "https://towardsdatascience.com/tf-idf-for-document-ranking-from-scratch-in-python-on-real-world-dataset-796d339a4089"
      ]
    },
    {
      "cell_type": "code",
      "metadata": {
        "id": "RqS0kghIQqcm"
      },
      "source": [
        "from gensim import corpora\n",
        "from gensim.models import TfidfModel"
      ],
      "execution_count": null,
      "outputs": []
    },
    {
      "cell_type": "code",
      "metadata": {
        "id": "9NeWlg5Tnbsf"
      },
      "source": [
        "dictionary = corpora.Dictionary(sentences)  # implements the concept of a Dictionary – a mapping between words and their integer ids.\n",
        "new_corpus = [dictionary.doc2bow(txt) for txt in sentences] # Convert document into the bag-of-words (BoW) format = list of (token_id, token_count) tuples."
      ],
      "execution_count": null,
      "outputs": []
    },
    {
      "cell_type": "code",
      "metadata": {
        "id": "M33FWADzneTH"
      },
      "source": [
        "tfidf=TfidfModel(new_corpus) # implements functionality related to the TF-IDF              # fit model"
      ],
      "execution_count": null,
      "outputs": []
    },
    {
      "cell_type": "code",
      "metadata": {
        "colab": {
          "base_uri": "https://localhost:8080/"
        },
        "id": "tZQajyihnsIN",
        "outputId": "6a07597a-365f-4c74-acdd-9945bbc7d8a6"
      },
      "source": [
        "tfidf[dictionary.doc2bow(['what', 'is', 'this'])] # (token_id, token_count) "
      ],
      "execution_count": null,
      "outputs": [
        {
          "output_type": "execute_result",
          "data": {
            "text/plain": [
              "[(6, 0.2407849128206825), (62, 0.6570005267016968), (899, 0.7144039009353386)]"
            ]
          },
          "metadata": {
            "tags": []
          },
          "execution_count": 17
        }
      ]
    },
    {
      "cell_type": "code",
      "metadata": {
        "id": "xuaxHj26nwIZ"
      },
      "source": [
        "def get_sentences_tfidfs(input_sentences):\n",
        "  output_vectors = []\n",
        "  for p in input_sentences:\n",
        "    result = tfidf[dictionary.doc2bow(p)]\n",
        "    output_vectors.append(result)\n",
        "  return output_vectors"
      ],
      "execution_count": null,
      "outputs": []
    },
    {
      "cell_type": "code",
      "metadata": {
        "id": "twZQdJ76nxJP"
      },
      "source": [
        "train_questions1_tfidfs = get_sentences_tfidfs(train_questions1_words)\n",
        "train_questions2_tfidfs = get_sentences_tfidfs(train_questions2_words)\n",
        "test_questions1_tfidfs = get_sentences_tfidfs(test_questions1_words)\n",
        "test_questions2_tfidfs = get_sentences_tfidfs(test_questions2_words)"
      ],
      "execution_count": null,
      "outputs": []
    },
    {
      "cell_type": "code",
      "metadata": {
        "colab": {
          "base_uri": "https://localhost:8080/"
        },
        "id": "cFQ58Vz6n4yS",
        "outputId": "2cce32bd-0f1a-4cb7-f162-c51b1bd18417"
      },
      "source": [
        "print(train_questions2_words[1])\n",
        "print(train_questions2_tfidfs[1])"
      ],
      "execution_count": null,
      "outputs": [
        {
          "output_type": "stream",
          "text": [
            "['What', 'would', 'happen', 'if', 'the', 'Indian', 'government', 'stole', 'the', 'Kohinoor', 'Koh', 'i', 'Noor', 'diamond', 'back']\n",
            "[(0, 0.03689174260974629), (10, 0.07414068369213528), (13, 0.407445916466027), (14, 0.3949851825339399), (15, 0.426363561046035), (16, 0.21677330542161743), (129, 0.13776037832366533), (216, 0.20673749251608306), (256, 0.19268540207594384), (458, 0.16456260111687418), (584, 0.1273697522946146), (905, 0.1904640344823664), (4950, 0.39004005192886004), (9772, 0.3343388492302425)]\n"
          ],
          "name": "stdout"
        }
      ]
    },
    {
      "cell_type": "code",
      "metadata": {
        "colab": {
          "base_uri": "https://localhost:8080/",
          "height": 35
        },
        "id": "am8YaB0Dn6Uc",
        "outputId": "9ec40d27-169c-4369-94c9-fdcaa59e90a4"
      },
      "source": [
        "dictionary[1]"
      ],
      "execution_count": null,
      "outputs": [
        {
          "output_type": "execute_result",
          "data": {
            "application/vnd.google.colaboratory.intrinsic+json": {
              "type": "string"
            },
            "text/plain": [
              "'by'"
            ]
          },
          "metadata": {
            "tags": []
          },
          "execution_count": 22
        }
      ]
    },
    {
      "cell_type": "markdown",
      "metadata": {
        "id": "G44G-DRph5uo"
      },
      "source": [
        "#Word2Vec\n",
        "The word2vec algorithms include skip-gram and CBOW models, using either hierarchical softmax or negative sampling\n",
        "* Skip-gram: word -> words in a window\n",
        "* CBOW: words (windows) -> word   <br/>\n",
        "\n",
        "output: vector/embedding of words"
      ]
    },
    {
      "cell_type": "code",
      "metadata": {
        "id": "CWB-yz15Q2lH"
      },
      "source": [
        "from gensim.models import Word2Vec"
      ],
      "execution_count": null,
      "outputs": []
    },
    {
      "cell_type": "code",
      "metadata": {
        "id": "zOHV6EjPiQYY"
      },
      "source": [
        "word2vec = Word2Vec(sentences=sentences, size=100, window=8, iter=10, min_count=1)"
      ],
      "execution_count": null,
      "outputs": []
    },
    {
      "cell_type": "code",
      "metadata": {
        "colab": {
          "base_uri": "https://localhost:8080/"
        },
        "id": "vxYfxKJiibTy",
        "outputId": "ef95db20-986f-4d5f-fe94-fe702d96f4e6"
      },
      "source": [
        "word2vec.wv.similarity('person', 'man')"
      ],
      "execution_count": null,
      "outputs": [
        {
          "output_type": "execute_result",
          "data": {
            "text/plain": [
              "0.68729866"
            ]
          },
          "metadata": {
            "tags": []
          },
          "execution_count": 25
        }
      ]
    },
    {
      "cell_type": "code",
      "metadata": {
        "colab": {
          "base_uri": "https://localhost:8080/"
        },
        "id": "zU-ArVKgio1f",
        "outputId": "3b2962ee-29ea-4c4c-fef0-7b41c18be92e"
      },
      "source": [
        "word2vec.wv.vocab['man'].count"
      ],
      "execution_count": null,
      "outputs": [
        {
          "output_type": "execute_result",
          "data": {
            "text/plain": [
              "1078"
            ]
          },
          "metadata": {
            "tags": []
          },
          "execution_count": 26
        }
      ]
    },
    {
      "cell_type": "code",
      "metadata": {
        "colab": {
          "base_uri": "https://localhost:8080/"
        },
        "id": "vH93cgmCiwfZ",
        "outputId": "ea49bbe4-af6d-406d-d900-9f3b1341492a"
      },
      "source": [
        "len(word2vec.wv.vocab)"
      ],
      "execution_count": null,
      "outputs": [
        {
          "output_type": "execute_result",
          "data": {
            "text/plain": [
              "71020"
            ]
          },
          "metadata": {
            "tags": []
          },
          "execution_count": 27
        }
      ]
    },
    {
      "cell_type": "markdown",
      "metadata": {
        "id": "DTpwk1m0lAbr"
      },
      "source": [
        "##Train Word2Vector/GloVe\n",
        "* based on our data\n",
        " - Pros: \n",
        " - Cons: \n",
        "* based on pulibic Corpus\n",
        " - Pros: General\n",
        " - Cons: costly\n",
        "* **Load models (e.g. twitter.27B)** \n",
        " - Pros: \n",
        " - Cons:\n"
      ]
    },
    {
      "cell_type": "markdown",
      "metadata": {
        "id": "j5-GVfmSmoDV"
      },
      "source": [
        "##Word vectors --> Sentence Vectors\n",
        "\n",
        "1. Merge: Max, Average, '[w1, w2, w3, ...., wn]'  <br/>*e.g. w1 100-d vector*\n",
        "2. TF-IDF: weighted sum\n",
        "3. Deep learning: embedding, '[f1, f2, ..., fn]' (LSTM, GRU, Attention) <br/> f---> feature<br/>\n",
        "    - Last output: fn as \n",
        "    - Hidden Vector (LSTM, GRU), hn\n",
        "    - Attention: '[aw1, aw2, ... , awn]' (attention weights), weighted sum -> sentence vector\n",
        "\n",
        "4. Doc2Vec: sentence ---> embedding (BERT sentence embedding)\n"
      ]
    },
    {
      "cell_type": "markdown",
      "metadata": {
        "id": "wX74EQezmbBm"
      },
      "source": [
        "#Construct TF-IDF & Word2Vactor Feasure"
      ]
    },
    {
      "cell_type": "code",
      "metadata": {
        "colab": {
          "base_uri": "https://localhost:8080/"
        },
        "id": "Ub6ZRpThmkCV",
        "outputId": "9d9334b0-7b03-4fea-fc45-a461219e90aa"
      },
      "source": [
        "train_questions1_tfidfs[0]  # (dict_id, weight)"
      ],
      "execution_count": null,
      "outputs": [
        {
          "output_type": "execute_result",
          "data": {
            "text/plain": [
              "[(0, 0.04647779709270368),\n",
              " (1, 0.1822570720039786),\n",
              " (2, 0.3795121200789133),\n",
              " (3, 0.14339205961233994),\n",
              " (4, 0.2743635788477922),\n",
              " (5, 0.2887230565095903),\n",
              " (6, 0.0641007660924909),\n",
              " (7, 0.27256152978155446),\n",
              " (8, 0.30337312129044286),\n",
              " (9, 0.6810270327800437),\n",
              " (10, 0.046702804058475544),\n",
              " (11, 0.07058432928597289)]"
            ]
          },
          "metadata": {
            "tags": []
          },
          "execution_count": 31
        }
      ]
    },
    {
      "cell_type": "code",
      "metadata": {
        "colab": {
          "base_uri": "https://localhost:8080/",
          "height": 35
        },
        "id": "R-dcO-vXrXDx",
        "outputId": "5f8be794-8e75-44a6-f293-cfe1027dd251"
      },
      "source": [
        "dictionary[2]"
      ],
      "execution_count": null,
      "outputs": [
        {
          "output_type": "execute_result",
          "data": {
            "application/vnd.google.colaboratory.intrinsic+json": {
              "type": "string"
            },
            "text/plain": [
              "'guide'"
            ]
          },
          "metadata": {
            "tags": []
          },
          "execution_count": 32
        }
      ]
    },
    {
      "cell_type": "code",
      "metadata": {
        "colab": {
          "base_uri": "https://localhost:8080/"
        },
        "id": "XauDqZDxpX8H",
        "outputId": "fcb2c27d-7e29-4e4d-cabb-f7aa31c8a044"
      },
      "source": [
        "word2vec.wv['by'].shape"
      ],
      "execution_count": null,
      "outputs": [
        {
          "output_type": "execute_result",
          "data": {
            "text/plain": [
              "(100,)"
            ]
          },
          "metadata": {
            "tags": []
          },
          "execution_count": 33
        }
      ]
    },
    {
      "cell_type": "code",
      "metadata": {
        "colab": {
          "base_uri": "https://localhost:8080/"
        },
        "id": "OCTq5_6LpX5i",
        "outputId": "a21d297a-d89c-4616-b8cb-f7b2933a03f0"
      },
      "source": [
        "y=train_questions1_tfidfs[0] \n",
        "y[0]"
      ],
      "execution_count": null,
      "outputs": [
        {
          "output_type": "execute_result",
          "data": {
            "text/plain": [
              "(0, 0.04647779709270368)"
            ]
          },
          "metadata": {
            "tags": []
          },
          "execution_count": 34
        }
      ]
    },
    {
      "cell_type": "code",
      "metadata": {
        "id": "OwTMC3NrpZX4"
      },
      "source": [
        "def get_features(input_sentences, sentence_tfidfs, word2vec, dictionary):\n",
        "    output_features = []\n",
        "    for p, tf_idf in zip(input_sentences, sentence_tfidfs):\n",
        "        sentence_features = [word2vec.wv[dictionary[x[0]]]*x[1] for x in tf_idf]\n",
        "        output_features.append(np.array(sentence_features).sum(0))\n",
        "    return output_features"
      ],
      "execution_count": null,
      "outputs": []
    },
    {
      "cell_type": "code",
      "metadata": {
        "id": "7SW19aCUWVLn"
      },
      "source": [
        "train_questions1_features = get_features(train_questions1, train_questions1_tfidfs, word2vec, dictionary)\n",
        "train_questions2_features = get_features(train_questions2, train_questions2_tfidfs, word2vec, dictionary)\n",
        "test_question1_features = get_features(test_questions1_words, test_questions1_tfidfs, word2vec, dictionary)\n",
        "test_question2_features = get_features(test_questions2_words, test_questions2_tfidfs, word2vec, dictionary)"
      ],
      "execution_count": null,
      "outputs": []
    },
    {
      "cell_type": "code",
      "metadata": {
        "colab": {
          "base_uri": "https://localhost:8080/"
        },
        "id": "TbMM0vj-XX9_",
        "outputId": "88dd2cd0-1cfa-4dbe-f278-ea4458358d19"
      },
      "source": [
        "len(train_questions1_tfidfs)"
      ],
      "execution_count": null,
      "outputs": [
        {
          "output_type": "execute_result",
          "data": {
            "text/plain": [
              "120000"
            ]
          },
          "metadata": {
            "tags": []
          },
          "execution_count": 53
        }
      ]
    },
    {
      "cell_type": "code",
      "metadata": {
        "colab": {
          "base_uri": "https://localhost:8080/"
        },
        "id": "vuIdHmURW5bJ",
        "outputId": "8af171d9-5e54-4da3-b617-e44b35d03cae"
      },
      "source": [
        "train_questions1_features[10].shape"
      ],
      "execution_count": null,
      "outputs": [
        {
          "output_type": "execute_result",
          "data": {
            "text/plain": [
              "(100,)"
            ]
          },
          "metadata": {
            "tags": []
          },
          "execution_count": 57
        }
      ]
    },
    {
      "cell_type": "markdown",
      "metadata": {
        "id": "U74QU-r4YIkc"
      },
      "source": [
        "##Train and Test data preparation"
      ]
    },
    {
      "cell_type": "markdown",
      "metadata": {
        "id": "4QQgGmcTYLz7"
      },
      "source": [
        "*  **conact**  100-d vectors(2) ->  200-d vector (1)\n",
        "*  **product** 100-d vectors(2) ->  200-d vector (1)  \n",
        "\n",
        "cosine = **x*y**/(|x|*|y|)"
      ]
    },
    {
      "cell_type": "code",
      "metadata": {
        "id": "WeA6h8IzYLsY"
      },
      "source": [
        "def fuse_question1_question2_by_concat(question1, question2):\n",
        "  fused_results = []\n",
        "  for q1, q2 in zip(question1, question2):\n",
        "    f = np.zeros(200)\n",
        "    f[0:100] = q1\n",
        "    f[100:200] = q2\n",
        "    fused_results.append(f)\n",
        "  return np.array(fused_results)"
      ],
      "execution_count": 72,
      "outputs": []
    },
    {
      "cell_type": "code",
      "metadata": {
        "id": "0qQhbg6fYLVr"
      },
      "source": [
        "train_features = fuse_question1_question2_by_concat(train_questions1_features, train_questions2_features) \n",
        "test_features = fuse_question1_question2_by_concat(test_question1_features, test_question2_features)"
      ],
      "execution_count": 73,
      "outputs": []
    },
    {
      "cell_type": "code",
      "metadata": {
        "colab": {
          "base_uri": "https://localhost:8080/"
        },
        "id": "NPRY4W3wYAsv",
        "outputId": "e6d3d152-0349-4963-cde0-6a501454d46f"
      },
      "source": [
        "train_features.shape"
      ],
      "execution_count": null,
      "outputs": [
        {
          "output_type": "execute_result",
          "data": {
            "text/plain": [
              "(120000, 200)"
            ]
          },
          "metadata": {
            "tags": []
          },
          "execution_count": 69
        }
      ]
    },
    {
      "cell_type": "code",
      "metadata": {
        "colab": {
          "base_uri": "https://localhost:8080/"
        },
        "id": "lmz_64nfaAN4",
        "outputId": "f5c19af1-0010-4220-a874-12e9e719bb58"
      },
      "source": [
        "train_labels = train_set['is_duplicate']\n",
        "train_labels"
      ],
      "execution_count": null,
      "outputs": [
        {
          "output_type": "execute_result",
          "data": {
            "text/plain": [
              "0         0\n",
              "1         0\n",
              "2         0\n",
              "3         0\n",
              "4         0\n",
              "         ..\n",
              "119995    0\n",
              "119996    0\n",
              "119997    0\n",
              "119998    1\n",
              "119999    0\n",
              "Name: is_duplicate, Length: 120000, dtype: int64"
            ]
          },
          "metadata": {
            "tags": []
          },
          "execution_count": 71
        }
      ]
    },
    {
      "cell_type": "markdown",
      "metadata": {
        "id": "HGFJ1h03pH1B"
      },
      "source": [
        "# Train and Test"
      ]
    },
    {
      "cell_type": "markdown",
      "metadata": {
        "id": "jEQoMF35pKX-"
      },
      "source": [
        "##XGBoost"
      ]
    },
    {
      "cell_type": "code",
      "metadata": {
        "id": "x31ZsKfOaL4E"
      },
      "source": [
        "import xgboost as xgb"
      ],
      "execution_count": 74,
      "outputs": []
    },
    {
      "cell_type": "code",
      "metadata": {
        "id": "TnUhzmQ_aL1o"
      },
      "source": [
        "params = {\n",
        "    'booster':'gbtree',    # gbtree or gblinear\n",
        "    'objective':'binary:logistic', # onjective: specify the learning task and corresponding learning objective, users can pass a self-defined function to it. | 'binary:logstic' output probability \n",
        "    'eval_metric':'logloss',  \n",
        "    'max_depth':10, # default=6\n",
        "    'lambda':1,    # L2 regularization term on weihghts, default=0\n",
        "    'subsample':0.75, # 0.75 means that xgboost only randomly collected 75% of the training data instance to grow the tree and this will prevent overfitting\n",
        "    'colsample_bytree':0.75,  # 0.75 means that only 75% columns are collected when constructing each tree \n",
        "    'eta':0.2,  # eta controls the learning rate \n",
        "    'seed':0,  # \n",
        "    'nthread':8\n",
        "}"
      ],
      "execution_count": 75,
      "outputs": []
    },
    {
      "cell_type": "code",
      "metadata": {
        "id": "nEDc2S1NaLnU"
      },
      "source": [
        "dtrain = xgb.DMatrix(train_features, label=train_labels)"
      ],
      "execution_count": 76,
      "outputs": []
    },
    {
      "cell_type": "code",
      "metadata": {
        "colab": {
          "base_uri": "https://localhost:8080/"
        },
        "id": "4ekZ4Y0vp6Zb",
        "outputId": "be3f2604-ecbc-4ca4-c39f-a4d4e11ef8ec"
      },
      "source": [
        "watch_list = [(dtrain, 'dtrain')]\n",
        "bst = xgb.train(params, dtrain, num_boost_round=50, evals=watch_list)"
      ],
      "execution_count": 77,
      "outputs": [
        {
          "output_type": "stream",
          "text": [
            "[0]\tdtrain-logloss:0.643647\n",
            "[1]\tdtrain-logloss:0.606197\n",
            "[2]\tdtrain-logloss:0.578421\n",
            "[3]\tdtrain-logloss:0.55562\n",
            "[4]\tdtrain-logloss:0.537007\n",
            "[5]\tdtrain-logloss:0.519337\n",
            "[6]\tdtrain-logloss:0.503466\n",
            "[7]\tdtrain-logloss:0.491285\n",
            "[8]\tdtrain-logloss:0.478895\n",
            "[9]\tdtrain-logloss:0.467152\n",
            "[10]\tdtrain-logloss:0.455068\n",
            "[11]\tdtrain-logloss:0.445136\n",
            "[12]\tdtrain-logloss:0.436252\n",
            "[13]\tdtrain-logloss:0.427828\n",
            "[14]\tdtrain-logloss:0.421236\n",
            "[15]\tdtrain-logloss:0.414793\n",
            "[16]\tdtrain-logloss:0.407904\n",
            "[17]\tdtrain-logloss:0.400684\n",
            "[18]\tdtrain-logloss:0.395607\n",
            "[19]\tdtrain-logloss:0.391002\n",
            "[20]\tdtrain-logloss:0.384895\n",
            "[21]\tdtrain-logloss:0.380158\n",
            "[22]\tdtrain-logloss:0.374163\n",
            "[23]\tdtrain-logloss:0.368774\n",
            "[24]\tdtrain-logloss:0.363606\n",
            "[25]\tdtrain-logloss:0.356975\n",
            "[26]\tdtrain-logloss:0.353511\n",
            "[27]\tdtrain-logloss:0.348539\n",
            "[28]\tdtrain-logloss:0.343842\n",
            "[29]\tdtrain-logloss:0.336946\n",
            "[30]\tdtrain-logloss:0.333441\n",
            "[31]\tdtrain-logloss:0.331383\n",
            "[32]\tdtrain-logloss:0.326381\n",
            "[33]\tdtrain-logloss:0.321453\n",
            "[34]\tdtrain-logloss:0.319976\n",
            "[35]\tdtrain-logloss:0.316852\n",
            "[36]\tdtrain-logloss:0.311608\n",
            "[37]\tdtrain-logloss:0.308786\n",
            "[38]\tdtrain-logloss:0.305637\n",
            "[39]\tdtrain-logloss:0.300764\n",
            "[40]\tdtrain-logloss:0.297754\n",
            "[41]\tdtrain-logloss:0.295087\n",
            "[42]\tdtrain-logloss:0.292056\n",
            "[43]\tdtrain-logloss:0.288115\n",
            "[44]\tdtrain-logloss:0.287043\n",
            "[45]\tdtrain-logloss:0.284228\n",
            "[46]\tdtrain-logloss:0.281455\n",
            "[47]\tdtrain-logloss:0.275949\n",
            "[48]\tdtrain-logloss:0.272615\n",
            "[49]\tdtrain-logloss:0.270347\n"
          ],
          "name": "stdout"
        }
      ]
    },
    {
      "cell_type": "code",
      "metadata": {
        "id": "eCVaOluhp6St"
      },
      "source": [
        "dtest = xgb.DMatrix(test_features)\n",
        "ypred = bst.predict(dtest)"
      ],
      "execution_count": 78,
      "outputs": []
    },
    {
      "cell_type": "markdown",
      "metadata": {
        "id": "XjXcugR2qsNk"
      },
      "source": [
        "##Netrual Network"
      ]
    },
    {
      "cell_type": "code",
      "metadata": {
        "id": "zqddSRHTtz7X"
      },
      "source": [
        "import tensorflow as tf"
      ],
      "execution_count": 79,
      "outputs": []
    },
    {
      "cell_type": "code",
      "metadata": {
        "colab": {
          "base_uri": "https://localhost:8080/",
          "height": 35
        },
        "id": "Baj4eZ3nt_N9",
        "outputId": "579dff79-d495-4d30-c378-ebf5382fae2d"
      },
      "source": [
        "tf.__version__"
      ],
      "execution_count": 80,
      "outputs": [
        {
          "output_type": "execute_result",
          "data": {
            "application/vnd.google.colaboratory.intrinsic+json": {
              "type": "string"
            },
            "text/plain": [
              "'2.5.0'"
            ]
          },
          "metadata": {
            "tags": []
          },
          "execution_count": 80
        }
      ]
    },
    {
      "cell_type": "code",
      "metadata": {
        "id": "nD8pR2_suBvF"
      },
      "source": [
        "import keras \n",
        "from keras.models import Sequential\n",
        "from keras.layers import Dense, Activation"
      ],
      "execution_count": 87,
      "outputs": []
    },
    {
      "cell_type": "code",
      "metadata": {
        "id": "HvVxSQg_uL0e"
      },
      "source": [
        "model=Sequential()\n",
        "model.add(Dense(units=256, input_dim=200, activation='relu'))\n",
        "model.add(Dense(units=256, input_dim=256, activation='relu'))\n",
        "model.add(Dense(units=1, input_dim=256, activation='sigmoid'))\n",
        "model.compile(\n",
        "    loss='binary_crossentropy',\n",
        "    optimizer=keras.optimizers.SGD(learning_rate=0.01,momentum=0.9))"
      ],
      "execution_count": 92,
      "outputs": []
    },
    {
      "cell_type": "code",
      "metadata": {
        "colab": {
          "base_uri": "https://localhost:8080/"
        },
        "id": "Lpk1fey8veKf",
        "outputId": "ac1c59a6-e793-4ccc-c95a-afb2d72829b5"
      },
      "source": [
        "model.fit(train_features, train_labels, epochs=10, batch_size=128)"
      ],
      "execution_count": 93,
      "outputs": [
        {
          "output_type": "stream",
          "text": [
            "Epoch 1/10\n",
            "938/938 [==============================] - 11s 5ms/step - loss: 0.5653\n",
            "Epoch 2/10\n",
            "938/938 [==============================] - 5s 5ms/step - loss: 0.4785\n",
            "Epoch 3/10\n",
            "938/938 [==============================] - 5s 5ms/step - loss: 0.4506\n",
            "Epoch 4/10\n",
            "938/938 [==============================] - 4s 4ms/step - loss: 0.4247\n",
            "Epoch 5/10\n",
            "938/938 [==============================] - 4s 4ms/step - loss: 0.4081\n",
            "Epoch 6/10\n",
            "938/938 [==============================] - 4s 5ms/step - loss: 0.3928\n",
            "Epoch 7/10\n",
            "938/938 [==============================] - 5s 5ms/step - loss: 0.3720\n",
            "Epoch 8/10\n",
            "938/938 [==============================] - 5s 5ms/step - loss: 0.3590\n",
            "Epoch 9/10\n",
            "938/938 [==============================] - 5s 5ms/step - loss: 0.3425\n",
            "Epoch 10/10\n",
            "938/938 [==============================] - 5s 5ms/step - loss: 0.3284\n"
          ],
          "name": "stdout"
        },
        {
          "output_type": "execute_result",
          "data": {
            "text/plain": [
              "<keras.callbacks.History at 0x7f722f16e650>"
            ]
          },
          "metadata": {
            "tags": []
          },
          "execution_count": 93
        }
      ]
    },
    {
      "cell_type": "code",
      "metadata": {
        "id": "xmDB0F9dvlNT"
      },
      "source": [
        "ypred=model.predict(test_features, batch_size=100)"
      ],
      "execution_count": 94,
      "outputs": []
    },
    {
      "cell_type": "code",
      "metadata": {
        "id": "60rHKJK4wdSl"
      },
      "source": [
        ""
      ],
      "execution_count": null,
      "outputs": []
    },
    {
      "cell_type": "markdown",
      "metadata": {
        "id": "t447CSbYIqsS"
      },
      "source": [
        "#EDA"
      ]
    },
    {
      "cell_type": "code",
      "metadata": {
        "id": "96USOJE3Z-Ah"
      },
      "source": [
        "b"
      ],
      "execution_count": null,
      "outputs": []
    },
    {
      "cell_type": "code",
      "metadata": {
        "colab": {
          "base_uri": "https://localhost:8080/"
        },
        "id": "xV4fgGvNIi-Y",
        "outputId": "cd3fc897-97fc-42d0-fca8-8502ad5ccdad"
      },
      "source": [
        "train_set.info()"
      ],
      "execution_count": null,
      "outputs": [
        {
          "output_type": "stream",
          "text": [
            "<class 'pandas.core.frame.DataFrame'>\n",
            "RangeIndex: 120000 entries, 0 to 119999\n",
            "Data columns (total 6 columns):\n",
            " #   Column        Non-Null Count   Dtype \n",
            "---  ------        --------------   ----- \n",
            " 0   id            120000 non-null  int64 \n",
            " 1   qid1          120000 non-null  int64 \n",
            " 2   qid2          120000 non-null  int64 \n",
            " 3   question1     120000 non-null  object\n",
            " 4   question2     119999 non-null  object\n",
            " 5   is_duplicate  120000 non-null  int64 \n",
            "dtypes: int64(4), object(2)\n",
            "memory usage: 5.5+ MB\n"
          ],
          "name": "stdout"
        }
      ]
    },
    {
      "cell_type": "markdown",
      "metadata": {
        "id": "64DlEO--MWdS"
      },
      "source": [
        "##Distribution of data points among output class"
      ]
    },
    {
      "cell_type": "code",
      "metadata": {
        "colab": {
          "base_uri": "https://localhost:8080/",
          "height": 294
        },
        "id": "ink-HRaJLzJv",
        "outputId": "29ab2191-01ce-4de1-dff8-15de867b460d"
      },
      "source": [
        "train_set.groupby('is_duplicate')['id'].count().plot(kind='bar')"
      ],
      "execution_count": null,
      "outputs": [
        {
          "output_type": "execute_result",
          "data": {
            "text/plain": [
              "<matplotlib.axes._subplots.AxesSubplot at 0x7f391b4643d0>"
            ]
          },
          "metadata": {
            "tags": []
          },
          "execution_count": 33
        },
        {
          "output_type": "display_data",
          "data": {
            "image/png": "[encoded data removed]",
            "text/plain": [
              "<Figure size 432x288 with 1 Axes>"
            ]
          },
          "metadata": {
            "tags": [],
            "needs_background": "light"
          }
        }
      ]
    },
    {
      "cell_type": "code",
      "metadata": {
        "id": "X7ulK_LVOfWZ"
      },
      "source": [
        "percentage_noDup = np.mean(train_set['is_duplicate']==0)\n",
        "percentage_Dup = np.mean(train_set['is_duplicate']==1)"
      ],
      "execution_count": null,
      "outputs": []
    },
    {
      "cell_type": "code",
      "metadata": {
        "id": "whF5oj2rM00G",
        "colab": {
          "base_uri": "https://localhost:8080/"
        },
        "outputId": "e183263c-bd96-47c7-c92d-8302aff70964"
      },
      "source": [
        "print('Percentage Question pairs that are not duplicate = {:.2f}%'.format(percentage_noDup*100))\n",
        "print('Percentage Question pairs that are not duplicate = {:.2f}%'.format(percentage_Dup*100))"
      ],
      "execution_count": null,
      "outputs": [
        {
          "output_type": "stream",
          "text": [
            "Percentage Question pairs that are not duplicate = 62.79%\n",
            "Percentage Question pairs that are not duplicate = 37.21%\n"
          ],
          "name": "stdout"
        }
      ]
    },
    {
      "cell_type": "markdown",
      "metadata": {
        "id": "P-iSw-u1Rh6T"
      },
      "source": [
        "##Unique vs. repeated Questions"
      ]
    },
    {
      "cell_type": "code",
      "metadata": {
        "colab": {
          "base_uri": "https://localhost:8080/"
        },
        "id": "JP1auQFVRGmY",
        "outputId": "2edf2d38-7010-46f5-c402-8bbbd76c29f8"
      },
      "source": [
        "qids=pd.Series(train_set['qid1'].tolist()+train_set['qid2'].tolist())\n",
        "qids=qids.value_counts()\n",
        "qids"
      ],
      "execution_count": null,
      "outputs": [
        {
          "output_type": "execute_result",
          "data": {
            "text/plain": [
              "2559      40\n",
              "4044      33\n",
              "30782     31\n",
              "17978     25\n",
              "18753     24\n",
              "          ..\n",
              "142231     1\n",
              "140182     1\n",
              "146325     1\n",
              "144276     1\n",
              "159758     1\n",
              "Length: 194716, dtype: int64"
            ]
          },
          "metadata": {
            "tags": []
          },
          "execution_count": 36
        }
      ]
    },
    {
      "cell_type": "code",
      "metadata": {
        "colab": {
          "base_uri": "https://localhost:8080/",
          "height": 282
        },
        "id": "VfJWqle7SO6e",
        "outputId": "6ac638c8-6016-4c1f-b065-e4ade12698f9"
      },
      "source": [
        "plt.scatter(qids.index, qids)"
      ],
      "execution_count": null,
      "outputs": [
        {
          "output_type": "execute_result",
          "data": {
            "text/plain": [
              "<matplotlib.collections.PathCollection at 0x7f38fdfaef50>"
            ]
          },
          "metadata": {
            "tags": []
          },
          "execution_count": 37
        },
        {
          "output_type": "display_data",
          "data": {
            "image/png": "[encoded data removed]",
            "text/plain": [
              "<Figure size 432x288 with 1 Axes>"
            ]
          },
          "metadata": {
            "tags": [],
            "needs_background": "light"
          }
        }
      ]
    },
    {
      "cell_type": "code",
      "metadata": {
        "colab": {
          "base_uri": "https://localhost:8080/"
        },
        "id": "pftTVMqRXF7Y",
        "outputId": "a7698a3e-e2c8-4e42-d5f8-c5fb559706c8"
      },
      "source": [
        "unique_ids=qids.index\n",
        "print('Number of unique ids={}'.format(len(unique_ids)))"
      ],
      "execution_count": null,
      "outputs": [
        {
          "output_type": "stream",
          "text": [
            "Number of unique ids=194716\n"
          ],
          "name": "stdout"
        }
      ]
    },
    {
      "cell_type": "code",
      "metadata": {
        "colab": {
          "base_uri": "https://localhost:8080/"
        },
        "id": "9G_Ta-CzXaa3",
        "outputId": "c365d310-1838-4d50-8ccf-e91966a28ea3"
      },
      "source": [
        "qs_morethan_onetime=np.sum(qids>1)\n",
        "print('Number of unique questions that appears more than once={}'.format(np.sum(qids>1)))\n",
        "percentage_morethan_once=np.mean(qids>1)\n",
        "print('Percentage of unique questions that appears more than once={:.2f}%'.format(percentage_morethan_once*100))"
      ],
      "execution_count": null,
      "outputs": [
        {
          "output_type": "stream",
          "text": [
            "Number of unique questions that appears more than once=24750\n",
            "Percentage of unique questions that appears more than once=12.71%\n"
          ],
          "name": "stdout"
        }
      ]
    },
    {
      "cell_type": "code",
      "metadata": {
        "colab": {
          "base_uri": "https://localhost:8080/"
        },
        "id": "w3hhahbTYmYg",
        "outputId": "ad9e5b1a-716f-4093-e88f-e7804fd14937"
      },
      "source": [
        "qs_max=np.max(qids)\n",
        "qs_max\n",
        "print('Max number of times a single question is repeated={}'.format(qs_max))"
      ],
      "execution_count": null,
      "outputs": [
        {
          "output_type": "stream",
          "text": [
            "Max number of times a single question is repeated=40\n"
          ],
          "name": "stdout"
        }
      ]
    },
    {
      "cell_type": "code",
      "metadata": {
        "colab": {
          "base_uri": "https://localhost:8080/"
        },
        "id": "QecI6-DaZqyb",
        "outputId": "37b7653c-d618-4501-f3b6-b54df993c9ae"
      },
      "source": [
        "# check if there are any duplicated pair of questions\n",
        "pair_duplicates=train_set.groupby(['qid1','qid2'])['id'].count()\n",
        "pair_duplicates"
      ],
      "execution_count": null,
      "outputs": [
        {
          "output_type": "execute_result",
          "data": {
            "text/plain": [
              "qid1    qid2  \n",
              "1       2         1\n",
              "3       4         1\n",
              "4       32881     1\n",
              "5       6         1\n",
              "7       8         1\n",
              "                 ..\n",
              "194707  194708    1\n",
              "194709  194710    1\n",
              "194711  171467    1\n",
              "194712  194713    1\n",
              "194715  194716    1\n",
              "Name: id, Length: 120000, dtype: int64"
            ]
          },
          "metadata": {
            "tags": []
          },
          "execution_count": 41
        }
      ]
    },
    {
      "cell_type": "code",
      "metadata": {
        "colab": {
          "base_uri": "https://localhost:8080/"
        },
        "id": "rWmt19iKbNFz",
        "outputId": "6e11f52b-ca67-4268-afe6-be4179800d8f"
      },
      "source": [
        "if np.sum(pair_duplicates>1)==0:\n",
        "  print('There is no duplicate pair of questions')"
      ],
      "execution_count": null,
      "outputs": [
        {
          "output_type": "stream",
          "text": [
            "There is no duplicate pair of questions\n"
          ],
          "name": "stdout"
        }
      ]
    },
    {
      "cell_type": "markdown",
      "metadata": {
        "id": "DAbcfKwucgRB"
      },
      "source": [
        "##Frequency of different questions"
      ]
    },
    {
      "cell_type": "code",
      "metadata": {
        "colab": {
          "base_uri": "https://localhost:8080/"
        },
        "id": "TmAPKfUEcA-M",
        "outputId": "422ec35c-dd08-4f5c-d2ee-7d07602fcf7c"
      },
      "source": [
        "qids"
      ],
      "execution_count": null,
      "outputs": [
        {
          "output_type": "execute_result",
          "data": {
            "text/plain": [
              "2559      40\n",
              "4044      33\n",
              "30782     31\n",
              "17978     25\n",
              "18753     24\n",
              "          ..\n",
              "142231     1\n",
              "140182     1\n",
              "146325     1\n",
              "144276     1\n",
              "159758     1\n",
              "Length: 194716, dtype: int64"
            ]
          },
          "metadata": {
            "tags": []
          },
          "execution_count": 43
        }
      ]
    },
    {
      "cell_type": "code",
      "metadata": {
        "id": "gBGNmk8sctnO",
        "colab": {
          "base_uri": "https://localhost:8080/",
          "height": 296
        },
        "outputId": "d50b2d29-c536-4920-b95f-05a01588a021"
      },
      "source": [
        "plt.scatter(qids.index, qids)\n",
        "plt.hlines(y=10, xmax=200000, xmin=0, linestyles='dashed', colors='b')\n",
        "plt.xlabel('Unique Id')\n",
        "plt.ylabel('Count')"
      ],
      "execution_count": null,
      "outputs": [
        {
          "output_type": "execute_result",
          "data": {
            "text/plain": [
              "Text(0, 0.5, 'Count')"
            ]
          },
          "metadata": {
            "tags": []
          },
          "execution_count": 46
        },
        {
          "output_type": "display_data",
          "data": {
            "image/png": "[encoded data removed]",
            "text/plain": [
              "<Figure size 432x288 with 1 Axes>"
            ]
          },
          "metadata": {
            "tags": [],
            "needs_background": "light"
          }
        }
      ]
    },
    {
      "cell_type": "markdown",
      "metadata": {
        "id": "IlXoHxn5jIXI"
      },
      "source": [
        "##Missing values"
      ]
    },
    {
      "cell_type": "code",
      "metadata": {
        "colab": {
          "base_uri": "https://localhost:8080/"
        },
        "id": "rbMrTvCniEJ7",
        "outputId": "e0627fb7-5b97-41f3-ddbf-18ab6afecb0f"
      },
      "source": [
        "train_set.isnull().sum()"
      ],
      "execution_count": null,
      "outputs": [
        {
          "output_type": "execute_result",
          "data": {
            "text/plain": [
              "id              0\n",
              "qid1            0\n",
              "qid2            0\n",
              "question1       1\n",
              "question2       2\n",
              "is_duplicate    0\n",
              "dtype: int64"
            ]
          },
          "metadata": {
            "tags": []
          },
          "execution_count": 19
        }
      ]
    },
    {
      "cell_type": "code",
      "metadata": {
        "colab": {
          "base_uri": "https://localhost:8080/",
          "height": 141
        },
        "id": "gQY1qobMjsmh",
        "outputId": "fe67921c-a6cc-4f07-d0d3-fc02b085e0fb"
      },
      "source": [
        "train_set[train_set.isnull().any(axis=1)]   # check if 'True' is present in rows"
      ],
      "execution_count": null,
      "outputs": [
        {
          "output_type": "execute_result",
          "data": {
            "text/html": [
              "<div>\n",
              "<style scoped>\n",
              "    .dataframe tbody tr th:only-of-type {\n",
              "        vertical-align: middle;\n",
              "    }\n",
              "\n",
              "    .dataframe tbody tr th {\n",
              "        vertical-align: top;\n",
              "    }\n",
              "\n",
              "    .dataframe thead th {\n",
              "        text-align: right;\n",
              "    }\n",
              "</style>\n",
              "<table border=\"1\" class=\"dataframe\">\n",
              "  <thead>\n",
              "    <tr style=\"text-align: right;\">\n",
              "      <th></th>\n",
              "      <th>id</th>\n",
              "      <th>qid1</th>\n",
              "      <th>qid2</th>\n",
              "      <th>question1</th>\n",
              "      <th>question2</th>\n",
              "      <th>is_duplicate</th>\n",
              "    </tr>\n",
              "  </thead>\n",
              "  <tbody>\n",
              "    <tr>\n",
              "      <th>105780</th>\n",
              "      <td>105780</td>\n",
              "      <td>174363</td>\n",
              "      <td>174364</td>\n",
              "      <td>How can I develop android app?</td>\n",
              "      <td>NaN</td>\n",
              "      <td>0</td>\n",
              "    </tr>\n",
              "    <tr>\n",
              "      <th>201841</th>\n",
              "      <td>201841</td>\n",
              "      <td>303951</td>\n",
              "      <td>174364</td>\n",
              "      <td>How can I create an Android app?</td>\n",
              "      <td>NaN</td>\n",
              "      <td>0</td>\n",
              "    </tr>\n",
              "    <tr>\n",
              "      <th>363362</th>\n",
              "      <td>363362</td>\n",
              "      <td>493340</td>\n",
              "      <td>493341</td>\n",
              "      <td>NaN</td>\n",
              "      <td>My Chinese name is Haichao Yu. What English na...</td>\n",
              "      <td>0</td>\n",
              "    </tr>\n",
              "  </tbody>\n",
              "</table>\n",
              "</div>"
            ],
            "text/plain": [
              "            id  ...  is_duplicate\n",
              "105780  105780  ...             0\n",
              "201841  201841  ...             0\n",
              "363362  363362  ...             0\n",
              "\n",
              "[3 rows x 6 columns]"
            ]
          },
          "metadata": {
            "tags": []
          },
          "execution_count": 20
        }
      ]
    },
    {
      "cell_type": "code",
      "metadata": {
        "colab": {
          "base_uri": "https://localhost:8080/"
        },
        "id": "nntiMdTOkB6a",
        "outputId": "9e30ad9e-a48a-46db-fc27-0d6edff98c70"
      },
      "source": [
        "#Fill an empty space inplace of Null value\n",
        "train_set=train_set.fillna('')\n",
        "train_set.isnull().sum(axis=0)"
      ],
      "execution_count": null,
      "outputs": [
        {
          "output_type": "execute_result",
          "data": {
            "text/plain": [
              "id              0\n",
              "qid1            0\n",
              "qid2            0\n",
              "question1       0\n",
              "question2       0\n",
              "is_duplicate    0\n",
              "dtype: int64"
            ]
          },
          "metadata": {
            "tags": []
          },
          "execution_count": 21
        }
      ]
    },
    {
      "cell_type": "code",
      "metadata": {
        "colab": {
          "base_uri": "https://localhost:8080/",
          "height": 48
        },
        "id": "CiggR-2Sl3ST",
        "outputId": "e3a1b850-8b6d-4ec5-99f5-d01a6281830f"
      },
      "source": [
        "train_set[train_set.isnull().any(axis=1)] # we don't have any Null value in our dataframe"
      ],
      "execution_count": null,
      "outputs": [
        {
          "output_type": "execute_result",
          "data": {
            "text/html": [
              "<div>\n",
              "<style scoped>\n",
              "    .dataframe tbody tr th:only-of-type {\n",
              "        vertical-align: middle;\n",
              "    }\n",
              "\n",
              "    .dataframe tbody tr th {\n",
              "        vertical-align: top;\n",
              "    }\n",
              "\n",
              "    .dataframe thead th {\n",
              "        text-align: right;\n",
              "    }\n",
              "</style>\n",
              "<table border=\"1\" class=\"dataframe\">\n",
              "  <thead>\n",
              "    <tr style=\"text-align: right;\">\n",
              "      <th></th>\n",
              "      <th>id</th>\n",
              "      <th>qid1</th>\n",
              "      <th>qid2</th>\n",
              "      <th>question1</th>\n",
              "      <th>question2</th>\n",
              "      <th>is_duplicate</th>\n",
              "    </tr>\n",
              "  </thead>\n",
              "  <tbody>\n",
              "  </tbody>\n",
              "</table>\n",
              "</div>"
            ],
            "text/plain": [
              "Empty DataFrame\n",
              "Columns: [id, qid1, qid2, question1, question2, is_duplicate]\n",
              "Index: []"
            ]
          },
          "metadata": {
            "tags": []
          },
          "execution_count": 22
        }
      ]
    },
    {
      "cell_type": "code",
      "metadata": {
        "colab": {
          "base_uri": "https://localhost:8080/",
          "height": 48
        },
        "id": "RJ2FhY4gIs-r",
        "outputId": "b767b584-d1e3-4d98-f897-918630bffa12"
      },
      "source": [
        "test_set=test_set.fillna('')\n",
        "test_set[test_set.isnull().any(axis=1)]"
      ],
      "execution_count": null,
      "outputs": [
        {
          "output_type": "execute_result",
          "data": {
            "text/html": [
              "<div>\n",
              "<style scoped>\n",
              "    .dataframe tbody tr th:only-of-type {\n",
              "        vertical-align: middle;\n",
              "    }\n",
              "\n",
              "    .dataframe tbody tr th {\n",
              "        vertical-align: top;\n",
              "    }\n",
              "\n",
              "    .dataframe thead th {\n",
              "        text-align: right;\n",
              "    }\n",
              "</style>\n",
              "<table border=\"1\" class=\"dataframe\">\n",
              "  <thead>\n",
              "    <tr style=\"text-align: right;\">\n",
              "      <th></th>\n",
              "      <th>test_id</th>\n",
              "      <th>question1</th>\n",
              "      <th>question2</th>\n",
              "    </tr>\n",
              "  </thead>\n",
              "  <tbody>\n",
              "  </tbody>\n",
              "</table>\n",
              "</div>"
            ],
            "text/plain": [
              "Empty DataFrame\n",
              "Columns: [test_id, question1, question2]\n",
              "Index: []"
            ]
          },
          "metadata": {
            "tags": []
          },
          "execution_count": 23
        }
      ]
    },
    {
      "cell_type": "markdown",
      "metadata": {
        "id": "jbrsk3Owmc8j"
      },
      "source": [
        "##Basic Feature Extraction"
      ]
    },
    {
      "cell_type": "markdown",
      "metadata": {
        "id": "OyyPr8YvmuWD"
      },
      "source": [
        "**New features construction**<br/>\n",
        "\n",
        "*   **freq_qid1**=Frequency of qid1\n",
        "*   **freq_qid2**=Frequency of qid2\n",
        "*   **q1len**=Length of q1 (Characters+space)\n",
        "*   **q2len**=Length of q2\n",
        "*   **q1_n_words**=Number of words in Question 1\n",
        "*   **q2_n_words**=Number of words in Question 2\n",
        "*   **word_Common**=Number of common words in question 1 and question 2\n",
        "*   **word_Total**=Total number of word in question 1 and question 2\n",
        "*   **word_Share**=word_Common/Total_word\n",
        "*   **freq_q1+freq_q2**=sum total of frequency of qid1 and qid2\n",
        "*   **freq_q1-freq_q2**=absoulte difference of frequency of qid1 and qid2\n",
        "\n",
        "\n"
      ]
    },
    {
      "cell_type": "code",
      "metadata": {
        "colab": {
          "base_uri": "https://localhost:8080/",
          "height": 203
        },
        "id": "gyphxrbZmOaB",
        "outputId": "9608d37d-8f3a-41bf-a48e-7da5836e2ed9"
      },
      "source": [
        "train_set.head()"
      ],
      "execution_count": null,
      "outputs": [
        {
          "output_type": "execute_result",
          "data": {
            "text/html": [
              "<div>\n",
              "<style scoped>\n",
              "    .dataframe tbody tr th:only-of-type {\n",
              "        vertical-align: middle;\n",
              "    }\n",
              "\n",
              "    .dataframe tbody tr th {\n",
              "        vertical-align: top;\n",
              "    }\n",
              "\n",
              "    .dataframe thead th {\n",
              "        text-align: right;\n",
              "    }\n",
              "</style>\n",
              "<table border=\"1\" class=\"dataframe\">\n",
              "  <thead>\n",
              "    <tr style=\"text-align: right;\">\n",
              "      <th></th>\n",
              "      <th>id</th>\n",
              "      <th>qid1</th>\n",
              "      <th>qid2</th>\n",
              "      <th>question1</th>\n",
              "      <th>question2</th>\n",
              "      <th>is_duplicate</th>\n",
              "    </tr>\n",
              "  </thead>\n",
              "  <tbody>\n",
              "    <tr>\n",
              "      <th>0</th>\n",
              "      <td>0</td>\n",
              "      <td>1</td>\n",
              "      <td>2</td>\n",
              "      <td>What is the step by step guide to invest in sh...</td>\n",
              "      <td>What is the step by step guide to invest in sh...</td>\n",
              "      <td>0</td>\n",
              "    </tr>\n",
              "    <tr>\n",
              "      <th>1</th>\n",
              "      <td>1</td>\n",
              "      <td>3</td>\n",
              "      <td>4</td>\n",
              "      <td>What is the story of Kohinoor (Koh-i-Noor) Dia...</td>\n",
              "      <td>What would happen if the Indian government sto...</td>\n",
              "      <td>0</td>\n",
              "    </tr>\n",
              "    <tr>\n",
              "      <th>2</th>\n",
              "      <td>2</td>\n",
              "      <td>5</td>\n",
              "      <td>6</td>\n",
              "      <td>How can I increase the speed of my internet co...</td>\n",
              "      <td>How can Internet speed be increased by hacking...</td>\n",
              "      <td>0</td>\n",
              "    </tr>\n",
              "    <tr>\n",
              "      <th>3</th>\n",
              "      <td>3</td>\n",
              "      <td>7</td>\n",
              "      <td>8</td>\n",
              "      <td>Why am I mentally very lonely? How can I solve...</td>\n",
              "      <td>Find the remainder when [math]23^{24}[/math] i...</td>\n",
              "      <td>0</td>\n",
              "    </tr>\n",
              "    <tr>\n",
              "      <th>4</th>\n",
              "      <td>4</td>\n",
              "      <td>9</td>\n",
              "      <td>10</td>\n",
              "      <td>Which one dissolve in water quikly sugar, salt...</td>\n",
              "      <td>Which fish would survive in salt water?</td>\n",
              "      <td>0</td>\n",
              "    </tr>\n",
              "  </tbody>\n",
              "</table>\n",
              "</div>"
            ],
            "text/plain": [
              "   id  qid1  ...                                          question2 is_duplicate\n",
              "0   0     1  ...  What is the step by step guide to invest in sh...            0\n",
              "1   1     3  ...  What would happen if the Indian government sto...            0\n",
              "2   2     5  ...  How can Internet speed be increased by hacking...            0\n",
              "3   3     7  ...  Find the remainder when [math]23^{24}[/math] i...            0\n",
              "4   4     9  ...            Which fish would survive in salt water?            0\n",
              "\n",
              "[5 rows x 6 columns]"
            ]
          },
          "metadata": {
            "tags": []
          },
          "execution_count": 24
        }
      ]
    },
    {
      "cell_type": "code",
      "metadata": {
        "id": "WeFdfWlXod9o"
      },
      "source": [
        "train_set['freq_qid1']=train_set.groupby('qid1')['id'].transform('count')  # pandas.DataFrame.transform -> Call func on self producing a DataFrame with transformed values|same lenght - similar with window function in SQL\n",
        "train_set['freq_qid2']=train_set.groupby('qid2')['id'].transform('count')  \n",
        "train_set['q1len']=train_set['question1'].str.len()  # pandas.Series.str.len -> Compute the length of each element in string (characters+spaces)\n",
        "train_set['q2len']=train_set['question2'].str.len()\n",
        "train_set['q1_n_words']=train_set['question1'].apply(lambda x: len(str(x).split(' ')))\n",
        "train_set['q2_n_words']=train_set['question2'].apply(lambda x: len(str(x).split(' ')))"
      ],
      "execution_count": null,
      "outputs": []
    },
    {
      "cell_type": "code",
      "metadata": {
        "id": "kiXM4kKMyY9T"
      },
      "source": [
        "def normalized_word_Common(row):\n",
        "  w1=set(map(lambda x: x.lower().strip(), str(row['question1']).split(' ')))\n",
        "  w2=set(map(lambda x: x.lower().strip(), str(row['question2']).split(' ')))\n",
        "  return 1.0*len(w1 & w2)\n",
        "train_set['word_Common']=train_set.apply(normalized_word_Common, axis=1)"
      ],
      "execution_count": null,
      "outputs": []
    },
    {
      "cell_type": "code",
      "metadata": {
        "id": "JGoUhIJxYt6W"
      },
      "source": [
        "def normalized_word_Total(row):\n",
        "  w1=set(map(lambda x: x.lower().strip(), str(row['question1']).split(' ')))\n",
        "  w2=set(map(lambda x: x.lower().strip(), str(row['question2']).split(' ')))\n",
        "  return (len(w1)+len(w2))*1.0\n",
        "train_set['word_Total']=train_set.apply(normalized_word_Total, axis=1)"
      ],
      "execution_count": null,
      "outputs": []
    },
    {
      "cell_type": "code",
      "metadata": {
        "id": "2ISMBhm6aMr4"
      },
      "source": [
        "train_set['word_share']=train_set['word_Common']/train_set['word_Total']\n",
        "train_set['freq_q1+freq_q2']=train_set['freq_qid1']+train_set['freq_qid2']\n",
        "train_set['freq_q1-freq_q2']=np.abs(train_set['freq_qid1']-train_set['freq_qid2'])"
      ],
      "execution_count": null,
      "outputs": []
    },
    {
      "cell_type": "code",
      "metadata": {
        "colab": {
          "base_uri": "https://localhost:8080/",
          "height": 655
        },
        "id": "c4T7SOOIpGKS",
        "outputId": "3e1f182a-4db9-4202-9186-7f8dbc709c22"
      },
      "source": [
        "train_set.head()"
      ],
      "execution_count": null,
      "outputs": [
        {
          "output_type": "execute_result",
          "data": {
            "text/html": [
              "<div>\n",
              "<style scoped>\n",
              "    .dataframe tbody tr th:only-of-type {\n",
              "        vertical-align: middle;\n",
              "    }\n",
              "\n",
              "    .dataframe tbody tr th {\n",
              "        vertical-align: top;\n",
              "    }\n",
              "\n",
              "    .dataframe thead th {\n",
              "        text-align: right;\n",
              "    }\n",
              "</style>\n",
              "<table border=\"1\" class=\"dataframe\">\n",
              "  <thead>\n",
              "    <tr style=\"text-align: right;\">\n",
              "      <th></th>\n",
              "      <th>id</th>\n",
              "      <th>qid1</th>\n",
              "      <th>qid2</th>\n",
              "      <th>question1</th>\n",
              "      <th>question2</th>\n",
              "      <th>is_duplicate</th>\n",
              "      <th>freq_qid1</th>\n",
              "      <th>freq_qid2</th>\n",
              "      <th>q1len</th>\n",
              "      <th>q2len</th>\n",
              "      <th>q1_n_words</th>\n",
              "      <th>q2_n_words</th>\n",
              "      <th>word_Common</th>\n",
              "      <th>word_Total</th>\n",
              "      <th>word_share</th>\n",
              "      <th>freq_q1+freq_q2</th>\n",
              "      <th>freq_q1-freq_q2</th>\n",
              "    </tr>\n",
              "  </thead>\n",
              "  <tbody>\n",
              "    <tr>\n",
              "      <th>0</th>\n",
              "      <td>0</td>\n",
              "      <td>1</td>\n",
              "      <td>2</td>\n",
              "      <td>What is the step by step guide to invest in sh...</td>\n",
              "      <td>What is the step by step guide to invest in sh...</td>\n",
              "      <td>0</td>\n",
              "      <td>1</td>\n",
              "      <td>1</td>\n",
              "      <td>66</td>\n",
              "      <td>57</td>\n",
              "      <td>14</td>\n",
              "      <td>12</td>\n",
              "      <td>10.0</td>\n",
              "      <td>23.0</td>\n",
              "      <td>0.434783</td>\n",
              "      <td>2</td>\n",
              "      <td>0</td>\n",
              "    </tr>\n",
              "    <tr>\n",
              "      <th>1</th>\n",
              "      <td>1</td>\n",
              "      <td>3</td>\n",
              "      <td>4</td>\n",
              "      <td>What is the story of Kohinoor (Koh-i-Noor) Dia...</td>\n",
              "      <td>What would happen if the Indian government sto...</td>\n",
              "      <td>0</td>\n",
              "      <td>4</td>\n",
              "      <td>1</td>\n",
              "      <td>51</td>\n",
              "      <td>88</td>\n",
              "      <td>8</td>\n",
              "      <td>13</td>\n",
              "      <td>4.0</td>\n",
              "      <td>20.0</td>\n",
              "      <td>0.200000</td>\n",
              "      <td>5</td>\n",
              "      <td>3</td>\n",
              "    </tr>\n",
              "    <tr>\n",
              "      <th>2</th>\n",
              "      <td>2</td>\n",
              "      <td>5</td>\n",
              "      <td>6</td>\n",
              "      <td>How can I increase the speed of my internet co...</td>\n",
              "      <td>How can Internet speed be increased by hacking...</td>\n",
              "      <td>0</td>\n",
              "      <td>1</td>\n",
              "      <td>1</td>\n",
              "      <td>73</td>\n",
              "      <td>59</td>\n",
              "      <td>14</td>\n",
              "      <td>10</td>\n",
              "      <td>4.0</td>\n",
              "      <td>24.0</td>\n",
              "      <td>0.166667</td>\n",
              "      <td>2</td>\n",
              "      <td>0</td>\n",
              "    </tr>\n",
              "    <tr>\n",
              "      <th>3</th>\n",
              "      <td>3</td>\n",
              "      <td>7</td>\n",
              "      <td>8</td>\n",
              "      <td>Why am I mentally very lonely? How can I solve...</td>\n",
              "      <td>Find the remainder when [math]23^{24}[/math] i...</td>\n",
              "      <td>0</td>\n",
              "      <td>1</td>\n",
              "      <td>1</td>\n",
              "      <td>50</td>\n",
              "      <td>65</td>\n",
              "      <td>11</td>\n",
              "      <td>9</td>\n",
              "      <td>0.0</td>\n",
              "      <td>19.0</td>\n",
              "      <td>0.000000</td>\n",
              "      <td>2</td>\n",
              "      <td>0</td>\n",
              "    </tr>\n",
              "    <tr>\n",
              "      <th>4</th>\n",
              "      <td>4</td>\n",
              "      <td>9</td>\n",
              "      <td>10</td>\n",
              "      <td>Which one dissolve in water quikly sugar, salt...</td>\n",
              "      <td>Which fish would survive in salt water?</td>\n",
              "      <td>0</td>\n",
              "      <td>3</td>\n",
              "      <td>1</td>\n",
              "      <td>76</td>\n",
              "      <td>39</td>\n",
              "      <td>13</td>\n",
              "      <td>7</td>\n",
              "      <td>2.0</td>\n",
              "      <td>20.0</td>\n",
              "      <td>0.100000</td>\n",
              "      <td>4</td>\n",
              "      <td>2</td>\n",
              "    </tr>\n",
              "  </tbody>\n",
              "</table>\n",
              "</div>"
            ],
            "text/plain": [
              "   id  qid1  qid2  ... word_share freq_q1+freq_q2  freq_q1-freq_q2\n",
              "0   0     1     2  ...   0.434783               2                0\n",
              "1   1     3     4  ...   0.200000               5                3\n",
              "2   2     5     6  ...   0.166667               2                0\n",
              "3   3     7     8  ...   0.000000               2                0\n",
              "4   4     9    10  ...   0.100000               4                2\n",
              "\n",
              "[5 rows x 17 columns]"
            ]
          },
          "metadata": {
            "tags": []
          },
          "execution_count": 29
        }
      ]
    },
    {
      "cell_type": "code",
      "metadata": {
        "colab": {
          "base_uri": "https://localhost:8080/",
          "height": 333
        },
        "id": "tJbmnCZjuIWP",
        "outputId": "908080fc-925e-4ae4-ecfd-ff44e2ddb368"
      },
      "source": [
        "train_set.describe()"
      ],
      "execution_count": null,
      "outputs": [
        {
          "output_type": "execute_result",
          "data": {
            "text/html": [
              "<div>\n",
              "<style scoped>\n",
              "    .dataframe tbody tr th:only-of-type {\n",
              "        vertical-align: middle;\n",
              "    }\n",
              "\n",
              "    .dataframe tbody tr th {\n",
              "        vertical-align: top;\n",
              "    }\n",
              "\n",
              "    .dataframe thead th {\n",
              "        text-align: right;\n",
              "    }\n",
              "</style>\n",
              "<table border=\"1\" class=\"dataframe\">\n",
              "  <thead>\n",
              "    <tr style=\"text-align: right;\">\n",
              "      <th></th>\n",
              "      <th>id</th>\n",
              "      <th>qid1</th>\n",
              "      <th>qid2</th>\n",
              "      <th>is_duplicate</th>\n",
              "      <th>freq_qid1</th>\n",
              "      <th>freq_qid2</th>\n",
              "      <th>q1len</th>\n",
              "      <th>q2len</th>\n",
              "      <th>q1_n_words</th>\n",
              "      <th>q2_n_words</th>\n",
              "      <th>word_Common</th>\n",
              "      <th>word_Total</th>\n",
              "      <th>word_share</th>\n",
              "      <th>freq_q1+freq_q2</th>\n",
              "      <th>freq_q1-freq_q2</th>\n",
              "    </tr>\n",
              "  </thead>\n",
              "  <tbody>\n",
              "    <tr>\n",
              "      <th>count</th>\n",
              "      <td>404290.000000</td>\n",
              "      <td>404290.000000</td>\n",
              "      <td>404290.000000</td>\n",
              "      <td>404290.000000</td>\n",
              "      <td>404290.000000</td>\n",
              "      <td>404290.000000</td>\n",
              "      <td>404290.000000</td>\n",
              "      <td>404290.000000</td>\n",
              "      <td>404290.000000</td>\n",
              "      <td>404290.000000</td>\n",
              "      <td>404290.000000</td>\n",
              "      <td>404290.000000</td>\n",
              "      <td>404290.000000</td>\n",
              "      <td>404290.000000</td>\n",
              "      <td>404290.000000</td>\n",
              "    </tr>\n",
              "    <tr>\n",
              "      <th>mean</th>\n",
              "      <td>202144.500000</td>\n",
              "      <td>217243.942418</td>\n",
              "      <td>220955.655337</td>\n",
              "      <td>0.369198</td>\n",
              "      <td>2.827609</td>\n",
              "      <td>3.046961</td>\n",
              "      <td>59.536709</td>\n",
              "      <td>60.108365</td>\n",
              "      <td>10.944592</td>\n",
              "      <td>11.185120</td>\n",
              "      <td>4.511610</td>\n",
              "      <td>21.126112</td>\n",
              "      <td>0.223362</td>\n",
              "      <td>5.874570</td>\n",
              "      <td>1.845715</td>\n",
              "    </tr>\n",
              "    <tr>\n",
              "      <th>std</th>\n",
              "      <td>116708.614503</td>\n",
              "      <td>157751.700002</td>\n",
              "      <td>159903.182629</td>\n",
              "      <td>0.482588</td>\n",
              "      <td>4.487418</td>\n",
              "      <td>6.026871</td>\n",
              "      <td>29.940655</td>\n",
              "      <td>33.863870</td>\n",
              "      <td>5.431949</td>\n",
              "      <td>6.311076</td>\n",
              "      <td>3.098656</td>\n",
              "      <td>8.592622</td>\n",
              "      <td>0.128336</td>\n",
              "      <td>9.091068</td>\n",
              "      <td>5.187882</td>\n",
              "    </tr>\n",
              "    <tr>\n",
              "      <th>min</th>\n",
              "      <td>0.000000</td>\n",
              "      <td>1.000000</td>\n",
              "      <td>2.000000</td>\n",
              "      <td>0.000000</td>\n",
              "      <td>1.000000</td>\n",
              "      <td>1.000000</td>\n",
              "      <td>0.000000</td>\n",
              "      <td>0.000000</td>\n",
              "      <td>1.000000</td>\n",
              "      <td>1.000000</td>\n",
              "      <td>0.000000</td>\n",
              "      <td>3.000000</td>\n",
              "      <td>0.000000</td>\n",
              "      <td>2.000000</td>\n",
              "      <td>0.000000</td>\n",
              "    </tr>\n",
              "    <tr>\n",
              "      <th>25%</th>\n",
              "      <td>101072.250000</td>\n",
              "      <td>74437.500000</td>\n",
              "      <td>74727.000000</td>\n",
              "      <td>0.000000</td>\n",
              "      <td>1.000000</td>\n",
              "      <td>1.000000</td>\n",
              "      <td>39.000000</td>\n",
              "      <td>39.000000</td>\n",
              "      <td>7.000000</td>\n",
              "      <td>7.000000</td>\n",
              "      <td>2.000000</td>\n",
              "      <td>15.000000</td>\n",
              "      <td>0.125000</td>\n",
              "      <td>2.000000</td>\n",
              "      <td>0.000000</td>\n",
              "    </tr>\n",
              "    <tr>\n",
              "      <th>50%</th>\n",
              "      <td>202144.500000</td>\n",
              "      <td>192182.000000</td>\n",
              "      <td>197052.000000</td>\n",
              "      <td>0.000000</td>\n",
              "      <td>1.000000</td>\n",
              "      <td>1.000000</td>\n",
              "      <td>52.000000</td>\n",
              "      <td>51.000000</td>\n",
              "      <td>10.000000</td>\n",
              "      <td>10.000000</td>\n",
              "      <td>4.000000</td>\n",
              "      <td>19.000000</td>\n",
              "      <td>0.217391</td>\n",
              "      <td>3.000000</td>\n",
              "      <td>0.000000</td>\n",
              "    </tr>\n",
              "    <tr>\n",
              "      <th>75%</th>\n",
              "      <td>303216.750000</td>\n",
              "      <td>346573.500000</td>\n",
              "      <td>354692.500000</td>\n",
              "      <td>1.000000</td>\n",
              "      <td>3.000000</td>\n",
              "      <td>2.000000</td>\n",
              "      <td>72.000000</td>\n",
              "      <td>72.000000</td>\n",
              "      <td>13.000000</td>\n",
              "      <td>13.000000</td>\n",
              "      <td>6.000000</td>\n",
              "      <td>25.000000</td>\n",
              "      <td>0.318182</td>\n",
              "      <td>5.000000</td>\n",
              "      <td>2.000000</td>\n",
              "    </tr>\n",
              "    <tr>\n",
              "      <th>max</th>\n",
              "      <td>404289.000000</td>\n",
              "      <td>537932.000000</td>\n",
              "      <td>537933.000000</td>\n",
              "      <td>1.000000</td>\n",
              "      <td>50.000000</td>\n",
              "      <td>120.000000</td>\n",
              "      <td>623.000000</td>\n",
              "      <td>1169.000000</td>\n",
              "      <td>125.000000</td>\n",
              "      <td>237.000000</td>\n",
              "      <td>41.000000</td>\n",
              "      <td>166.000000</td>\n",
              "      <td>0.500000</td>\n",
              "      <td>157.000000</td>\n",
              "      <td>119.000000</td>\n",
              "    </tr>\n",
              "  </tbody>\n",
              "</table>\n",
              "</div>"
            ],
            "text/plain": [
              "                  id           qid1  ...  freq_q1+freq_q2  freq_q1-freq_q2\n",
              "count  404290.000000  404290.000000  ...    404290.000000    404290.000000\n",
              "mean   202144.500000  217243.942418  ...         5.874570         1.845715\n",
              "std    116708.614503  157751.700002  ...         9.091068         5.187882\n",
              "min         0.000000       1.000000  ...         2.000000         0.000000\n",
              "25%    101072.250000   74437.500000  ...         2.000000         0.000000\n",
              "50%    202144.500000  192182.000000  ...         3.000000         0.000000\n",
              "75%    303216.750000  346573.500000  ...         5.000000         2.000000\n",
              "max    404289.000000  537932.000000  ...       157.000000       119.000000\n",
              "\n",
              "[8 rows x 15 columns]"
            ]
          },
          "metadata": {
            "tags": []
          },
          "execution_count": 30
        }
      ]
    },
    {
      "cell_type": "code",
      "metadata": {
        "colab": {
          "base_uri": "https://localhost:8080/"
        },
        "id": "gdCkJIpKbI8O",
        "outputId": "4f0e33c9-a47d-4c96-944b-23345bfe2db5"
      },
      "source": [
        "print('Minimum length of the questions in question1 = {}'.format(np.min(train_set['q1_n_words'])))\n",
        "print('Minimum length of the questions in question2 = {}'.format(np.min(train_set['q2_n_words'])))\n",
        "print('Number of questions with minimum length in question1 = {}'.format((train_set['q1_n_words']==1).sum()))\n",
        "print('Number of questions with minimum length in question2 = {}'.format((train_set['q2_n_words']==1).sum()))"
      ],
      "execution_count": null,
      "outputs": [
        {
          "output_type": "stream",
          "text": [
            "Minimum length of the questions in question1 = 1\n",
            "Minimum length of the questions in question2 = 1\n",
            "Number of questions with minimum length in question1 = 67\n",
            "Number of questions with minimum length in question2 = 24\n"
          ],
          "name": "stdout"
        }
      ]
    },
    {
      "cell_type": "code",
      "metadata": {
        "colab": {
          "base_uri": "https://localhost:8080/",
          "height": 478
        },
        "id": "YHCkpo8hzHoX",
        "outputId": "e4b468b9-5d97-4dfe-8f58-d513ac43e917"
      },
      "source": [
        "plt.figure(figsize=(12, 6))\n",
        "\n",
        "plt.subplot(1,2,1)\n",
        "sns.boxplot(x = 'is_duplicate', y = 'word_Common', data = train_set)\n",
        "\n",
        "plt.subplot(1,2,2)\n",
        "sns.distplot(train_set[train_set['is_duplicate'] == 1.0]['word_Common'] , label = \"1\", color = 'red')\n",
        "sns.distplot(train_set[train_set['is_duplicate'] == 0.0]['word_Common'], label = \"0\" , color = 'blue' )\n",
        "plt.legend()\n",
        "plt.show()"
      ],
      "execution_count": null,
      "outputs": [
        {
          "output_type": "stream",
          "text": [
            "/usr/local/lib/python3.7/dist-packages/seaborn/distributions.py:2557: FutureWarning: `distplot` is a deprecated function and will be removed in a future version. Please adapt your code to use either `displot` (a figure-level function with similar flexibility) or `histplot` (an axes-level function for histograms).\n",
            "  warnings.warn(msg, FutureWarning)\n",
            "/usr/local/lib/python3.7/dist-packages/seaborn/distributions.py:2557: FutureWarning: `distplot` is a deprecated function and will be removed in a future version. Please adapt your code to use either `displot` (a figure-level function with similar flexibility) or `histplot` (an axes-level function for histograms).\n",
            "  warnings.warn(msg, FutureWarning)\n"
          ],
          "name": "stderr"
        },
        {
          "output_type": "display_data",
          "data": {
            "image/png": "[encoded data removed]",
            "text/plain": [
              "<Figure size 864x432 with 2 Axes>"
            ]
          },
          "metadata": {
            "tags": [],
            "needs_background": "light"
          }
        }
      ]
    },
    {
      "cell_type": "markdown",
      "metadata": {
        "id": "hasdvpKYzRzP"
      },
      "source": [
        "\n",
        "\n",
        "*   The distribution of the word_Common feature in duplicate or non-duplicate pair are highly overlap. Therefore, this feature can not be used for classification\n",
        "\n"
      ]
    },
    {
      "cell_type": "code",
      "metadata": {
        "colab": {
          "base_uri": "https://localhost:8080/",
          "height": 478
        },
        "id": "hwpHhcWJfRLO",
        "outputId": "7921e315-36e9-44c1-9223-ed6f0bdadc70"
      },
      "source": [
        "plt.figure(figsize=(12, 6))\n",
        "\n",
        "plt.subplot(1,2,1)\n",
        "sns.boxplot(x = 'is_duplicate', y = 'word_share', data = train_set)\n",
        "\n",
        "plt.subplot(1,2,2)\n",
        "sns.distplot(train_set[train_set['is_duplicate'] == 1.0]['word_share'] , label = \"1\", color = 'red')\n",
        "sns.distplot(train_set[train_set['is_duplicate'] == 0.0]['word_share'], label = \"0\" , color = 'blue' )\n",
        "plt.legend()\n",
        "plt.show()"
      ],
      "execution_count": null,
      "outputs": [
        {
          "output_type": "stream",
          "text": [
            "/usr/local/lib/python3.7/dist-packages/seaborn/distributions.py:2557: FutureWarning: `distplot` is a deprecated function and will be removed in a future version. Please adapt your code to use either `displot` (a figure-level function with similar flexibility) or `histplot` (an axes-level function for histograms).\n",
            "  warnings.warn(msg, FutureWarning)\n",
            "/usr/local/lib/python3.7/dist-packages/seaborn/distributions.py:2557: FutureWarning: `distplot` is a deprecated function and will be removed in a future version. Please adapt your code to use either `displot` (a figure-level function with similar flexibility) or `histplot` (an axes-level function for histograms).\n",
            "  warnings.warn(msg, FutureWarning)\n"
          ],
          "name": "stderr"
        },
        {
          "output_type": "display_data",
          "data": {
            "image/png": "[encoded data removed]",
            "text/plain": [
              "<Figure size 864x432 with 2 Axes>"
            ]
          },
          "metadata": {
            "tags": [],
            "needs_background": "light"
          }
        }
      ]
    },
    {
      "cell_type": "markdown",
      "metadata": {
        "id": "UgbZSs8TyRVP"
      },
      "source": [
        "\n",
        "\n",
        "*  The average word share of qid1 and qid2 is more **when they are duplicate**(Similar) \n",
        "\n"
      ]
    },
    {
      "cell_type": "markdown",
      "metadata": {
        "id": "vhSi9bU2zyzW"
      },
      "source": [
        "#Processing of Text (Text normalization)"
      ]
    },
    {
      "cell_type": "markdown",
      "metadata": {
        "id": "cQfqipLf21D4"
      },
      "source": [
        "##Import library"
      ]
    },
    {
      "cell_type": "code",
      "metadata": {
        "id": "LpDrv9jFwTic"
      },
      "source": [
        "import warnings\n",
        "warnings.filterwarnings(\"ignore\")\n",
        "%matplotlib inline"
      ],
      "execution_count": null,
      "outputs": []
    },
    {
      "cell_type": "code",
      "metadata": {
        "id": "7-Vp2LvW2_VS"
      },
      "source": [
        "import nltk\n",
        "from nltk.corpus import stopwords"
      ],
      "execution_count": null,
      "outputs": []
    },
    {
      "cell_type": "code",
      "metadata": {
        "colab": {
          "base_uri": "https://localhost:8080/"
        },
        "id": "CoIX-ugL5lq9",
        "outputId": "3c9e6b70-2233-4cbb-fbc3-4e78209ac244"
      },
      "source": [
        "import nltk\n",
        "nltk.download('stopwords')"
      ],
      "execution_count": null,
      "outputs": [
        {
          "output_type": "stream",
          "text": [
            "[nltk_data] Downloading package stopwords to /root/nltk_data...\n",
            "[nltk_data]   Unzipping corpora/stopwords.zip.\n"
          ],
          "name": "stdout"
        },
        {
          "output_type": "execute_result",
          "data": {
            "text/plain": [
              "True"
            ]
          },
          "metadata": {
            "tags": []
          },
          "execution_count": 58
        }
      ]
    },
    {
      "cell_type": "code",
      "metadata": {
        "colab": {
          "base_uri": "https://localhost:8080/"
        },
        "id": "4-JgnUDAfUp7",
        "outputId": "d693079d-8fc1-44f9-c6a8-a75584e7849e"
      },
      "source": [
        "from nltk import word_tokenize\n",
        "nltk.download('punkt')"
      ],
      "execution_count": null,
      "outputs": [
        {
          "output_type": "stream",
          "text": [
            "[nltk_data] Downloading package punkt to /root/nltk_data...\n",
            "[nltk_data]   Unzipping tokenizers/punkt.zip.\n"
          ],
          "name": "stdout"
        },
        {
          "output_type": "execute_result",
          "data": {
            "text/plain": [
              "True"
            ]
          },
          "metadata": {
            "tags": []
          },
          "execution_count": 59
        }
      ]
    },
    {
      "cell_type": "code",
      "metadata": {
        "id": "RlC5oGTh7SPr"
      },
      "source": [
        "import re\n",
        "from nltk.stem import PorterStemmer\n",
        "from bs4 import BeautifulSoup"
      ],
      "execution_count": null,
      "outputs": []
    },
    {
      "cell_type": "markdown",
      "metadata": {
        "id": "lSlOeWXf-4SD"
      },
      "source": [
        "##preprocessing"
      ]
    },
    {
      "cell_type": "markdown",
      "metadata": {
        "id": "oauWlvSvc7k4"
      },
      "source": [
        "###Lowercase"
      ]
    },
    {
      "cell_type": "code",
      "metadata": {
        "id": "pj9LHO3UdB_F"
      },
      "source": [
        "def convert_lower_case(data):\n",
        "  return np.char.lower(data)"
      ],
      "execution_count": null,
      "outputs": []
    },
    {
      "cell_type": "markdown",
      "metadata": {
        "id": "FRSw9fpCd8cV"
      },
      "source": [
        "###Removing stop words"
      ]
    },
    {
      "cell_type": "code",
      "metadata": {
        "id": "bfc_1RdyeB5O"
      },
      "source": [
        "def remove_stop_words(data):\n",
        "  stop_words = stopwords.words('english')\n",
        "  words = word_tokenize(str(data))\n",
        "  new_text=\"\"\n",
        "  for w in words:\n",
        "    if w not in stop_words and len(w)>1:\n",
        "      new_text = new_text+\" \"+w\n",
        "  return data"
      ],
      "execution_count": null,
      "outputs": []
    },
    {
      "cell_type": "markdown",
      "metadata": {
        "id": "oKWA7_7mgdOg"
      },
      "source": [
        "###Removing punctuation"
      ]
    },
    {
      "cell_type": "code",
      "metadata": {
        "id": "rZbqcKeH5yQp"
      },
      "source": [
        "def remove_punctuation(data):\n",
        "    symbols = \"!\\\"#$%&()*+-./:;<=>?@[\\]^_`{|}~\\n\"\n",
        "    for i in range(len(symbols)):\n",
        "        data = np.char.replace(data, symbols[i], ' ')\n",
        "        data = np.char.replace(data, \"  \", \" \")\n",
        "    data = np.char.replace(data, ',', '')\n",
        "    return data"
      ],
      "execution_count": null,
      "outputs": []
    },
    {
      "cell_type": "markdown",
      "metadata": {
        "id": "ERxbPLpXg1EM"
      },
      "source": [
        "###Removing apostrophe"
      ]
    },
    {
      "cell_type": "code",
      "metadata": {
        "id": "uPTe-RRrhFH9"
      },
      "source": [
        "def remove_apostrophe(data):\n",
        "    return np.char.replace(data, \"'\", \"\")"
      ],
      "execution_count": null,
      "outputs": []
    },
    {
      "cell_type": "markdown",
      "metadata": {
        "id": "EmZZooQphbmp"
      },
      "source": [
        "###Stemming"
      ]
    },
    {
      "cell_type": "code",
      "metadata": {
        "id": "DxPmNZIbhNna"
      },
      "source": [
        "def stemming(data):\n",
        "    stemmer= PorterStemmer()\n",
        "    tokens = word_tokenize(str(data))\n",
        "    new_text = \"\"\n",
        "    for w in tokens:\n",
        "        new_text = new_text + \" \" + stemmer.stem(w)\n",
        "    return new_text"
      ],
      "execution_count": null,
      "outputs": []
    },
    {
      "cell_type": "markdown",
      "metadata": {
        "id": "qLILdOmihiYA"
      },
      "source": [
        "###convert_numbers"
      ]
    },
    {
      "cell_type": "code",
      "metadata": {
        "id": "22TSUOsfhKc_"
      },
      "source": [
        "def convert_numbers(data):\n",
        "    tokens = word_tokenize(str(data))\n",
        "    new_text = \"\"\n",
        "    for w in tokens:\n",
        "        try:\n",
        "            w = num2words(int(w))\n",
        "        except:\n",
        "            a = 0\n",
        "        new_text = new_text + \" \" + w\n",
        "    new_text = np.char.replace(new_text, \"-\", \" \")\n",
        "    return new_tex"
      ],
      "execution_count": null,
      "outputs": []
    },
    {
      "cell_type": "code",
      "metadata": {
        "id": "K1o_xcQKhuEj"
      },
      "source": [
        "def preprocess(data):\n",
        "    data = convert_lower_case(data)\n",
        "    data = remove_punctuation(data) #remove comma seperately\n",
        "    data = remove_apostrophe(data)\n",
        "    data = remove_stop_words(data)\n",
        "    data = convert_numbers(data)\n",
        "    data = stemming(data)\n",
        "    data = remove_punctuation(data)\n",
        "    data = convert_numbers(data)\n",
        "    data = stemming(data) #needed again as we need to stem the words\n",
        "    data = remove_punctuation(data) #needed again as num2word is giving few hypens and commas fourty-one\n",
        "    data = remove_stop_words(data) #needed again as num2word is giving stop words 101 - one hundred and one\n",
        "    return data"
      ],
      "execution_count": null,
      "outputs": []
    },
    {
      "cell_type": "markdown",
      "metadata": {
        "id": "u9zEc-vP-oH-"
      },
      "source": [
        "##**Advanced Feature Extraction** (NLP and Fuzzy Features)"
      ]
    },
    {
      "cell_type": "markdown",
      "metadata": {
        "id": "QtqtMX7N--kr"
      },
      "source": [
        "**Definition:**<br/>\n",
        "\n",
        "\n",
        "*   **Token:** Get a token by spliting a space\n",
        "*   **Stop_Word:** Stop word as per NLTK\n",
        "*   **Word:** A token that is not a stop_word\n",
        "\n",
        "\n"
      ]
    },
    {
      "cell_type": "code",
      "metadata": {
        "id": "SSHhFMF39oXW"
      },
      "source": [
        "tokenizer = nltk.RegexpTokenizer(r'\\w+')"
      ],
      "execution_count": null,
      "outputs": []
    },
    {
      "cell_type": "code",
      "metadata": {
        "id": "oEtBZC16AvK5"
      },
      "source": [
        "# Try"
      ],
      "execution_count": null,
      "outputs": []
    },
    {
      "cell_type": "code",
      "metadata": {
        "colab": {
          "base_uri": "https://localhost:8080/"
        },
        "id": "84GHy97qA7nD",
        "outputId": "ff4fdb22-ba18-421a-d343-c24fc8d9f435"
      },
      "source": [
        "sentences = []\n",
        "for s in tqdm.tqdm(train_set['question1'].tolist()):\n",
        "  sentences.append(tokenizer.tokenize(str(s)))"
      ],
      "execution_count": null,
      "outputs": [
        {
          "output_type": "stream",
          "text": [
            "100%|██████████| 120000/120000 [00:00<00:00, 224404.93it/s]\n"
          ],
          "name": "stderr"
        }
      ]
    },
    {
      "cell_type": "code",
      "metadata": {
        "colab": {
          "base_uri": "https://localhost:8080/"
        },
        "id": "GqN6LeVoC4mU",
        "outputId": "a637d425-e460-4711-a26d-f3e492117f8c"
      },
      "source": [
        "print(train_set['question1'].tolist()[0:2])\n",
        "print(sentences[0:2])"
      ],
      "execution_count": null,
      "outputs": [
        {
          "output_type": "stream",
          "text": [
            "['What is the step by step guide to invest in share market in india?', 'What is the story of Kohinoor (Koh-i-Noor) Diamond?']\n",
            "[['What', 'is', 'the', 'step', 'by', 'step', 'guide', 'to', 'invest', 'in', 'share', 'market', 'in', 'india'], ['What', 'is', 'the', 'story', 'of', 'Kohinoor', 'Koh', 'i', 'Noor', 'Diamond']]\n"
          ],
          "name": "stdout"
        }
      ]
    },
    {
      "cell_type": "code",
      "metadata": {
        "id": "rZy2oGSMAIcv"
      },
      "source": [
        ""
      ],
      "execution_count": null,
      "outputs": []
    },
    {
      "cell_type": "markdown",
      "metadata": {
        "id": "hOofg16urWqP"
      },
      "source": [
        ""
      ]
    },
    {
      "cell_type": "code",
      "metadata": {
        "id": "vw4EFz7zFE7E"
      },
      "source": [
        "train_questions1 = train_set['question1'].tolist()\n",
        "train_questions1_words = get_words(train_set['question1'])\n",
        "train_questions2_words = get_words(train_set['question2'])\n",
        "test_questions1_words = get_words(test_set['question1'])\n",
        "test_questions2_words = get_words(test_set['question2'])"
      ],
      "execution_count": null,
      "outputs": []
    },
    {
      "cell_type": "code",
      "metadata": {
        "colab": {
          "base_uri": "https://localhost:8080/"
        },
        "id": "6eVRCQ79FHly",
        "outputId": "28eeecee-34c5-4a6c-b817-a0257fe22728"
      },
      "source": [
        "# Check\n",
        "print(test_set['question2'].tolist()[0:2])\n",
        "print(test_questions2_words[0:2])"
      ],
      "execution_count": null,
      "outputs": [
        {
          "output_type": "stream",
          "text": [
            "['Why did Microsoft choose core m3 and not core i3 home Surface Pro 4?', 'How much cost does hair transplant require?']\n",
            "[['Why', 'did', 'Microsoft', 'choose', 'core', 'm3', 'and', 'not', 'core', 'i3', 'home', 'Surface', 'Pro', '4'], ['How', 'much', 'cost', 'does', 'hair', 'transplant', 'require']]\n"
          ],
          "name": "stdout"
        }
      ]
    },
    {
      "cell_type": "markdown",
      "metadata": {
        "id": "iSMZwV8OHIoJ"
      },
      "source": [
        ""
      ]
    },
    {
      "cell_type": "markdown",
      "metadata": {
        "id": "Dac8TRs-M-gD"
      },
      "source": [
        "\n",
        "\n",
        "1.   Vectorize the documents on the vocab (the list of all possible words in the corpus)<br/>\n",
        "\n",
        "\n",
        "\n"
      ]
    },
    {
      "cell_type": "code",
      "metadata": {
        "id": "9twhuCCDG75t"
      },
      "source": [
        "from gensim import corpora\n",
        "from gensim.models import TfidfModel"
      ],
      "execution_count": null,
      "outputs": []
    },
    {
      "cell_type": "code",
      "metadata": {
        "id": "44GGevyViOck"
      },
      "source": [
        ""
      ],
      "execution_count": null,
      "outputs": []
    },
    {
      "cell_type": "code",
      "metadata": {
        "colab": {
          "base_uri": "https://localhost:8080/"
        },
        "id": "w3z34RSfiRpr",
        "outputId": "9d8abb3d-0239-4248-9e31-b9363e7bdb05"
      },
      "source": [
        "tokenizer = nltk.RegexpTokenizer(r'\\w+')\n",
        "sentences=[]\n",
        "for p in tqdm.tqdm(questions):\n",
        "  sentences.append(tokenizer.tokenize(p))"
      ],
      "execution_count": null,
      "outputs": [
        {
          "output_type": "stream",
          "text": [
            "100%|██████████| 300000/300000 [00:01<00:00, 163105.75it/s]\n"
          ],
          "name": "stderr"
        }
      ]
    },
    {
      "cell_type": "code",
      "metadata": {
        "colab": {
          "base_uri": "https://localhost:8080/"
        },
        "id": "kCUGYGSKiiSr",
        "outputId": "24ead532-13f5-48a1-a82f-77969f1b3632"
      },
      "source": [
        "print(questions[0:2])\n",
        "print(sentences[0:2])"
      ],
      "execution_count": null,
      "outputs": [
        {
          "output_type": "stream",
          "text": [
            "['What is the step by step guide to invest in share market in india?', 'What is the story of Kohinoor (Koh-i-Noor) Diamond?']\n",
            "[['What', 'is', 'the', 'step', 'by', 'step', 'guide', 'to', 'invest', 'in', 'share', 'market', 'in', 'india'], ['What', 'is', 'the', 'story', 'of', 'Kohinoor', 'Koh', 'i', 'Noor', 'Diamond']]\n"
          ],
          "name": "stdout"
        }
      ]
    },
    {
      "cell_type": "code",
      "metadata": {
        "id": "Gem9mDIJi7EM"
      },
      "source": [
        "dictionary = corpora.Dictionary(sentences) # implements the concept of a Dictionary – a mapping between words and their integer ids."
      ],
      "execution_count": null,
      "outputs": []
    },
    {
      "cell_type": "code",
      "metadata": {
        "id": "9W42yFIKjTY2"
      },
      "source": [
        "new_corpus = [dictionary.doc2bow(txt) for txt in sentences] # Convert document into the bag-of-words (BoW) format = list of (token_id, token_count) tuples.\n",
        "# Convert corpus to BoW format"
      ],
      "execution_count": null,
      "outputs": []
    },
    {
      "cell_type": "code",
      "metadata": {
        "id": "xZQ78Ey_jt22"
      },
      "source": [
        "tfidf=TfidfModel(new_corpus) # implements functionality related to the TF-IDF              # fit model"
      ],
      "execution_count": null,
      "outputs": []
    },
    {
      "cell_type": "code",
      "metadata": {
        "colab": {
          "base_uri": "https://localhost:8080/"
        },
        "id": "iF_vJmPrpOi9",
        "outputId": "ca31eaaa-72a4-40f9-a0cd-6c19cb2066aa"
      },
      "source": [
        "tfidf[dictionary.doc2bow(['what', 'is', 'this'])] # (token_id, token_count) "
      ],
      "execution_count": null,
      "outputs": [
        {
          "output_type": "execute_result",
          "data": {
            "text/plain": [
              "[(6, 0.2407849128206825), (62, 0.6570005267016968), (899, 0.7144039009353386)]"
            ]
          },
          "metadata": {
            "tags": []
          },
          "execution_count": 80
        }
      ]
    },
    {
      "cell_type": "code",
      "metadata": {
        "id": "9mTjhCgVqNRv"
      },
      "source": [
        "def get_sentences_tfidfs(input_sentences):\n",
        "  output_vectors = []\n",
        "  for p in input_sentences:\n",
        "    result = tfidf[dictionary.doc2bow(p)]\n",
        "    output_vectors.append(result)\n",
        "  return output_vectors"
      ],
      "execution_count": null,
      "outputs": []
    },
    {
      "cell_type": "code",
      "metadata": {
        "id": "v-tSnc7jrLGp"
      },
      "source": [
        "train_questions1_tfidfs = get_sentences_tfidfs(train_questions1_words)"
      ],
      "execution_count": null,
      "outputs": []
    },
    {
      "cell_type": "code",
      "metadata": {
        "id": "xpkNuxUHrnA7"
      },
      "source": [
        "train_questions2_tfidfs = get_sentences_tfidfs(train_questions2_words)"
      ],
      "execution_count": null,
      "outputs": []
    },
    {
      "cell_type": "code",
      "metadata": {
        "id": "iGmbaz3ntRSG"
      },
      "source": [
        "test_questions1_tfidfs = get_sentences_tfidfs(test_questions1_words)\n",
        "test_questions2_tfidfs = get_sentences_tfidfs(test_questions2_words)"
      ],
      "execution_count": null,
      "outputs": []
    },
    {
      "cell_type": "code",
      "metadata": {
        "colab": {
          "base_uri": "https://localhost:8080/"
        },
        "id": "Ng7ndP3kr0TM",
        "outputId": "16ace937-d746-4344-8c76-e8068f41bb5f"
      },
      "source": [
        "print(train_questions2_words[0])\n",
        "print(train_questions2_tfidfs[0])"
      ],
      "execution_count": null,
      "outputs": [
        {
          "output_type": "stream",
          "text": [
            "['What', 'is', 'the', 'step', 'by', 'step', 'guide', 'to', 'invest', 'in', 'share', 'market']\n",
            "[(0, 0.04874062176007606), (1, 0.19113046584213902), (2, 0.39798910136028665), (3, 0.07518663295318391), (5, 0.3027798684752248), (6, 0.06722158514555926), (7, 0.28583149934866364), (8, 0.31814318840237005), (9, 0.7141836121645693), (10, 0.048976583447119755), (11, 0.07402080802268367)]\n"
          ],
          "name": "stdout"
        }
      ]
    },
    {
      "cell_type": "code",
      "metadata": {
        "colab": {
          "base_uri": "https://localhost:8080/",
          "height": 35
        },
        "id": "VYnq0eCzviUN",
        "outputId": "8efc9c13-5ca1-4c8e-ce5f-c5444b6eec2c"
      },
      "source": [
        "dictionary[1]"
      ],
      "execution_count": null,
      "outputs": [
        {
          "output_type": "execute_result",
          "data": {
            "application/vnd.google.colaboratory.intrinsic+json": {
              "type": "string"
            },
            "text/plain": [
              "'by'"
            ]
          },
          "metadata": {
            "tags": []
          },
          "execution_count": 86
        }
      ]
    },
    {
      "cell_type": "markdown",
      "metadata": {
        "id": "3ttDZaAKvxeX"
      },
      "source": [
        ""
      ]
    },
    {
      "cell_type": "code",
      "metadata": {
        "id": "ywf7wQgmvpNz"
      },
      "source": [
        ""
      ],
      "execution_count": null,
      "outputs": []
    },
    {
      "cell_type": "code",
      "metadata": {
        "id": "P6bBPTYzxUAI"
      },
      "source": [
        "sentences = sentences[0:10000]  # reduce sample size"
      ],
      "execution_count": null,
      "outputs": []
    },
    {
      "cell_type": "code",
      "metadata": {
        "id": "q_cysVxdvwN8"
      },
      "source": [
        "word2vec = Word2Vec(sentences=sentences, size=50, window=8, iter=10, min_count=1)"
      ],
      "execution_count": null,
      "outputs": []
    },
    {
      "cell_type": "code",
      "metadata": {
        "colab": {
          "base_uri": "https://localhost:8080/",
          "height": 131
        },
        "id": "qxg0_ggewLB8",
        "outputId": "c07ca197-7041-4499-9c51-f7f608d232fb"
      },
      "source": [
        "print('person vs man: ', word2vec.wv.similarity('person', 'man'))\n",
        "print('ocean vs sea : ', word2vec.wv.similarity('ocean', 'sea'))b"
      ],
      "execution_count": null,
      "outputs": [
        {
          "output_type": "error",
          "ename": "SyntaxError",
          "evalue": "ignored",
          "traceback": [
            "\u001b[0;36m  File \u001b[0;32m\"<ipython-input-90-2cce78c06180>\"\u001b[0;36m, line \u001b[0;32m2\u001b[0m\n\u001b[0;31m    print('ocean vs sea : ', word2vec.wv.similarity('ocean', 'sea'))b\u001b[0m\n\u001b[0m                                                                    ^\u001b[0m\n\u001b[0;31mSyntaxError\u001b[0m\u001b[0;31m:\u001b[0m invalid syntax\n"
          ]
        }
      ]
    },
    {
      "cell_type": "code",
      "metadata": {
        "id": "1v3zkCTXKwJ3"
      },
      "source": [
        "word2vec.wv.vocab['man'].count"
      ],
      "execution_count": null,
      "outputs": []
    },
    {
      "cell_type": "code",
      "metadata": {
        "id": "4QaEU_fuLLj4"
      },
      "source": [
        "len(word2vec.wv.vocab)"
      ],
      "execution_count": null,
      "outputs": []
    },
    {
      "cell_type": "markdown",
      "metadata": {
        "id": "5c9GB8BEx_qz"
      },
      "source": [
        "###Word vector ---> sentence vector"
      ]
    },
    {
      "cell_type": "markdown",
      "metadata": {
        "id": "NYdiHurPyMQw"
      },
      "source": [
        "* Direct Merge: Max, Average, `[w1,w2, w3, ...., wn]`  `w1 100-d vector`\n",
        "\n",
        "* TF-IDF: weighted sum\n",
        "\n",
        "* Deep Learning: embeddings, `[f1, f2,...,fn]` (f --> feature) (LSTM, GRU, Attention)\n",
        "\n",
        "    - Last Output: fn\n",
        "    - Hidden Vector (LSTM, GRU), hn\n",
        "    - Attention: `[aw1, aw2, .... ,awn]`  (attention weights), weighted sum -> sentence vector"
      ]
    },
    {
      "cell_type": "code",
      "metadata": {
        "id": "R3WkZCpvLPLB"
      },
      "source": [
        ""
      ],
      "execution_count": null,
      "outputs": []
    },
    {
      "cell_type": "markdown",
      "metadata": {
        "id": "UkXLy_050HJv"
      },
      "source": [
        "## Word2Vector or GloVe？\n",
        "\n",
        "* Our data (-)\n",
        "* Public Corups (general, training budget)\n",
        "* Load models, twitter.27B\n",
        "\n",
        "* Huge dataset: training by yourself\n",
        "* small dataset: public models\n",
        "* normal dataset： load public models ---> update model \n",
        "\n",
        "`embedding layer` ---> load weights & fine-tuning (classification/translation)\n",
        "\n",
        "\n",
        "> Indented block\n",
        "\n"
      ]
    },
    {
      "cell_type": "markdown",
      "metadata": {
        "id": "cvj-sTTly2Je"
      },
      "source": [
        "### Load word vectors from pretrained"
      ]
    },
    {
      "cell_type": "markdown",
      "metadata": {
        "id": "PksKjfSGy9wb"
      },
      "source": [
        "use `gensim.models.KeyedVectors`\n",
        "\n",
        "download the model first, such as `glove.6B.100d.txt` from https://nlp.stanford.edu/projects/glove/"
      ]
    },
    {
      "cell_type": "code",
      "metadata": {
        "id": "-g7Q7Lv5yGpB"
      },
      "source": [
        "from gensim.models import KeyedVectors"
      ],
      "execution_count": null,
      "outputs": []
    },
    {
      "cell_type": "code",
      "metadata": {
        "id": "feVV66t6yj1q"
      },
      "source": [
        "glove_vector_path = '/content/gdrive/My Drive/NLP project/data/glove.twitter.27B.100d.txt'"
      ],
      "execution_count": null,
      "outputs": []
    },
    {
      "cell_type": "markdown",
      "metadata": {
        "id": "FbcumtUQ1WXZ"
      },
      "source": [
        "####convert glove style to gensim style\n",
        "Glove txts have different styles from gensim. You need convert the styles of glove txts for usage"
      ]
    },
    {
      "cell_type": "code",
      "metadata": {
        "id": "w-yvHElYzBHb"
      },
      "source": [
        "from gensim.test.utils import datapath, get_tmpfile\n",
        "from gensim.scripts.glove2word2vec import glove2word2vec"
      ],
      "execution_count": null,
      "outputs": []
    },
    {
      "cell_type": "code",
      "metadata": {
        "id": "vyFa12Ts1eyQ"
      },
      "source": [
        "glove_file = datapath(glove_vector_path)\n",
        "tmp_file = get_tmpfile(\"converted_glove.txt\")"
      ],
      "execution_count": null,
      "outputs": []
    },
    {
      "cell_type": "code",
      "metadata": {
        "id": "ui0dTQ4t2fM4"
      },
      "source": [
        "from google.colab import drive\n",
        "drive.mount('/content/gdrive')"
      ],
      "execution_count": null,
      "outputs": []
    },
    {
      "cell_type": "code",
      "metadata": {
        "id": "wggVvNjc2hNw"
      },
      "source": [
        ""
      ],
      "execution_count": null,
      "outputs": []
    },
    {
      "cell_type": "code",
      "metadata": {
        "id": "9uFG1L4P1ihI"
      },
      "source": [
        "_ = glove2word2vec(glove_file, tmp_file)"
      ],
      "execution_count": null,
      "outputs": []
    },
    {
      "cell_type": "code",
      "metadata": {
        "id": "DzbvF8wE1r8w"
      },
      "source": [
        ""
      ],
      "execution_count": null,
      "outputs": []
    }
  ]
}