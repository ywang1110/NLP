{
  "nbformat": 4,
  "nbformat_minor": 0,
  "metadata": {
    "colab": {
      "name": "Question pair similarity.ipynb",
      "provenance": [],
      "collapsed_sections": [],
      "toc_visible": true,
      "machine_shape": "hm",
      "authorship_tag": "ABX9TyMdLnSvURPWTEfOmTWu3t8p",
      "include_colab_link": true
    },
    "kernelspec": {
      "name": "python3",
      "display_name": "Python 3"
    },
    "language_info": {
      "name": "python"
    },
    "accelerator": "GPU"
  },
  "cells": [
    {
      "cell_type": "markdown",
      "metadata": {
        "id": "view-in-github",
        "colab_type": "text"
      },
      "source": [
        "<a href=\"https://colab.research.google.com/github/ywang1110/NLP/blob/main/Techinical_Interview_Question_pair_similarity.ipynb\" target=\"_parent\"><img src=\"https://colab.research.google.com/assets/colab-badge.svg\" alt=\"Open In Colab\"/></a>"
      ]
    },
    {
      "cell_type": "markdown",
      "metadata": {
        "id": "mJagiCIRofKX"
      },
      "source": [
        "\n",
        "<img src=\"https://miro.medium.com/max/1440/1*YulfXLgM6rhCtaJHDgPPtQ.png\"\n",
        " height=\"200px\">"
      ]
    },
    {
      "cell_type": "markdown",
      "metadata": {
        "id": "bnXE442SpPHS"
      },
      "source": [
        "# Test what GPU assigned"
      ]
    },
    {
      "cell_type": "code",
      "metadata": {
        "colab": {
          "base_uri": "https://localhost:8080/"
        },
        "id": "sRj5s-aapMju",
        "outputId": "81f360ef-a200-4d7d-ee36-bd518a13a24a"
      },
      "source": [
        "gpu_info = !nvidia-smi\n",
        "gpu_info = '\\n'.join(gpu_info)\n",
        "if gpu_info.find('failed') >= 0:\n",
        "  print('Select the Runtime > \"Change runtime type\" menu to enable a GPU accelerator, ')\n",
        "  print('and then re-execute this cell.')\n",
        "else:\n",
        "  print(gpu_info)"
      ],
      "execution_count": 1,
      "outputs": [
        {
          "output_type": "stream",
          "text": [
            "Mon Aug  9 17:12:49 2021       \n",
            "+-----------------------------------------------------------------------------+\n",
            "| NVIDIA-SMI 470.42.01    Driver Version: 460.32.03    CUDA Version: 11.2     |\n",
            "|-------------------------------+----------------------+----------------------+\n",
            "| GPU  Name        Persistence-M| Bus-Id        Disp.A | Volatile Uncorr. ECC |\n",
            "| Fan  Temp  Perf  Pwr:Usage/Cap|         Memory-Usage | GPU-Util  Compute M. |\n",
            "|                               |                      |               MIG M. |\n",
            "|===============================+======================+======================|\n",
            "|   0  Tesla P100-PCIE...  Off  | 00000000:00:04.0 Off |                    0 |\n",
            "| N/A   41C    P0    27W / 250W |      0MiB / 16280MiB |      0%      Default |\n",
            "|                               |                      |                  N/A |\n",
            "+-------------------------------+----------------------+----------------------+\n",
            "                                                                               \n",
            "+-----------------------------------------------------------------------------+\n",
            "| Processes:                                                                  |\n",
            "|  GPU   GI   CI        PID   Type   Process name                  GPU Memory |\n",
            "|        ID   ID                                                   Usage      |\n",
            "|=============================================================================|\n",
            "|  No running processes found                                                 |\n",
            "+-----------------------------------------------------------------------------+\n"
          ],
          "name": "stdout"
        }
      ]
    },
    {
      "cell_type": "markdown",
      "metadata": {
        "id": "s3fpWX3YpS2K"
      },
      "source": [
        "# Test how much memory available"
      ]
    },
    {
      "cell_type": "code",
      "metadata": {
        "colab": {
          "base_uri": "https://localhost:8080/"
        },
        "id": "G401_LZwpTGE",
        "outputId": "cf2c31e5-1532-4f8d-84af-03b4b4f44757"
      },
      "source": [
        "from psutil import virtual_memory\n",
        "ram_gb = virtual_memory().total / 1e9\n",
        "print('Your runtime has {:.1f} gigabytes of available RAM\\n'.format(ram_gb))\n",
        "\n",
        "if ram_gb < 20:\n",
        "  print('To enable a high-RAM runtime, select the Runtime > \"Change runtime type\"')\n",
        "  print('menu, and then select High-RAM in the Runtime shape dropdown. Then, ')\n",
        "  print('re-execute this cell.')\n",
        "else:\n",
        "  print('You are using a high-RAM runtime!')"
      ],
      "execution_count": 2,
      "outputs": [
        {
          "output_type": "stream",
          "text": [
            "Your runtime has 27.3 gigabytes of available RAM\n",
            "\n",
            "You are using a high-RAM runtime!\n"
          ],
          "name": "stdout"
        }
      ]
    },
    {
      "cell_type": "markdown",
      "metadata": {
        "id": "HLF_Oclwop4J"
      },
      "source": [
        "# Import libraries"
      ]
    },
    {
      "cell_type": "code",
      "metadata": {
        "id": "nwTOg-gQodOp"
      },
      "source": [
        "import pandas as pd\n",
        "import numpy as np"
      ],
      "execution_count": 3,
      "outputs": []
    },
    {
      "cell_type": "markdown",
      "metadata": {
        "id": "j4gDpKzeotuc"
      },
      "source": [
        "# Load data"
      ]
    },
    {
      "cell_type": "code",
      "metadata": {
        "colab": {
          "base_uri": "https://localhost:8080/"
        },
        "id": "Kx71hK5eos5o",
        "outputId": "a98a61c9-9a77-4392-9c4f-21b6d2549efa"
      },
      "source": [
        "from google.colab import drive\n",
        "drive.mount(\"/content/gdrive\")"
      ],
      "execution_count": 4,
      "outputs": [
        {
          "output_type": "stream",
          "text": [
            "Drive already mounted at /content/gdrive; to attempt to forcibly remount, call drive.mount(\"/content/gdrive\", force_remount=True).\n"
          ],
          "name": "stdout"
        }
      ]
    },
    {
      "cell_type": "code",
      "metadata": {
        "id": "IWBJyXEcowhe"
      },
      "source": [
        "import pandas as pd\n",
        "train_set = pd.read_csv('/content/gdrive/My Drive/NLP/Questions_pair_similiarity/train.csv')\n",
        "test_set = pd.read_csv('/content/gdrive/My Drive/NLP/Questions_pair_similiarity/test.csv')[:400000]"
      ],
      "execution_count": 5,
      "outputs": []
    },
    {
      "cell_type": "code",
      "metadata": {
        "colab": {
          "base_uri": "https://localhost:8080/",
          "height": 206
        },
        "id": "fCWxqlhmpAqh",
        "outputId": "370570c0-ce31-424f-9616-f77fb8b86f57"
      },
      "source": [
        "train_set.sample(5)"
      ],
      "execution_count": 6,
      "outputs": [
        {
          "output_type": "execute_result",
          "data": {
            "text/html": [
              "<div>\n",
              "<style scoped>\n",
              "    .dataframe tbody tr th:only-of-type {\n",
              "        vertical-align: middle;\n",
              "    }\n",
              "\n",
              "    .dataframe tbody tr th {\n",
              "        vertical-align: top;\n",
              "    }\n",
              "\n",
              "    .dataframe thead th {\n",
              "        text-align: right;\n",
              "    }\n",
              "</style>\n",
              "<table border=\"1\" class=\"dataframe\">\n",
              "  <thead>\n",
              "    <tr style=\"text-align: right;\">\n",
              "      <th></th>\n",
              "      <th>id</th>\n",
              "      <th>qid1</th>\n",
              "      <th>qid2</th>\n",
              "      <th>question1</th>\n",
              "      <th>question2</th>\n",
              "      <th>is_duplicate</th>\n",
              "    </tr>\n",
              "  </thead>\n",
              "  <tbody>\n",
              "    <tr>\n",
              "      <th>368427</th>\n",
              "      <td>368427</td>\n",
              "      <td>27246</td>\n",
              "      <td>11443</td>\n",
              "      <td>What is the best language to learn programming?</td>\n",
              "      <td>What is the best programming language for a be...</td>\n",
              "      <td>1</td>\n",
              "    </tr>\n",
              "    <tr>\n",
              "      <th>167493</th>\n",
              "      <td>167493</td>\n",
              "      <td>38756</td>\n",
              "      <td>259660</td>\n",
              "      <td>If I block someone on snapchat will they still...</td>\n",
              "      <td>If I blocked and unblocked someone on snapchat...</td>\n",
              "      <td>1</td>\n",
              "    </tr>\n",
              "    <tr>\n",
              "      <th>310214</th>\n",
              "      <td>310214</td>\n",
              "      <td>434292</td>\n",
              "      <td>434293</td>\n",
              "      <td>What do the IIMs look for in a candidate apart...</td>\n",
              "      <td>What else is needed to get into IIMs except yo...</td>\n",
              "      <td>1</td>\n",
              "    </tr>\n",
              "    <tr>\n",
              "      <th>52046</th>\n",
              "      <td>52046</td>\n",
              "      <td>92221</td>\n",
              "      <td>7974</td>\n",
              "      <td>GATE 2016 Preparation: Is Takshzila Shikshak g...</td>\n",
              "      <td>What are some tips to prepare for the GATE?</td>\n",
              "      <td>0</td>\n",
              "    </tr>\n",
              "    <tr>\n",
              "      <th>44442</th>\n",
              "      <td>44442</td>\n",
              "      <td>79752</td>\n",
              "      <td>79753</td>\n",
              "      <td>When one of the 9/11 hijackers suggested targe...</td>\n",
              "      <td>In how many seconds can a human eye spot and r...</td>\n",
              "      <td>0</td>\n",
              "    </tr>\n",
              "  </tbody>\n",
              "</table>\n",
              "</div>"
            ],
            "text/plain": [
              "            id  ...  is_duplicate\n",
              "368427  368427  ...             1\n",
              "167493  167493  ...             1\n",
              "310214  310214  ...             1\n",
              "52046    52046  ...             0\n",
              "44442    44442  ...             0\n",
              "\n",
              "[5 rows x 6 columns]"
            ]
          },
          "metadata": {
            "tags": []
          },
          "execution_count": 6
        }
      ]
    },
    {
      "cell_type": "code",
      "metadata": {
        "colab": {
          "base_uri": "https://localhost:8080/"
        },
        "id": "eTlZ1NvQpq3q",
        "outputId": "654491e5-44c2-4f2c-fc38-42e7a1ffaa1c"
      },
      "source": [
        "train_set.shape"
      ],
      "execution_count": 7,
      "outputs": [
        {
          "output_type": "execute_result",
          "data": {
            "text/plain": [
              "(404290, 6)"
            ]
          },
          "metadata": {
            "tags": []
          },
          "execution_count": 7
        }
      ]
    },
    {
      "cell_type": "code",
      "metadata": {
        "colab": {
          "base_uri": "https://localhost:8080/",
          "height": 206
        },
        "id": "NCphUFUBpuYi",
        "outputId": "daed1b00-a578-45cd-c8b3-64475373a1ef"
      },
      "source": [
        "test_set.head()"
      ],
      "execution_count": 8,
      "outputs": [
        {
          "output_type": "execute_result",
          "data": {
            "text/html": [
              "<div>\n",
              "<style scoped>\n",
              "    .dataframe tbody tr th:only-of-type {\n",
              "        vertical-align: middle;\n",
              "    }\n",
              "\n",
              "    .dataframe tbody tr th {\n",
              "        vertical-align: top;\n",
              "    }\n",
              "\n",
              "    .dataframe thead th {\n",
              "        text-align: right;\n",
              "    }\n",
              "</style>\n",
              "<table border=\"1\" class=\"dataframe\">\n",
              "  <thead>\n",
              "    <tr style=\"text-align: right;\">\n",
              "      <th></th>\n",
              "      <th>test_id</th>\n",
              "      <th>question1</th>\n",
              "      <th>question2</th>\n",
              "    </tr>\n",
              "  </thead>\n",
              "  <tbody>\n",
              "    <tr>\n",
              "      <th>0</th>\n",
              "      <td>0</td>\n",
              "      <td>How does the Surface Pro himself 4 compare wit...</td>\n",
              "      <td>Why did Microsoft choose core m3 and not core ...</td>\n",
              "    </tr>\n",
              "    <tr>\n",
              "      <th>1</th>\n",
              "      <td>1</td>\n",
              "      <td>Should I have a hair transplant at age 24? How...</td>\n",
              "      <td>How much cost does hair transplant require?</td>\n",
              "    </tr>\n",
              "    <tr>\n",
              "      <th>2</th>\n",
              "      <td>2</td>\n",
              "      <td>What but is the best way to send money from Ch...</td>\n",
              "      <td>What you send money to China?</td>\n",
              "    </tr>\n",
              "    <tr>\n",
              "      <th>3</th>\n",
              "      <td>3</td>\n",
              "      <td>Which food not emulsifiers?</td>\n",
              "      <td>What foods fibre?</td>\n",
              "    </tr>\n",
              "    <tr>\n",
              "      <th>4</th>\n",
              "      <td>4</td>\n",
              "      <td>How \"aberystwyth\" start reading?</td>\n",
              "      <td>How their can I start reading?</td>\n",
              "    </tr>\n",
              "  </tbody>\n",
              "</table>\n",
              "</div>"
            ],
            "text/plain": [
              "   test_id  ...                                          question2\n",
              "0        0  ...  Why did Microsoft choose core m3 and not core ...\n",
              "1        1  ...        How much cost does hair transplant require?\n",
              "2        2  ...                      What you send money to China?\n",
              "3        3  ...                                  What foods fibre?\n",
              "4        4  ...                     How their can I start reading?\n",
              "\n",
              "[5 rows x 3 columns]"
            ]
          },
          "metadata": {
            "tags": []
          },
          "execution_count": 8
        }
      ]
    },
    {
      "cell_type": "code",
      "metadata": {
        "colab": {
          "base_uri": "https://localhost:8080/"
        },
        "id": "EQgIeH5dpwoQ",
        "outputId": "f16002d8-c40a-4f8b-f5e4-9d7480f58a44"
      },
      "source": [
        "test_set.shape"
      ],
      "execution_count": 9,
      "outputs": [
        {
          "output_type": "execute_result",
          "data": {
            "text/plain": [
              "(400000, 3)"
            ]
          },
          "metadata": {
            "tags": []
          },
          "execution_count": 9
        }
      ]
    },
    {
      "cell_type": "markdown",
      "metadata": {
        "id": "D0m2Qv1gm7JQ"
      },
      "source": [
        "## Missing values"
      ]
    },
    {
      "cell_type": "code",
      "metadata": {
        "colab": {
          "base_uri": "https://localhost:8080/",
          "height": 143
        },
        "id": "g7K2EL2Am9DH",
        "outputId": "cb5ea5ae-9e36-4c4a-beee-da17fb806ca7"
      },
      "source": [
        "#Checking whether there are any rows with null values\n",
        "df_miss = train_set[train_set.isnull().any(1)]\n",
        "df_miss"
      ],
      "execution_count": 10,
      "outputs": [
        {
          "output_type": "execute_result",
          "data": {
            "text/html": [
              "<div>\n",
              "<style scoped>\n",
              "    .dataframe tbody tr th:only-of-type {\n",
              "        vertical-align: middle;\n",
              "    }\n",
              "\n",
              "    .dataframe tbody tr th {\n",
              "        vertical-align: top;\n",
              "    }\n",
              "\n",
              "    .dataframe thead th {\n",
              "        text-align: right;\n",
              "    }\n",
              "</style>\n",
              "<table border=\"1\" class=\"dataframe\">\n",
              "  <thead>\n",
              "    <tr style=\"text-align: right;\">\n",
              "      <th></th>\n",
              "      <th>id</th>\n",
              "      <th>qid1</th>\n",
              "      <th>qid2</th>\n",
              "      <th>question1</th>\n",
              "      <th>question2</th>\n",
              "      <th>is_duplicate</th>\n",
              "    </tr>\n",
              "  </thead>\n",
              "  <tbody>\n",
              "    <tr>\n",
              "      <th>105780</th>\n",
              "      <td>105780</td>\n",
              "      <td>174363</td>\n",
              "      <td>174364</td>\n",
              "      <td>How can I develop android app?</td>\n",
              "      <td>NaN</td>\n",
              "      <td>0</td>\n",
              "    </tr>\n",
              "    <tr>\n",
              "      <th>201841</th>\n",
              "      <td>201841</td>\n",
              "      <td>303951</td>\n",
              "      <td>174364</td>\n",
              "      <td>How can I create an Android app?</td>\n",
              "      <td>NaN</td>\n",
              "      <td>0</td>\n",
              "    </tr>\n",
              "    <tr>\n",
              "      <th>363362</th>\n",
              "      <td>363362</td>\n",
              "      <td>493340</td>\n",
              "      <td>493341</td>\n",
              "      <td>NaN</td>\n",
              "      <td>My Chinese name is Haichao Yu. What English na...</td>\n",
              "      <td>0</td>\n",
              "    </tr>\n",
              "  </tbody>\n",
              "</table>\n",
              "</div>"
            ],
            "text/plain": [
              "            id  ...  is_duplicate\n",
              "105780  105780  ...             0\n",
              "201841  201841  ...             0\n",
              "363362  363362  ...             0\n",
              "\n",
              "[3 rows x 6 columns]"
            ]
          },
          "metadata": {
            "tags": []
          },
          "execution_count": 10
        }
      ]
    },
    {
      "cell_type": "markdown",
      "metadata": {
        "id": "IHZqT-Ponh3W"
      },
      "source": [
        "question1 has 1 null object or missing value and question2 has 2 null objects or missing values."
      ]
    },
    {
      "cell_type": "code",
      "metadata": {
        "colab": {
          "base_uri": "https://localhost:8080/"
        },
        "id": "j5t61c-nrW-K",
        "outputId": "b33b960a-544e-4f2d-88d5-bde9fef1d8f9"
      },
      "source": [
        "len(df_miss)/len(train_set)*100"
      ],
      "execution_count": 11,
      "outputs": [
        {
          "output_type": "execute_result",
          "data": {
            "text/plain": [
              "0.000742041603799253"
            ]
          },
          "metadata": {
            "tags": []
          },
          "execution_count": 11
        }
      ]
    },
    {
      "cell_type": "markdown",
      "metadata": {
        "id": "xSWEteGer1gj"
      },
      "source": [
        "#### Drop rows with null values"
      ]
    },
    {
      "cell_type": "code",
      "metadata": {
        "id": "sSBycGSRr7AJ"
      },
      "source": [
        "train_set.drop(df_miss.index, inplace=True)"
      ],
      "execution_count": 12,
      "outputs": []
    },
    {
      "cell_type": "code",
      "metadata": {
        "colab": {
          "base_uri": "https://localhost:8080/"
        },
        "id": "uA-ttyvksExh",
        "outputId": "d9c49720-50d9-4e6c-ead4-698d41125e20"
      },
      "source": [
        "train_set.shape"
      ],
      "execution_count": 13,
      "outputs": [
        {
          "output_type": "execute_result",
          "data": {
            "text/plain": [
              "(404287, 6)"
            ]
          },
          "metadata": {
            "tags": []
          },
          "execution_count": 13
        }
      ]
    },
    {
      "cell_type": "markdown",
      "metadata": {
        "id": "gNGD63fRqSvb"
      },
      "source": [
        "## Exract all questions"
      ]
    },
    {
      "cell_type": "code",
      "metadata": {
        "id": "B99NmU8VpymC"
      },
      "source": [
        "train_question1 = train_set['question1'].tolist()\n",
        "train_question2 = train_set['question2'].tolist()"
      ],
      "execution_count": 14,
      "outputs": []
    },
    {
      "cell_type": "code",
      "metadata": {
        "id": "Uw-WnRfeqe_2"
      },
      "source": [
        "test_question1 = test_set['question1'].tolist()\n",
        "test_question2 = test_set['question2'].tolist()"
      ],
      "execution_count": 15,
      "outputs": []
    },
    {
      "cell_type": "code",
      "metadata": {
        "id": "MwkCfixXubKf"
      },
      "source": [
        "questions = train_question1 + train_question2 + test_question1 + test_question2"
      ],
      "execution_count": 16,
      "outputs": []
    },
    {
      "cell_type": "code",
      "metadata": {
        "colab": {
          "base_uri": "https://localhost:8080/"
        },
        "id": "15IGiSkCqm47",
        "outputId": "d9122dc8-8d6b-4ff0-a711-a824a43b7d2c"
      },
      "source": [
        "test_question2[:5]"
      ],
      "execution_count": 17,
      "outputs": [
        {
          "output_type": "execute_result",
          "data": {
            "text/plain": [
              "['Why did Microsoft choose core m3 and not core i3 home Surface Pro 4?',\n",
              " 'How much cost does hair transplant require?',\n",
              " 'What you send money to China?',\n",
              " 'What foods fibre?',\n",
              " 'How their can I start reading?']"
            ]
          },
          "metadata": {
            "tags": []
          },
          "execution_count": 17
        }
      ]
    },
    {
      "cell_type": "markdown",
      "metadata": {
        "id": "BnmPRXyqm3-W"
      },
      "source": [
        "# Exploratory Data Analysis"
      ]
    },
    {
      "cell_type": "markdown",
      "metadata": {
        "id": "tTyKl3tEnxMQ"
      },
      "source": [
        "## Distribution of class labels"
      ]
    },
    {
      "cell_type": "code",
      "metadata": {
        "colab": {
          "base_uri": "https://localhost:8080/"
        },
        "id": "N7Br-wSmnu94",
        "outputId": "e279ea06-42bb-476a-e24b-1507631c5d93"
      },
      "source": [
        "label_distribution = train_set['is_duplicate'].value_counts()/len(train_set)*100\n",
        "label_distribution"
      ],
      "execution_count": 18,
      "outputs": [
        {
          "output_type": "execute_result",
          "data": {
            "text/plain": [
              "0    63.079941\n",
              "1    36.920059\n",
              "Name: is_duplicate, dtype: float64"
            ]
          },
          "metadata": {
            "tags": []
          },
          "execution_count": 18
        }
      ]
    },
    {
      "cell_type": "code",
      "metadata": {
        "id": "RNU5BBOMocR2"
      },
      "source": [
        "import matplotlib.pyplot as plt"
      ],
      "execution_count": 19,
      "outputs": []
    },
    {
      "cell_type": "code",
      "metadata": {
        "colab": {
          "base_uri": "https://localhost:8080/",
          "height": 305
        },
        "id": "LODjV6UBn7FC",
        "outputId": "5beb1760-cece-4ba0-b82c-723dc3f0ebe6"
      },
      "source": [
        "label_distribution.plot.bar()\n",
        "plt.xlabel('is_duplicate', fontsize=20)"
      ],
      "execution_count": 20,
      "outputs": [
        {
          "output_type": "execute_result",
          "data": {
            "text/plain": [
              "Text(0.5, 0, 'is_duplicate')"
            ]
          },
          "metadata": {
            "tags": []
          },
          "execution_count": 20
        },
        {
          "output_type": "display_data",
          "data": {
            "image/png": "[encoded data removed]",
            "text/plain": [
              "<Figure size 432x288 with 1 Axes>"
            ]
          },
          "metadata": {
            "tags": [],
            "needs_background": "light"
          }
        }
      ]
    },
    {
      "cell_type": "markdown",
      "metadata": {
        "id": "oPAZng5FqqkU"
      },
      "source": [
        "# Neural Embeddings"
      ]
    },
    {
      "cell_type": "markdown",
      "metadata": {
        "id": "6ONzqIBkrMEj"
      },
      "source": [
        "## Word2Vec (Context-free models)"
      ]
    },
    {
      "cell_type": "markdown",
      "metadata": {
        "id": "TqCsHWuTrjyE"
      },
      "source": [
        "### Tokenization"
      ]
    },
    {
      "cell_type": "code",
      "metadata": {
        "id": "gjoUmEQLqpap"
      },
      "source": [
        "import nltk"
      ],
      "execution_count": 21,
      "outputs": []
    },
    {
      "cell_type": "code",
      "metadata": {
        "id": "yzrDTa0xro9m"
      },
      "source": [
        "tokenizer = nltk.RegexpTokenizer(r'\\w+') # only alphanumeric characters+underscore"
      ],
      "execution_count": 22,
      "outputs": []
    },
    {
      "cell_type": "code",
      "metadata": {
        "id": "EDbiqa3Jrzf1"
      },
      "source": [
        "def get_tokens(input_sentences):\n",
        "  output_tokens = [tokenizer.tokenize(str(input_sentence)) for input_sentence in input_sentences]\n",
        "  return output_tokens"
      ],
      "execution_count": 23,
      "outputs": []
    },
    {
      "cell_type": "code",
      "metadata": {
        "id": "cx-Kx1aBsY2J"
      },
      "source": [
        "train_question1_tokens = get_tokens(train_question1)\n",
        "train_question2_tokens = get_tokens(train_question2)"
      ],
      "execution_count": 24,
      "outputs": []
    },
    {
      "cell_type": "code",
      "metadata": {
        "id": "r5kyJ-nosgGB"
      },
      "source": [
        "test_question1_tokens = get_tokens(test_question1)\n",
        "test_question2_tokens = get_tokens(test_question2)"
      ],
      "execution_count": 25,
      "outputs": []
    },
    {
      "cell_type": "code",
      "metadata": {
        "id": "Q797n-wfujoB"
      },
      "source": [
        "questions_tokens = get_tokens(questions)"
      ],
      "execution_count": 26,
      "outputs": []
    },
    {
      "cell_type": "code",
      "metadata": {
        "colab": {
          "base_uri": "https://localhost:8080/"
        },
        "id": "R1YxrgJhtGAQ",
        "outputId": "5a951870-bd57-458e-d681-375e2f71ccc9"
      },
      "source": [
        "train_question1_tokens[-3]"
      ],
      "execution_count": 27,
      "outputs": [
        {
          "output_type": "execute_result",
          "data": {
            "text/plain": [
              "['What', 'is', 'one', 'coin']"
            ]
          },
          "metadata": {
            "tags": []
          },
          "execution_count": 27
        }
      ]
    },
    {
      "cell_type": "code",
      "metadata": {
        "colab": {
          "base_uri": "https://localhost:8080/",
          "height": 36
        },
        "id": "G_vezFcvtQei",
        "outputId": "aab6aecd-98bd-4823-86c7-09e94ba941f7"
      },
      "source": [
        "train_question1[-3]"
      ],
      "execution_count": 28,
      "outputs": [
        {
          "output_type": "execute_result",
          "data": {
            "application/vnd.google.colaboratory.intrinsic+json": {
              "type": "string"
            },
            "text/plain": [
              "'What is one coin?'"
            ]
          },
          "metadata": {
            "tags": []
          },
          "execution_count": 28
        }
      ]
    },
    {
      "cell_type": "markdown",
      "metadata": {
        "id": "QBH4FK2-taEb"
      },
      "source": [
        "### Word2Vec"
      ]
    },
    {
      "cell_type": "code",
      "metadata": {
        "colab": {
          "base_uri": "https://localhost:8080/"
        },
        "id": "6bXiTBlItYp_",
        "outputId": "0a88068b-1f71-4c6d-f286-fcfc25c6dc33"
      },
      "source": [
        "!pip install gensim"
      ],
      "execution_count": 29,
      "outputs": [
        {
          "output_type": "stream",
          "text": [
            "Requirement already satisfied: gensim in /usr/local/lib/python3.7/dist-packages (3.6.0)\n",
            "Requirement already satisfied: scipy>=0.18.1 in /usr/local/lib/python3.7/dist-packages (from gensim) (1.4.1)\n",
            "Requirement already satisfied: numpy>=1.11.3 in /usr/local/lib/python3.7/dist-packages (from gensim) (1.19.5)\n",
            "Requirement already satisfied: six>=1.5.0 in /usr/local/lib/python3.7/dist-packages (from gensim) (1.15.0)\n",
            "Requirement already satisfied: smart-open>=1.2.1 in /usr/local/lib/python3.7/dist-packages (from gensim) (5.1.0)\n"
          ],
          "name": "stdout"
        }
      ]
    },
    {
      "cell_type": "code",
      "metadata": {
        "id": "QRvj5ejotl48"
      },
      "source": [
        "from gensim.models import Word2Vec"
      ],
      "execution_count": 30,
      "outputs": []
    },
    {
      "cell_type": "code",
      "metadata": {
        "id": "aN5KIDeCtqjx"
      },
      "source": [
        "word2vec = Word2Vec(sentences=questions_tokens, size=100, window=8, iter=10, min_count=1)"
      ],
      "execution_count": 31,
      "outputs": []
    },
    {
      "cell_type": "markdown",
      "metadata": {
        "id": "pqfKMH51xf2q"
      },
      "source": [
        "It tooks too long time to train our word embeddings based on local text"
      ]
    },
    {
      "cell_type": "code",
      "metadata": {
        "id": "USk07q1iu4Ct"
      },
      "source": [
        "# Check all vocabulary output: a dictionary, key = word, value = gensim\n",
        "# word2vec.wv.vocab "
      ],
      "execution_count": 32,
      "outputs": []
    },
    {
      "cell_type": "code",
      "metadata": {
        "colab": {
          "base_uri": "https://localhost:8080/"
        },
        "id": "-3iK4TWaPww8",
        "outputId": "e4a275de-20f1-4355-bba7-4d0764187ba2"
      },
      "source": [
        "len(word2vec.wv.vocab)"
      ],
      "execution_count": 33,
      "outputs": [
        {
          "output_type": "execute_result",
          "data": {
            "text/plain": [
              "147218"
            ]
          },
          "metadata": {
            "tags": []
          },
          "execution_count": 33
        }
      ]
    },
    {
      "cell_type": "code",
      "metadata": {
        "id": "ymuselrBvJd2",
        "colab": {
          "base_uri": "https://localhost:8080/"
        },
        "outputId": "d5018c40-82e9-4811-80dd-f3d7bca25f3e"
      },
      "source": [
        "# list(dictionary) == list(dictionary.keys())\n",
        "list(word2vec.wv.vocab)[:5]"
      ],
      "execution_count": 34,
      "outputs": [
        {
          "output_type": "execute_result",
          "data": {
            "text/plain": [
              "['What', 'is', 'the', 'step', 'by']"
            ]
          },
          "metadata": {
            "tags": []
          },
          "execution_count": 34
        }
      ]
    },
    {
      "cell_type": "code",
      "metadata": {
        "colab": {
          "base_uri": "https://localhost:8080/"
        },
        "id": "pc15XGpvu7fI",
        "outputId": "0fd723c0-32a6-403f-89dc-f05f936455e5"
      },
      "source": [
        "word2vec['What']"
      ],
      "execution_count": 35,
      "outputs": [
        {
          "output_type": "stream",
          "text": [
            "/usr/local/lib/python3.7/dist-packages/ipykernel_launcher.py:1: DeprecationWarning: Call to deprecated `__getitem__` (Method will be removed in 4.0.0, use self.wv.__getitem__() instead).\n",
            "  \"\"\"Entry point for launching an IPython kernel.\n"
          ],
          "name": "stderr"
        },
        {
          "output_type": "execute_result",
          "data": {
            "text/plain": [
              "array([ 2.299699  ,  1.3063995 ,  0.3023125 , -1.7850772 ,  0.7194483 ,\n",
              "        0.94667315, -3.5073943 ,  0.21355024,  0.26386973, -2.7489545 ,\n",
              "       -6.2882338 , -1.843759  , -1.5351849 , -2.8345363 ,  0.06623215,\n",
              "        0.46494484,  0.335346  ,  3.273055  ,  1.7531027 , -2.6768892 ,\n",
              "       -0.2658798 ,  0.16627121, -1.2978561 ,  2.4680336 , -3.518333  ,\n",
              "       -2.7044985 , -2.8595955 ,  3.4859288 ,  0.9975468 , -0.6183054 ,\n",
              "        0.35883158, -2.616036  ,  0.5595254 ,  1.0343142 , -0.85636026,\n",
              "       -0.2793661 , -2.2215018 ,  2.2119215 , -0.75397843, -1.9020908 ,\n",
              "        2.9844036 , -2.1030471 ,  0.85108256,  7.300147  ,  3.5395231 ,\n",
              "        0.9177576 ,  0.7440439 ,  2.5356762 , -0.9665777 ,  0.0236449 ,\n",
              "        0.9172069 , -1.1881323 ,  3.2029269 , -0.34007916, -0.5542084 ,\n",
              "       -4.0597634 , -0.7327803 , -0.36639237, -2.339799  ,  0.4037962 ,\n",
              "        2.581997  ,  1.5890956 , -2.4937086 , -0.7349312 ,  3.4569705 ,\n",
              "       -2.476629  , -3.1745195 , -2.8674061 , -1.1985439 ,  0.594194  ,\n",
              "        0.2924415 ,  1.9998572 , -1.2592245 , -0.26225317, -2.826957  ,\n",
              "       -0.21125324,  0.8452744 ,  1.895144  ,  4.6873446 ,  0.17264317,\n",
              "       -1.8723099 ,  0.6539653 ,  1.9970255 ,  0.5808471 , -2.119505  ,\n",
              "       -0.26023343,  1.256387  , -0.8761838 , -0.6621376 ,  0.30715895,\n",
              "        0.05683464,  0.8940615 , -1.8374538 ,  0.7848737 , -1.0956773 ,\n",
              "       -0.3218561 , -0.89140904, -0.78105897,  0.11026692, -2.7602148 ],\n",
              "      dtype=float32)"
            ]
          },
          "metadata": {
            "tags": []
          },
          "execution_count": 35
        }
      ]
    },
    {
      "cell_type": "code",
      "metadata": {
        "colab": {
          "base_uri": "https://localhost:8080/"
        },
        "id": "i1ck8OznvZIi",
        "outputId": "bbc2748b-8067-4ec4-889d-53d005be2380"
      },
      "source": [
        "word2vec['What'].shape"
      ],
      "execution_count": 36,
      "outputs": [
        {
          "output_type": "stream",
          "text": [
            "/usr/local/lib/python3.7/dist-packages/ipykernel_launcher.py:1: DeprecationWarning: Call to deprecated `__getitem__` (Method will be removed in 4.0.0, use self.wv.__getitem__() instead).\n",
            "  \"\"\"Entry point for launching an IPython kernel.\n"
          ],
          "name": "stderr"
        },
        {
          "output_type": "execute_result",
          "data": {
            "text/plain": [
              "(100,)"
            ]
          },
          "metadata": {
            "tags": []
          },
          "execution_count": 36
        }
      ]
    },
    {
      "cell_type": "markdown",
      "metadata": {
        "id": "W-WV4cCOxqIt"
      },
      "source": [
        "## GloVe (Context-free models)"
      ]
    },
    {
      "cell_type": "code",
      "metadata": {
        "colab": {
          "base_uri": "https://localhost:8080/"
        },
        "id": "5omlJAYWxrSP",
        "outputId": "9a3c6207-3908-48df-e21f-41b638599663"
      },
      "source": [
        "from google.colab import drive\n",
        "drive.mount(\"/content/gdrive\")"
      ],
      "execution_count": 37,
      "outputs": [
        {
          "output_type": "stream",
          "text": [
            "Drive already mounted at /content/gdrive; to attempt to forcibly remount, call drive.mount(\"/content/gdrive\", force_remount=True).\n"
          ],
          "name": "stdout"
        }
      ]
    },
    {
      "cell_type": "markdown",
      "metadata": {
        "id": "eggoTyFjyyJ_"
      },
      "source": [
        "### Format Converter"
      ]
    },
    {
      "cell_type": "code",
      "metadata": {
        "id": "7i54uqiFyvYr"
      },
      "source": [
        "from gensim.scripts.glove2word2vec import glove2word2vec"
      ],
      "execution_count": 38,
      "outputs": []
    },
    {
      "cell_type": "code",
      "metadata": {
        "id": "2GhiGQZmy4Qr"
      },
      "source": [
        "glove_input_file = '/content/gdrive/My Drive/NLP/GloVe/glove.6B.100d.txt'\n",
        "glove_output_file = '/content/gdrive/My Drive/NLP/GloVe/glove.6B.100d.word2vec'\n",
        "\n",
        "_ = glove2word2vec(glove_input_file, glove_output_file)"
      ],
      "execution_count": 39,
      "outputs": []
    },
    {
      "cell_type": "markdown",
      "metadata": {
        "id": "zj2-RKiB0L0a"
      },
      "source": [
        "## TF-IDF"
      ]
    },
    {
      "cell_type": "markdown",
      "metadata": {
        "id": "YH1SLTsf0Sbi"
      },
      "source": [
        "$$TF = \\frac{\\text{number of documents including the term at least once (df)}}{\\text{total number of documents (N)}}$$ <br>\n",
        "$$IDF = \\log(\\frac{\\text{total number of documents (N)}}{\\text{number of documents including the term at least once (df)+1}})$$"
      ]
    },
    {
      "cell_type": "code",
      "metadata": {
        "id": "bRjraJNh0Hpn"
      },
      "source": [
        "from gensim import corpora\n",
        "from gensim.models import TfidfModel"
      ],
      "execution_count": 42,
      "outputs": []
    },
    {
      "cell_type": "code",
      "metadata": {
        "id": "K87m7pI60qRw"
      },
      "source": [
        "dictionary = corpora.Dictionary(questions_tokens)  \n",
        "# dictionary {id_1: word_1, id_2: word_2, ...}"
      ],
      "execution_count": 43,
      "outputs": []
    },
    {
      "cell_type": "code",
      "metadata": {
        "colab": {
          "base_uri": "https://localhost:8080/"
        },
        "id": "p6MwSG9C0u0M",
        "outputId": "9677fef9-6129-4fa3-de51-7fe8ca8f5ac6"
      },
      "source": [
        "# convert documents into Bag of words (BoW) | create a dictionary = {id_1: count_1, id_2:count_2, ...}\n",
        "new_corpus = [dictionary.doc2bow(question_tokens) for question_tokens in questions_tokens]\n",
        "new_corpus[:2]"
      ],
      "execution_count": 44,
      "outputs": [
        {
          "output_type": "execute_result",
          "data": {
            "text/plain": [
              "[[(0, 1),\n",
              "  (1, 1),\n",
              "  (2, 1),\n",
              "  (3, 2),\n",
              "  (4, 1),\n",
              "  (5, 1),\n",
              "  (6, 1),\n",
              "  (7, 1),\n",
              "  (8, 1),\n",
              "  (9, 2),\n",
              "  (10, 1),\n",
              "  (11, 1)],\n",
              " [(0, 1),\n",
              "  (6, 1),\n",
              "  (10, 1),\n",
              "  (12, 1),\n",
              "  (13, 1),\n",
              "  (14, 1),\n",
              "  (15, 1),\n",
              "  (16, 1),\n",
              "  (17, 1),\n",
              "  (18, 1)]]"
            ]
          },
          "metadata": {
            "tags": []
          },
          "execution_count": 44
        }
      ]
    },
    {
      "cell_type": "code",
      "metadata": {
        "id": "Dto5qtU-1tZp"
      },
      "source": [
        "tfidf = TfidfModel(new_corpus)"
      ],
      "execution_count": 45,
      "outputs": []
    },
    {
      "cell_type": "code",
      "metadata": {
        "colab": {
          "base_uri": "https://localhost:8080/"
        },
        "id": "kp_6YX1226NR",
        "outputId": "184e15bd-ce51-4e7d-cda5-08024c28bf19"
      },
      "source": [
        "questions_tokens[:2]"
      ],
      "execution_count": 46,
      "outputs": [
        {
          "output_type": "execute_result",
          "data": {
            "text/plain": [
              "[['What',\n",
              "  'is',\n",
              "  'the',\n",
              "  'step',\n",
              "  'by',\n",
              "  'step',\n",
              "  'guide',\n",
              "  'to',\n",
              "  'invest',\n",
              "  'in',\n",
              "  'share',\n",
              "  'market',\n",
              "  'in',\n",
              "  'india'],\n",
              " ['What',\n",
              "  'is',\n",
              "  'the',\n",
              "  'story',\n",
              "  'of',\n",
              "  'Kohinoor',\n",
              "  'Koh',\n",
              "  'i',\n",
              "  'Noor',\n",
              "  'Diamond']]"
            ]
          },
          "metadata": {
            "tags": []
          },
          "execution_count": 46
        }
      ]
    },
    {
      "cell_type": "code",
      "metadata": {
        "colab": {
          "base_uri": "https://localhost:8080/"
        },
        "id": "olHd2Hxa2EjB",
        "outputId": "42a3a039-b3cb-4b2f-b0e5-91a43ee946fe"
      },
      "source": [
        "tfidf[dictionary.doc2bow(['What','is','the'])] # (token_id, tfidf) "
      ],
      "execution_count": 47,
      "outputs": [
        {
          "output_type": "execute_result",
          "data": {
            "text/plain": [
              "[(0, 0.501933419269464), (6, 0.6974694987042012), (10, 0.5114676343599609)]"
            ]
          },
          "metadata": {
            "tags": []
          },
          "execution_count": 47
        }
      ]
    },
    {
      "cell_type": "code",
      "metadata": {
        "id": "_V6TntSp2Uz8"
      },
      "source": [
        "def get_sentences_tfidfs(input_sentences_tokens):\n",
        "  output_vectors = []\n",
        "  for q in input_sentences_tokens:\n",
        "    result = tfidf[dictionary.doc2bow(q)] \n",
        "    output_vectors.append(result)\n",
        "  return output_vectors"
      ],
      "execution_count": 48,
      "outputs": []
    },
    {
      "cell_type": "code",
      "metadata": {
        "id": "5XH9iKJ24Xbs"
      },
      "source": [
        "train_question1_tfidfs = get_sentences_tfidfs(train_question1_tokens)"
      ],
      "execution_count": 49,
      "outputs": []
    },
    {
      "cell_type": "code",
      "metadata": {
        "id": "CL0QafSs4c71"
      },
      "source": [
        "train_question2_tfidfs = get_sentences_tfidfs(train_question2_tokens)"
      ],
      "execution_count": 50,
      "outputs": []
    },
    {
      "cell_type": "code",
      "metadata": {
        "id": "1bvo3Xda4meo"
      },
      "source": [
        "test_question1_tfidfs = get_sentences_tfidfs(test_question1_tokens)"
      ],
      "execution_count": 51,
      "outputs": []
    },
    {
      "cell_type": "code",
      "metadata": {
        "id": "D_7jJ8Hb4sJ5"
      },
      "source": [
        "test_question2_tfidfs = get_sentences_tfidfs(test_question2_tokens)"
      ],
      "execution_count": 52,
      "outputs": []
    },
    {
      "cell_type": "code",
      "metadata": {
        "id": "Rb98jLGN5evY",
        "colab": {
          "base_uri": "https://localhost:8080/"
        },
        "outputId": "3aa54b90-a45c-4705-946d-a64c80d94809"
      },
      "source": [
        "print(train_question1_tokens[1])\n",
        "print(train_question1_tfidfs[1])"
      ],
      "execution_count": 53,
      "outputs": [
        {
          "output_type": "stream",
          "text": [
            "['What', 'is', 'the', 'story', 'of', 'Kohinoor', 'Koh', 'i', 'Noor', 'Diamond']\n",
            "[(0, 0.042771767707761914), (6, 0.05943418436900267), (10, 0.0435842165654612), (12, 0.43328494784164856), (13, 0.45889625571481407), (14, 0.46283417927802106), (15, 0.4937812582286423), (16, 0.24594725283452387), (17, 0.07489974921213495), (18, 0.2651066163866776)]\n"
          ],
          "name": "stdout"
        }
      ]
    },
    {
      "cell_type": "code",
      "metadata": {
        "colab": {
          "base_uri": "https://localhost:8080/"
        },
        "id": "wl5S6XCSwMRx",
        "outputId": "e756d31c-1ee3-4cd4-d63c-cb8d08d2907c"
      },
      "source": [
        "train_question1_tfidfs[-3]"
      ],
      "execution_count": 54,
      "outputs": [
        {
          "output_type": "execute_result",
          "data": {
            "text/plain": [
              "[(0, 0.10408817142536196),\n",
              " (6, 0.14463736017168763),\n",
              " (44, 0.39015569626095),\n",
              " (9414, 0.903340588752118)]"
            ]
          },
          "metadata": {
            "tags": []
          },
          "execution_count": 54
        }
      ]
    },
    {
      "cell_type": "markdown",
      "metadata": {
        "id": "I_1Fnt8iJNU3"
      },
      "source": [
        "6## Construct TF-IDF & Word2Vec Features"
      ]
    },
    {
      "cell_type": "code",
      "metadata": {
        "colab": {
          "base_uri": "https://localhost:8080/"
        },
        "id": "xDPy59gwIjSE",
        "outputId": "8f8cc39a-a152-40f9-a450-3b0721e658bf"
      },
      "source": [
        "train_question1_tfidfs[0]"
      ],
      "execution_count": 56,
      "outputs": [
        {
          "output_type": "execute_result",
          "data": {
            "text/plain": [
              "[(0, 0.0471437383549434),\n",
              " (1, 0.18444692651588007),\n",
              " (2, 0.38464736052412407),\n",
              " (3, 0.14312735435812024),\n",
              " (4, 0.2628754528649872),\n",
              " (5, 0.2913186440728891),\n",
              " (6, 0.06550932513184979),\n",
              " (7, 0.2747741024579848),\n",
              " (8, 0.3043162664178286),\n",
              " (9, 0.6793221274795865),\n",
              " (10, 0.04803923270616697),\n",
              " (11, 0.07183816378429946)]"
            ]
          },
          "metadata": {
            "tags": []
          },
          "execution_count": 56
        }
      ]
    },
    {
      "cell_type": "code",
      "metadata": {
        "colab": {
          "base_uri": "https://localhost:8080/",
          "height": 36
        },
        "id": "vAdoUhopI3fn",
        "outputId": "bcc208d5-2b63-402a-83e1-ad633b93141d"
      },
      "source": [
        "dictionary[0]  # (id_1, word_1)"
      ],
      "execution_count": 57,
      "outputs": [
        {
          "output_type": "execute_result",
          "data": {
            "application/vnd.google.colaboratory.intrinsic+json": {
              "type": "string"
            },
            "text/plain": [
              "'What'"
            ]
          },
          "metadata": {
            "tags": []
          },
          "execution_count": 57
        }
      ]
    },
    {
      "cell_type": "code",
      "metadata": {
        "colab": {
          "base_uri": "https://localhost:8080/"
        },
        "id": "Q_7d3D-NJbUG",
        "outputId": "18f82a1d-ed46-428e-fa30-2b9a5dbd5748"
      },
      "source": [
        "word2vec['What']"
      ],
      "execution_count": 58,
      "outputs": [
        {
          "output_type": "stream",
          "text": [
            "/usr/local/lib/python3.7/dist-packages/ipykernel_launcher.py:1: DeprecationWarning: Call to deprecated `__getitem__` (Method will be removed in 4.0.0, use self.wv.__getitem__() instead).\n",
            "  \"\"\"Entry point for launching an IPython kernel.\n"
          ],
          "name": "stderr"
        },
        {
          "output_type": "execute_result",
          "data": {
            "text/plain": [
              "array([ 2.299699  ,  1.3063995 ,  0.3023125 , -1.7850772 ,  0.7194483 ,\n",
              "        0.94667315, -3.5073943 ,  0.21355024,  0.26386973, -2.7489545 ,\n",
              "       -6.2882338 , -1.843759  , -1.5351849 , -2.8345363 ,  0.06623215,\n",
              "        0.46494484,  0.335346  ,  3.273055  ,  1.7531027 , -2.6768892 ,\n",
              "       -0.2658798 ,  0.16627121, -1.2978561 ,  2.4680336 , -3.518333  ,\n",
              "       -2.7044985 , -2.8595955 ,  3.4859288 ,  0.9975468 , -0.6183054 ,\n",
              "        0.35883158, -2.616036  ,  0.5595254 ,  1.0343142 , -0.85636026,\n",
              "       -0.2793661 , -2.2215018 ,  2.2119215 , -0.75397843, -1.9020908 ,\n",
              "        2.9844036 , -2.1030471 ,  0.85108256,  7.300147  ,  3.5395231 ,\n",
              "        0.9177576 ,  0.7440439 ,  2.5356762 , -0.9665777 ,  0.0236449 ,\n",
              "        0.9172069 , -1.1881323 ,  3.2029269 , -0.34007916, -0.5542084 ,\n",
              "       -4.0597634 , -0.7327803 , -0.36639237, -2.339799  ,  0.4037962 ,\n",
              "        2.581997  ,  1.5890956 , -2.4937086 , -0.7349312 ,  3.4569705 ,\n",
              "       -2.476629  , -3.1745195 , -2.8674061 , -1.1985439 ,  0.594194  ,\n",
              "        0.2924415 ,  1.9998572 , -1.2592245 , -0.26225317, -2.826957  ,\n",
              "       -0.21125324,  0.8452744 ,  1.895144  ,  4.6873446 ,  0.17264317,\n",
              "       -1.8723099 ,  0.6539653 ,  1.9970255 ,  0.5808471 , -2.119505  ,\n",
              "       -0.26023343,  1.256387  , -0.8761838 , -0.6621376 ,  0.30715895,\n",
              "        0.05683464,  0.8940615 , -1.8374538 ,  0.7848737 , -1.0956773 ,\n",
              "       -0.3218561 , -0.89140904, -0.78105897,  0.11026692, -2.7602148 ],\n",
              "      dtype=float32)"
            ]
          },
          "metadata": {
            "tags": []
          },
          "execution_count": 58
        }
      ]
    },
    {
      "cell_type": "code",
      "metadata": {
        "colab": {
          "base_uri": "https://localhost:8080/"
        },
        "id": "Fzb80p6SLCWn",
        "outputId": "5dd1074a-a016-41a7-92b7-2328d808ba1b"
      },
      "source": [
        "a = train_question1_tfidfs[0]\n",
        "[word2vec[dictionary[item[0]]]*item[1] for item in a][:2]"
      ],
      "execution_count": 59,
      "outputs": [
        {
          "output_type": "stream",
          "text": [
            "/usr/local/lib/python3.7/dist-packages/ipykernel_launcher.py:2: DeprecationWarning: Call to deprecated `__getitem__` (Method will be removed in 4.0.0, use self.wv.__getitem__() instead).\n",
            "  \n"
          ],
          "name": "stderr"
        },
        {
          "output_type": "execute_result",
          "data": {
            "text/plain": [
              "[array([ 0.10841641,  0.06158856,  0.01425214, -0.08415522,  0.03391748,\n",
              "         0.04462971, -0.16535167,  0.01006756,  0.01243981, -0.129596  ,\n",
              "        -0.29645085, -0.08692169, -0.07237435, -0.13363063,  0.00312243,\n",
              "         0.02191924,  0.01580947,  0.15430406,  0.08264782, -0.12619856,\n",
              "        -0.01253457,  0.00783865, -0.06118579,  0.11635233, -0.16586737,\n",
              "        -0.12750018, -0.13481203,  0.16433972,  0.04702809, -0.02914923,\n",
              "         0.01691666, -0.12332971,  0.02637812,  0.04876143, -0.04037203,\n",
              "        -0.01317036, -0.1047299 ,  0.10427824, -0.03554536, -0.08967167,\n",
              "         0.14069594, -0.0991455 ,  0.04012321,  0.34415624,  0.16686635,\n",
              "         0.04326652,  0.03507701,  0.11954126, -0.04556809,  0.00111471,\n",
              "         0.04324056, -0.056013  ,  0.15099795, -0.0160326 , -0.02612746,\n",
              "        -0.19139242, -0.034546  , -0.01727311, -0.11030687,  0.01903646,\n",
              "         0.12172499,  0.07491591, -0.11756275, -0.0346474 ,  0.1629745 ,\n",
              "        -0.11675755, -0.14965872, -0.13518025, -0.05650384,  0.02801253,\n",
              "         0.01378679,  0.09428074, -0.05936455, -0.01236359, -0.13327332,\n",
              "        -0.00995927,  0.03984939,  0.08934417,  0.22097895,  0.00813904,\n",
              "        -0.08826769,  0.03083037,  0.09414725,  0.0273833 , -0.09992138,\n",
              "        -0.01226838,  0.05923078, -0.04130658, -0.03121564,  0.01448062,\n",
              "         0.0026794 ,  0.0421494 , -0.08662444,  0.03700188, -0.05165432,\n",
              "        -0.0151735 , -0.04202436, -0.03682204,  0.00519839, -0.13012685],\n",
              "       dtype=float32),\n",
              " array([ 5.1632833e-02, -9.4583206e-02, -2.4899185e-02,  1.5713686e-01,\n",
              "        -5.4872555e-01,  1.9890757e-01, -2.7643687e-01, -5.4929823e-01,\n",
              "         3.5500383e-01, -1.3713357e-01, -7.7735668e-01,  2.5907397e-01,\n",
              "         4.4876119e-01, -8.0464566e-01, -2.7036273e-01, -3.1528303e-01,\n",
              "        -6.3952678e-01, -3.4895658e-01,  1.8032293e-01, -2.2036906e-02,\n",
              "         3.8640630e-01, -2.0208688e-01,  7.9597004e-02,  4.0282816e-01,\n",
              "         3.1430528e-01,  5.4520071e-02,  9.3495876e-02, -1.5753154e-01,\n",
              "         3.7886459e-01, -2.4233055e-01, -9.3636161e-01, -6.4689040e-01,\n",
              "         9.2706857e-03,  5.0399762e-01,  3.2404515e-01,  3.2982159e-01,\n",
              "         4.1953337e-01, -3.0179229e-01,  3.6471510e-01,  7.3247975e-01,\n",
              "         1.8833380e-04,  1.2185945e-01, -9.9437225e-01,  9.0249643e-02,\n",
              "         2.3863521e-01, -7.0745990e-02,  4.4005853e-01, -1.5043077e-01,\n",
              "        -7.2624877e-02,  6.8045482e-02,  5.5759642e-02,  4.8684639e-01,\n",
              "         1.3907957e-02, -8.6271942e-02, -1.7686802e-01,  3.8925675e-01,\n",
              "        -7.4275762e-02, -3.4252685e-02,  1.9896063e-01,  2.8339872e-01,\n",
              "        -5.0159529e-02,  1.6944149e-01,  3.2072581e-02, -4.2314392e-01,\n",
              "         9.6496187e-02, -7.2964586e-02,  4.4870540e-02, -1.0010687e+00,\n",
              "         1.8593672e-01, -3.2950324e-01,  1.0435576e+00, -3.9290008e-01,\n",
              "         5.3346552e-02,  6.2690461e-01,  4.2872453e-01, -5.2653539e-01,\n",
              "         7.5143707e-01, -3.8855437e-02, -8.6985208e-02, -4.4110277e-01,\n",
              "         8.4304489e-02, -9.9247605e-02, -1.2631960e-01, -4.3407390e-01,\n",
              "         6.5513241e-01, -2.6908016e-01,  3.9387811e-02,  3.0878422e-01,\n",
              "         7.2469048e-02, -4.0656364e-01,  3.6699751e-01,  1.2647319e-01,\n",
              "        -3.1368710e-02, -1.9301660e-01, -1.7090267e-01,  1.2096565e-01,\n",
              "        -1.5388064e-01, -1.2031498e-01, -7.9942328e-01,  1.2272165e-01],\n",
              "       dtype=float32)]"
            ]
          },
          "metadata": {
            "tags": []
          },
          "execution_count": 59
        }
      ]
    },
    {
      "cell_type": "code",
      "metadata": {
        "colab": {
          "base_uri": "https://localhost:8080/"
        },
        "id": "J7OZNeFEQXDb",
        "outputId": "297a4b0f-57a3-4575-fdb9-dff5498dfce0"
      },
      "source": [
        "np.array([word2vec[dictionary[item[0]]]*item[1] for item in a]).sum(0)"
      ],
      "execution_count": 60,
      "outputs": [
        {
          "output_type": "stream",
          "text": [
            "/usr/local/lib/python3.7/dist-packages/ipykernel_launcher.py:1: DeprecationWarning: Call to deprecated `__getitem__` (Method will be removed in 4.0.0, use self.wv.__getitem__() instead).\n",
            "  \"\"\"Entry point for launching an IPython kernel.\n"
          ],
          "name": "stderr"
        },
        {
          "output_type": "execute_result",
          "data": {
            "text/plain": [
              "array([-1.7184016 , -1.3977584 ,  2.1193743 , -3.4112148 , -0.35131112,\n",
              "        1.076861  , -1.3592751 ,  1.8519238 , -3.4094908 , -1.8461145 ,\n",
              "        2.9666266 ,  0.44609594,  2.190119  , -3.7629445 ,  4.8924007 ,\n",
              "        0.09729548,  1.4981079 ,  1.1675029 ,  1.9686162 , -1.9377089 ,\n",
              "        1.469815  ,  1.4923294 , -0.7718374 ,  3.609223  , -3.3924615 ,\n",
              "       -2.0520215 ,  2.190445  ,  0.79256576,  0.5178707 , -4.3628526 ,\n",
              "        0.9066396 , -4.179386  , -2.37913   ,  0.15150711,  0.70926255,\n",
              "        0.7556713 , -3.4235168 ,  1.1523739 ,  0.9479876 ,  2.7597334 ,\n",
              "       -1.0661465 , -0.606481  ,  1.6530702 ,  5.4069004 , -3.1494534 ,\n",
              "       -2.656195  ,  3.0763836 , -0.02459431,  1.4335794 ,  1.9762459 ,\n",
              "        2.4241574 ,  0.04680601,  4.3652973 , -3.1176617 ,  2.441427  ,\n",
              "       -3.372045  , -2.9740074 , -3.4557433 ,  2.5245724 , -0.27743572,\n",
              "       -0.14582135, -3.5071027 ,  0.57668453, -0.8072064 , -2.1306825 ,\n",
              "       -0.01993624, -1.2164193 , -1.2879641 ,  1.5544444 , -1.7201977 ,\n",
              "        2.6905537 ,  0.09135161,  2.2475362 , -2.4133961 , -4.5259156 ,\n",
              "       -0.46073872,  1.9584036 , -0.96276575,  0.3258025 , -2.7933817 ,\n",
              "       -1.1645726 , -1.5011413 ,  0.2515092 ,  0.8963144 , -1.8164628 ,\n",
              "       -0.3135851 , -0.25372067, -4.5191064 ,  3.730743  , -1.7145398 ,\n",
              "        2.2129118 , -0.67953974, -0.55051976,  0.6551758 , -1.9194688 ,\n",
              "        0.2866709 , -0.23916414, -3.2186465 ,  1.531222  , -4.6256986 ],\n",
              "      dtype=float32)"
            ]
          },
          "metadata": {
            "tags": []
          },
          "execution_count": 60
        }
      ]
    },
    {
      "cell_type": "code",
      "metadata": {
        "id": "27MB2FLjJllh"
      },
      "source": [
        "def get_features(input_sentences, sentence_tfidfs, word2vec, dictionary):\n",
        "  output_features = []\n",
        "  for p, tf_idf in zip(input_sentences, sentence_tfidfs):\n",
        "    sentence_features = [word2vec[dictionary[x[0]]]*x[1] for x in tf_idf] # embedding * tf_idf\n",
        "    output_features.append(np.array(sentence_features).sum(axis=0))\n",
        "  return output_features"
      ],
      "execution_count": 61,
      "outputs": []
    },
    {
      "cell_type": "code",
      "metadata": {
        "id": "bSJPASYBK3To",
        "colab": {
          "base_uri": "https://localhost:8080/"
        },
        "outputId": "50051b92-a849-41b9-8c3f-bd841ac673d2"
      },
      "source": [
        "train_question1_features = get_features(train_question1, train_question1_tfidfs, word2vec, dictionary)"
      ],
      "execution_count": 62,
      "outputs": [
        {
          "output_type": "stream",
          "text": [
            "/usr/local/lib/python3.7/dist-packages/ipykernel_launcher.py:4: DeprecationWarning: Call to deprecated `__getitem__` (Method will be removed in 4.0.0, use self.wv.__getitem__() instead).\n",
            "  after removing the cwd from sys.path.\n"
          ],
          "name": "stderr"
        }
      ]
    },
    {
      "cell_type": "code",
      "metadata": {
        "colab": {
          "base_uri": "https://localhost:8080/"
        },
        "id": "dIbRpjLvNdFS",
        "outputId": "38bc0e0e-73eb-4ba7-9deb-e4a075a22ce2"
      },
      "source": [
        "train_question2_features = get_features(train_question2, train_question2_tfidfs, word2vec, dictionary)"
      ],
      "execution_count": 63,
      "outputs": [
        {
          "output_type": "stream",
          "text": [
            "/usr/local/lib/python3.7/dist-packages/ipykernel_launcher.py:4: DeprecationWarning: Call to deprecated `__getitem__` (Method will be removed in 4.0.0, use self.wv.__getitem__() instead).\n",
            "  after removing the cwd from sys.path.\n"
          ],
          "name": "stderr"
        }
      ]
    },
    {
      "cell_type": "code",
      "metadata": {
        "colab": {
          "base_uri": "https://localhost:8080/"
        },
        "id": "11LqbmdpQ-bF",
        "outputId": "61c6d61a-5b62-40e6-d8de-f5dfa6ede1e7"
      },
      "source": [
        "test_question1_features = get_features(test_question1, test_question1_tfidfs, word2vec, dictionary)\n",
        "test_question2_features = get_features(test_question2, test_question2_tfidfs, word2vec, dictionary)"
      ],
      "execution_count": 64,
      "outputs": [
        {
          "output_type": "stream",
          "text": [
            "/usr/local/lib/python3.7/dist-packages/ipykernel_launcher.py:4: DeprecationWarning: Call to deprecated `__getitem__` (Method will be removed in 4.0.0, use self.wv.__getitem__() instead).\n",
            "  after removing the cwd from sys.path.\n"
          ],
          "name": "stderr"
        }
      ]
    },
    {
      "cell_type": "markdown",
      "metadata": {
        "id": "9Mi3UowhSi8d"
      },
      "source": [
        "## Concat sentence embeddings "
      ]
    },
    {
      "cell_type": "code",
      "metadata": {
        "id": "Rd7WGfFsSIMv"
      },
      "source": [
        "def fuse_question1_question2_by_concat(question1, question2):\n",
        "  fused_results = []\n",
        "  for q1, q2 in zip(question1, question2):\n",
        "    f = np.zeros(200)\n",
        "    f[0:100] = q1\n",
        "    f[100:200] = q2\n",
        "    fused_results.append(f)\n",
        "  return np.array(fused_results)"
      ],
      "execution_count": 65,
      "outputs": []
    },
    {
      "cell_type": "code",
      "metadata": {
        "id": "5Q-fU_rJSwCl"
      },
      "source": [
        "train_features = fuse_question1_question2_by_concat(train_question1_features, train_question2_features) \n",
        "test_features = fuse_question1_question2_by_concat(test_question1_features, test_question2_features)"
      ],
      "execution_count": 66,
      "outputs": []
    },
    {
      "cell_type": "code",
      "metadata": {
        "colab": {
          "base_uri": "https://localhost:8080/"
        },
        "id": "XtFB0kzT2_eG",
        "outputId": "33badf42-4a03-4faf-a0fb-a07ffd1f7fe8"
      },
      "source": [
        "len(train_features)"
      ],
      "execution_count": 67,
      "outputs": [
        {
          "output_type": "execute_result",
          "data": {
            "text/plain": [
              "404287"
            ]
          },
          "metadata": {
            "tags": []
          },
          "execution_count": 67
        }
      ]
    },
    {
      "cell_type": "code",
      "metadata": {
        "colab": {
          "base_uri": "https://localhost:8080/"
        },
        "id": "olJHkeGKS0dN",
        "outputId": "57741e36-c017-4d0c-f897-e1ce67cd99b1"
      },
      "source": [
        "train_features[-1].shape"
      ],
      "execution_count": 68,
      "outputs": [
        {
          "output_type": "execute_result",
          "data": {
            "text/plain": [
              "(200,)"
            ]
          },
          "metadata": {
            "tags": []
          },
          "execution_count": 68
        }
      ]
    },
    {
      "cell_type": "code",
      "metadata": {
        "colab": {
          "base_uri": "https://localhost:8080/"
        },
        "id": "8LNybgrE2hJ_",
        "outputId": "e7ed8151-8830-466f-e785-246d889f4999"
      },
      "source": [
        "type(train_features[-1])"
      ],
      "execution_count": 69,
      "outputs": [
        {
          "output_type": "execute_result",
          "data": {
            "text/plain": [
              "numpy.ndarray"
            ]
          },
          "metadata": {
            "tags": []
          },
          "execution_count": 69
        }
      ]
    },
    {
      "cell_type": "code",
      "metadata": {
        "colab": {
          "base_uri": "https://localhost:8080/"
        },
        "id": "S0szu2i8S42e",
        "outputId": "a79f12ff-23dd-48a2-c3bf-528a742b42db"
      },
      "source": [
        "test_features.shape"
      ],
      "execution_count": 70,
      "outputs": [
        {
          "output_type": "execute_result",
          "data": {
            "text/plain": [
              "(400000, 200)"
            ]
          },
          "metadata": {
            "tags": []
          },
          "execution_count": 70
        }
      ]
    },
    {
      "cell_type": "code",
      "metadata": {
        "id": "dKsYn7rYTe67"
      },
      "source": [
        "label = train_set['is_duplicate']"
      ],
      "execution_count": 71,
      "outputs": []
    },
    {
      "cell_type": "code",
      "metadata": {
        "colab": {
          "base_uri": "https://localhost:8080/"
        },
        "id": "t0K4p65V248k",
        "outputId": "2fa2e024-15d0-4a7d-a0bf-931899a4d5ff"
      },
      "source": [
        "len(label)"
      ],
      "execution_count": 72,
      "outputs": [
        {
          "output_type": "execute_result",
          "data": {
            "text/plain": [
              "404287"
            ]
          },
          "metadata": {
            "tags": []
          },
          "execution_count": 72
        }
      ]
    },
    {
      "cell_type": "code",
      "metadata": {
        "colab": {
          "base_uri": "https://localhost:8080/"
        },
        "id": "h0TKDKj6S7O3",
        "outputId": "c4f4a933-ace1-468b-b9f8-cc89aa3236c1"
      },
      "source": [
        "train_set['is_duplicate'].value_counts()"
      ],
      "execution_count": 73,
      "outputs": [
        {
          "output_type": "execute_result",
          "data": {
            "text/plain": [
              "0    255024\n",
              "1    149263\n",
              "Name: is_duplicate, dtype: int64"
            ]
          },
          "metadata": {
            "tags": []
          },
          "execution_count": 73
        }
      ]
    },
    {
      "cell_type": "markdown",
      "metadata": {
        "id": "86uz7pSHTMWZ"
      },
      "source": [
        "## Train & Validate"
      ]
    },
    {
      "cell_type": "code",
      "metadata": {
        "id": "2HMj_85sTGYX"
      },
      "source": [
        "from sklearn.model_selection import train_test_split"
      ],
      "execution_count": 74,
      "outputs": []
    },
    {
      "cell_type": "code",
      "metadata": {
        "id": "S549S7s_Takm"
      },
      "source": [
        "X_train, X_test, y_train, y_test = train_test_split(train_features, \n",
        "                                                    label, \n",
        "                                                    test_size=0.3, \n",
        "                                                    stratify=label, \n",
        "                                                    random_state=0)"
      ],
      "execution_count": 75,
      "outputs": []
    },
    {
      "cell_type": "markdown",
      "metadata": {
        "id": "pFCpSTKZT0fo"
      },
      "source": [
        "### Neural Network"
      ]
    },
    {
      "cell_type": "code",
      "metadata": {
        "id": "aZD4ZJR9TuvG"
      },
      "source": [
        "import tensorflow as tf"
      ],
      "execution_count": 76,
      "outputs": []
    },
    {
      "cell_type": "code",
      "metadata": {
        "colab": {
          "base_uri": "https://localhost:8080/",
          "height": 36
        },
        "id": "VqRRsuCdT5vb",
        "outputId": "48510313-f554-4c1c-d228-fcb56803585d"
      },
      "source": [
        "tf.__version__"
      ],
      "execution_count": 77,
      "outputs": [
        {
          "output_type": "execute_result",
          "data": {
            "application/vnd.google.colaboratory.intrinsic+json": {
              "type": "string"
            },
            "text/plain": [
              "'2.5.0'"
            ]
          },
          "metadata": {
            "tags": []
          },
          "execution_count": 77
        }
      ]
    },
    {
      "cell_type": "code",
      "metadata": {
        "id": "zAenOAu9T7nY"
      },
      "source": [
        "import keras \n",
        "from keras.models import Sequential\n",
        "from keras.layers import Dense, Activation"
      ],
      "execution_count": 78,
      "outputs": []
    },
    {
      "cell_type": "markdown",
      "metadata": {
        "id": "Ne19JnAXcRWL"
      },
      "source": [
        "#### Early stop (BEST - val_accuracy: 0.792)\n",
        "* stop the model training if it **no longer improves**"
      ]
    },
    {
      "cell_type": "code",
      "metadata": {
        "id": "u5aQHQTNcF8N"
      },
      "source": [
        "from keras.callbacks import EarlyStopping"
      ],
      "execution_count": 86,
      "outputs": []
    },
    {
      "cell_type": "code",
      "metadata": {
        "id": "icXvpbn2dJQr"
      },
      "source": [
        "model_earlyStop=Sequential()\n",
        "model_earlyStop.add(Dense(units=256, input_dim=200, activation='relu'))\n",
        "model_earlyStop.add(Dense(units=256, input_dim=256, activation='relu'))\n",
        "model_earlyStop.add(Dense(units=1, input_dim=256, activation='sigmoid'))\n",
        "model_earlyStop.compile(\n",
        "    loss='binary_crossentropy',\n",
        "    optimizer=keras.optimizers.Adam(learning_rate=0.01),\n",
        "    metrics = ['accuracy'])"
      ],
      "execution_count": 87,
      "outputs": []
    },
    {
      "cell_type": "code",
      "metadata": {
        "colab": {
          "base_uri": "https://localhost:8080/"
        },
        "id": "-C2ydsLn9hSQ",
        "outputId": "705e9d47-5920-4220-e533-2446e5feec16"
      },
      "source": [
        "model_earlyStop.summary()"
      ],
      "execution_count": 89,
      "outputs": [
        {
          "output_type": "stream",
          "text": [
            "Model: \"sequential_2\"\n",
            "_________________________________________________________________\n",
            "Layer (type)                 Output Shape              Param #   \n",
            "=================================================================\n",
            "dense_6 (Dense)              (None, 256)               51456     \n",
            "_________________________________________________________________\n",
            "dense_7 (Dense)              (None, 256)               65792     \n",
            "_________________________________________________________________\n",
            "dense_8 (Dense)              (None, 1)                 257       \n",
            "=================================================================\n",
            "Total params: 117,505\n",
            "Trainable params: 117,505\n",
            "Non-trainable params: 0\n",
            "_________________________________________________________________\n"
          ],
          "name": "stdout"
        }
      ]
    },
    {
      "cell_type": "code",
      "metadata": {
        "colab": {
          "base_uri": "https://localhost:8080/"
        },
        "id": "365laUOfcab2",
        "outputId": "d68b13e2-38dc-4a0d-ed90-c5919e1d3cdc"
      },
      "source": [
        "monitor_val_acc = EarlyStopping(monitor='val_accuracy',patience = 5)\n",
        "\n",
        "h_callback = model_earlyStop.fit(X_train, y_train, epochs = 50, validation_data=(X_test, y_test), callbacks=[monitor_val_acc])"
      ],
      "execution_count": 92,
      "outputs": [
        {
          "output_type": "stream",
          "text": [
            "Epoch 1/50\n",
            "8844/8844 [==============================] - 31s 4ms/step - loss: 0.4937 - accuracy: 0.7490 - val_loss: 0.4815 - val_accuracy: 0.7555\n",
            "Epoch 2/50\n",
            "8844/8844 [==============================] - 31s 3ms/step - loss: 0.4819 - accuracy: 0.7537 - val_loss: 0.5001 - val_accuracy: 0.7352\n",
            "Epoch 3/50\n",
            "8844/8844 [==============================] - 31s 3ms/step - loss: 0.4733 - accuracy: 0.7586 - val_loss: 0.4690 - val_accuracy: 0.7604\n",
            "Epoch 4/50\n",
            "8844/8844 [==============================] - 31s 4ms/step - loss: 0.4659 - accuracy: 0.7622 - val_loss: 0.4940 - val_accuracy: 0.7584\n",
            "Epoch 5/50\n",
            "8844/8844 [==============================] - 31s 3ms/step - loss: 0.4602 - accuracy: 0.7663 - val_loss: 0.4658 - val_accuracy: 0.7619\n",
            "Epoch 6/50\n",
            "8844/8844 [==============================] - 31s 4ms/step - loss: 0.4560 - accuracy: 0.7681 - val_loss: 0.4719 - val_accuracy: 0.7519\n",
            "Epoch 7/50\n",
            "8844/8844 [==============================] - 31s 3ms/step - loss: 0.4510 - accuracy: 0.7687 - val_loss: 0.5087 - val_accuracy: 0.7627\n",
            "Epoch 8/50\n",
            "8844/8844 [==============================] - 31s 3ms/step - loss: 0.4485 - accuracy: 0.7693 - val_loss: 0.4651 - val_accuracy: 0.7618\n",
            "Epoch 9/50\n",
            "8844/8844 [==============================] - 31s 3ms/step - loss: 0.4451 - accuracy: 0.7707 - val_loss: 0.5050 - val_accuracy: 0.7471\n",
            "Epoch 10/50\n",
            "8844/8844 [==============================] - 31s 3ms/step - loss: 0.4413 - accuracy: 0.7725 - val_loss: 0.4769 - val_accuracy: 0.7648\n",
            "Epoch 11/50\n",
            "8844/8844 [==============================] - 31s 3ms/step - loss: 0.4397 - accuracy: 0.7738 - val_loss: 0.4683 - val_accuracy: 0.7682\n",
            "Epoch 12/50\n",
            "8844/8844 [==============================] - 31s 3ms/step - loss: 0.4366 - accuracy: 0.7762 - val_loss: 0.4929 - val_accuracy: 0.7623\n",
            "Epoch 13/50\n",
            "8844/8844 [==============================] - 30s 3ms/step - loss: 0.4336 - accuracy: 0.7784 - val_loss: 0.5057 - val_accuracy: 0.7652\n",
            "Epoch 14/50\n",
            "8844/8844 [==============================] - 31s 3ms/step - loss: 0.4313 - accuracy: 0.7806 - val_loss: 0.4702 - val_accuracy: 0.7572\n",
            "Epoch 15/50\n",
            "8844/8844 [==============================] - 30s 3ms/step - loss: 0.4293 - accuracy: 0.7813 - val_loss: 0.4888 - val_accuracy: 0.7591\n",
            "Epoch 16/50\n",
            "8844/8844 [==============================] - 31s 3ms/step - loss: 0.4247 - accuracy: 0.7829 - val_loss: 0.4769 - val_accuracy: 0.7517\n"
          ],
          "name": "stdout"
        }
      ]
    },
    {
      "cell_type": "markdown",
      "metadata": {
        "id": "_1O0HCG9YMB8"
      },
      "source": [
        "#### Plot loss and accuracy "
      ]
    },
    {
      "cell_type": "code",
      "metadata": {
        "id": "YP5kMGUab-01"
      },
      "source": [
        "import matplotlib.pyplot as plt\n"
      ],
      "execution_count": 93,
      "outputs": []
    },
    {
      "cell_type": "code",
      "metadata": {
        "id": "1MNLJGrOVs1f"
      },
      "source": [
        "def show_history(history):\n",
        "\n",
        "    loss = history.history['loss']\n",
        "    val_loss = history.history['val_loss']\n",
        "    train_score = history.history['accuracy']\n",
        "    val_score = history.history['val_accuracy']\n",
        "    \n",
        "    start = 1\n",
        "\n",
        "    epochs = range(len(loss))\n",
        "\n",
        "    plt.figure(figsize=(12, 5))\n",
        "\n",
        "    plt.subplot(1, 2, 1)\n",
        "    plt.plot(epochs[start:], loss[start:], 'bo', label='Training loss')\n",
        "    plt.plot(epochs[start:], val_loss[start:], 'r', label='Validation loss')\n",
        "    plt.title('Training and Validation Loss')\n",
        "    plt.legend()\n",
        "\n",
        "    plt.subplot(1, 2, 2)\n",
        "    plt.plot(epochs[start:], train_score[start:], 'bo', label='Training accuracy')\n",
        "    plt.plot(epochs[start:], val_score[start:], 'r', label='Validation accuracy')   \n",
        "    plt.title('Training and Validation Accuracy')\n",
        "    plt.legend()\n",
        "    \n",
        "    \n",
        "    plt.tight_layout()\n",
        "    plt.show() "
      ],
      "execution_count": 96,
      "outputs": []
    },
    {
      "cell_type": "code",
      "metadata": {
        "id": "cUMEb0o9Yt6B"
      },
      "source": [
        "# show_history(h_callback)"
      ],
      "execution_count": 100,
      "outputs": []
    },
    {
      "cell_type": "code",
      "metadata": {
        "id": "Mqs77qKq_yGp"
      },
      "source": [
        ""
      ],
      "execution_count": null,
      "outputs": []
    }
  ]
}